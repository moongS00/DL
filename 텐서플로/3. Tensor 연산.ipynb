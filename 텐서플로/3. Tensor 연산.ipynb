{
 "cells": [
  {
   "cell_type": "code",
   "execution_count": 1,
   "id": "546fc02a",
   "metadata": {},
   "outputs": [],
   "source": [
    "import tensorflow as tf\n",
    "import numpy as np"
   ]
  },
  {
   "cell_type": "markdown",
   "id": "07ccb584",
   "metadata": {},
   "source": [
    "# Tensor연산\n",
    "아래의 기본 연산은 특수 매서드를 이용하여 연산자 오버로딩이 되어 있으므로, 그냥 연산자 기호를 사용하는 게 가능\n",
    "- `tf.add`:덧셈\n",
    "- `tf.subtract`:뺄셈\n",
    "- `tf.multiply`:곱셈\n",
    "- `tf.divide`:나눗셈\n",
    "- `tf.pow`:제곱\n",
    "- `tf.negative`:음수부호"
   ]
  },
  {
   "cell_type": "code",
   "execution_count": 3,
   "id": "f8dd0dee",
   "metadata": {},
   "outputs": [
    {
     "data": {
      "text/plain": [
       "<tf.Tensor: shape=(6,), dtype=int32, numpy=array([2, 3, 4, 5, 6, 7])>"
      ]
     },
     "execution_count": 3,
     "metadata": {},
     "output_type": "execute_result"
    }
   ],
   "source": [
    "a = tf.range(6, dtype=\"int32\")\n",
    "b = 2*tf.ones(6, dtype='int32')\n",
    "\n",
    "tf.add(a, b)"
   ]
  },
  {
   "cell_type": "code",
   "execution_count": 4,
   "id": "3c386bb6",
   "metadata": {},
   "outputs": [
    {
     "data": {
      "text/plain": [
       "<tf.Tensor: shape=(6,), dtype=int32, numpy=array([2, 3, 4, 5, 6, 7])>"
      ]
     },
     "execution_count": 4,
     "metadata": {},
     "output_type": "execute_result"
    }
   ],
   "source": [
    "a+b"
   ]
  },
  {
   "cell_type": "markdown",
   "id": "ebb628e0",
   "metadata": {},
   "source": [
    "## 여러가지 연산\n",
    "- `tf.abs`:절대값\n",
    "- `tf.sign`:부호\n",
    "- `tf.round`:반올림\n",
    "- `tf.ceil`:올림\n",
    "- `tf.floor`:내림\n",
    "- `tf.square`:제곱\n",
    "- `tf.sqrt`:제곱근\n",
    "- `tf.maximum`:두 텐서의 각 원소에서 최대값만 반환\n",
    "- `tf.minimum`: 두 텐서의 각 원소에서 최솟값만 반환\n",
    "- `tf.cumsum`:누적합\n",
    "- `tf.cumprod`:누적곱"
   ]
  },
  {
   "cell_type": "code",
   "execution_count": 5,
   "id": "7243c585",
   "metadata": {},
   "outputs": [
    {
     "data": {
      "text/plain": [
       "<tf.Tensor: shape=(6,), dtype=int32, numpy=array([2, 2, 2, 3, 4, 5])>"
      ]
     },
     "execution_count": 5,
     "metadata": {},
     "output_type": "execute_result"
    }
   ],
   "source": [
    "tf.maximum(a, b)"
   ]
  },
  {
   "cell_type": "code",
   "execution_count": 6,
   "id": "4b589710",
   "metadata": {},
   "outputs": [
    {
     "data": {
      "text/plain": [
       "<tf.Tensor: shape=(6,), dtype=float32, numpy=\n",
       "array([0.       , 1.       , 1.4142135, 1.7320508, 2.       , 2.236068 ],\n",
       "      dtype=float32)>"
      ]
     },
     "execution_count": 6,
     "metadata": {},
     "output_type": "execute_result"
    }
   ],
   "source": [
    "tf.sqrt(tf.cast(a, tf.float32))"
   ]
  },
  {
   "cell_type": "markdown",
   "id": "9cf6472a",
   "metadata": {},
   "source": [
    "## Axis 이해하기"
   ]
  },
  {
   "cell_type": "code",
   "execution_count": 7,
   "id": "985d61ab",
   "metadata": {},
   "outputs": [
    {
     "data": {
      "text/plain": [
       "<tf.Tensor: shape=(3, 3), dtype=float32, numpy=\n",
       "array([[-1.581969  ,  0.0331114 , -2.3940187 ],\n",
       "       [-1.1971556 , -0.10683604, -0.22194177],\n",
       "       [-2.4325974 ,  0.46138558, -1.2493757 ]], dtype=float32)>"
      ]
     },
     "execution_count": 7,
     "metadata": {},
     "output_type": "execute_result"
    }
   ],
   "source": [
    "rank_2 = tf.random.normal((3, 3))\n",
    "rank_2"
   ]
  },
  {
   "cell_type": "code",
   "execution_count": 8,
   "id": "44a01bc8",
   "metadata": {},
   "outputs": [
    {
     "data": {
      "text/plain": [
       "<tf.Tensor: shape=(3,), dtype=float32, numpy=array([-1.1971556 , -0.10683604, -0.22194177], dtype=float32)>"
      ]
     },
     "execution_count": 8,
     "metadata": {},
     "output_type": "execute_result"
    }
   ],
   "source": [
    "rank_2[1]"
   ]
  },
  {
   "cell_type": "code",
   "execution_count": 9,
   "id": "f3095057",
   "metadata": {},
   "outputs": [
    {
     "data": {
      "text/plain": [
       "<tf.Tensor: shape=(), dtype=float32, numpy=-0.22194177>"
      ]
     },
     "execution_count": 9,
     "metadata": {},
     "output_type": "execute_result"
    }
   ],
   "source": [
    "rank_2[1, 2]"
   ]
  },
  {
   "cell_type": "code",
   "execution_count": 10,
   "id": "68b6baf3",
   "metadata": {},
   "outputs": [
    {
     "data": {
      "text/plain": [
       "<tf.Tensor: shape=(3, 3, 3), dtype=float32, numpy=\n",
       "array([[[ 1.4578198 , -0.49190137, -0.41990036],\n",
       "        [-0.09744671,  0.09744209,  1.5048529 ],\n",
       "        [ 1.2968284 , -0.76687443,  0.69980395]],\n",
       "\n",
       "       [[ 1.155103  , -0.92086995,  1.2764422 ],\n",
       "        [-0.8823539 , -0.7950498 , -1.8147137 ],\n",
       "        [-0.08087288, -3.0330548 , -1.9147419 ]],\n",
       "\n",
       "       [[ 0.27394328, -0.03218214,  1.1135783 ],\n",
       "        [-0.937448  , -0.610846  ,  1.6937248 ],\n",
       "        [-0.63585883, -0.75830764,  1.283583  ]]], dtype=float32)>"
      ]
     },
     "execution_count": 10,
     "metadata": {},
     "output_type": "execute_result"
    }
   ],
   "source": [
    "rank_3 = tf.random.normal((3, 3, 3))\n",
    "rank_3"
   ]
  },
  {
   "cell_type": "markdown",
   "id": "e31000a5",
   "metadata": {},
   "source": [
    " ## 차원축소연산\n",
    "- `tf.reduce_mean`:설정한 축의 평균을 구한다\n",
    "- `tf.reduce_max`:설정한 축의 최대값\n",
    "- `tf.reduce_min`: 설정한 축의 최솟값\n",
    "- `tf.reduce_prod`:설정한 축의 요소를 모두 곱한 값\n",
    "- `tf.reduce_sum`:설정한 축의 요소를 모두 더한 값"
   ]
  },
  {
   "cell_type": "code",
   "execution_count": 11,
   "id": "bf7cf450",
   "metadata": {},
   "outputs": [
    {
     "data": {
      "text/plain": [
       "<tf.Tensor: shape=(6,), dtype=int32, numpy=array([0, 1, 2, 3, 4, 5])>"
      ]
     },
     "execution_count": 11,
     "metadata": {},
     "output_type": "execute_result"
    }
   ],
   "source": [
    "a"
   ]
  },
  {
   "cell_type": "code",
   "execution_count": 12,
   "id": "0ce4b536",
   "metadata": {},
   "outputs": [
    {
     "data": {
      "text/plain": [
       "<tf.Tensor: shape=(), dtype=int32, numpy=15>"
      ]
     },
     "execution_count": 12,
     "metadata": {},
     "output_type": "execute_result"
    }
   ],
   "source": [
    "tf.reduce_sum(a, axis=0)"
   ]
  },
  {
   "cell_type": "code",
   "execution_count": 13,
   "id": "d49b7876",
   "metadata": {},
   "outputs": [
    {
     "data": {
      "text/plain": [
       "<tf.Tensor: shape=(1,), dtype=int32, numpy=array([15])>"
      ]
     },
     "execution_count": 13,
     "metadata": {},
     "output_type": "execute_result"
    }
   ],
   "source": [
    "tf.reduce_sum(a, axis=0, keepdims=True)"
   ]
  },
  {
   "cell_type": "code",
   "execution_count": 16,
   "id": "c0c44791",
   "metadata": {},
   "outputs": [
    {
     "data": {
      "text/plain": [
       "<tf.Tensor: shape=(2, 4, 3), dtype=float32, numpy=\n",
       "array([[[ 0.01747768, -0.46500602, -1.955529  ],\n",
       "        [ 0.39811966, -1.9748548 , -0.8646807 ],\n",
       "        [ 0.28892848,  0.5696079 ,  1.0596219 ],\n",
       "        [ 0.19579932, -0.8834644 , -0.70702696]],\n",
       "\n",
       "       [[ 1.072388  ,  0.09778222, -0.0999762 ],\n",
       "        [ 0.46455625, -0.00732202,  0.034938  ],\n",
       "        [-0.01832083, -0.9854164 , -1.0013884 ],\n",
       "        [-0.30025977,  1.3151168 ,  0.02515507]]], dtype=float32)>"
      ]
     },
     "execution_count": 16,
     "metadata": {},
     "output_type": "execute_result"
    }
   ],
   "source": [
    "b = tf.random.normal((2, 4, 3))\n",
    "b"
   ]
  },
  {
   "cell_type": "code",
   "execution_count": 17,
   "id": "a593aadf",
   "metadata": {},
   "outputs": [
    {
     "data": {
      "text/plain": [
       "<tf.Tensor: shape=(4, 3), dtype=float32, numpy=\n",
       "array([[ 0.54493284, -0.1836119 , -1.0277526 ],\n",
       "       [ 0.43133795, -0.99108845, -0.41487136],\n",
       "       [ 0.13530383, -0.20790425,  0.02911675],\n",
       "       [-0.05223022,  0.21582618, -0.34093595]], dtype=float32)>"
      ]
     },
     "execution_count": 17,
     "metadata": {},
     "output_type": "execute_result"
    }
   ],
   "source": [
    "tf.reduce_mean(b, 0)"
   ]
  },
  {
   "cell_type": "code",
   "execution_count": 18,
   "id": "ff316d09",
   "metadata": {},
   "outputs": [
    {
     "data": {
      "text/plain": [
       "<tf.Tensor: shape=(2, 3), dtype=float32, numpy=\n",
       "array([[ 0.2250813 , -0.6884293 , -0.61690366],\n",
       "       [ 0.30459094,  0.10504013, -0.2603179 ]], dtype=float32)>"
      ]
     },
     "execution_count": 18,
     "metadata": {},
     "output_type": "execute_result"
    }
   ],
   "source": [
    "tf.reduce_mean(b, 1)"
   ]
  },
  {
   "cell_type": "code",
   "execution_count": 19,
   "id": "323cec87",
   "metadata": {},
   "outputs": [
    {
     "data": {
      "text/plain": [
       "<tf.Tensor: shape=(2, 4), dtype=float32, numpy=\n",
       "array([[-0.80101913, -0.8138053 ,  0.6393861 , -0.46489736],\n",
       "       [ 0.35673138,  0.16405742, -0.6683752 ,  0.34667072]],\n",
       "      dtype=float32)>"
      ]
     },
     "execution_count": 19,
     "metadata": {},
     "output_type": "execute_result"
    }
   ],
   "source": [
    "tf.reduce_mean(b, 2)"
   ]
  },
  {
   "cell_type": "markdown",
   "id": "ddee3b54",
   "metadata": {},
   "source": [
    "## 행렬과 관련된 연산\n",
    "- `tf.matmul`:내적\n",
    "- `tf.linalg.inv`:역행렬"
   ]
  },
  {
   "cell_type": "code",
   "execution_count": 21,
   "id": "4d65f32d",
   "metadata": {},
   "outputs": [
    {
     "data": {
      "text/plain": [
       "<tf.Tensor: shape=(2, 2), dtype=float32, numpy=\n",
       "array([[2., 2.],\n",
       "       [1., 1.]], dtype=float32)>"
      ]
     },
     "execution_count": 21,
     "metadata": {},
     "output_type": "execute_result"
    }
   ],
   "source": [
    "a = tf.constant([[2, 0], [0, 1]], dtype='float32')\n",
    "b = tf.constant([[1, 1], [1, 1]], dtype='float32')\n",
    "tf.matmul(a, b)"
   ]
  },
  {
   "cell_type": "code",
   "execution_count": 22,
   "id": "6ecb9986",
   "metadata": {},
   "outputs": [
    {
     "data": {
      "text/plain": [
       "<tf.Tensor: shape=(2, 2), dtype=float32, numpy=\n",
       "array([[0.5, 0. ],\n",
       "       [0. , 1. ]], dtype=float32)>"
      ]
     },
     "execution_count": 22,
     "metadata": {},
     "output_type": "execute_result"
    }
   ],
   "source": [
    "a = tf.constant([[2, 0], [0, 1]], dtype='float32')\n",
    "tf.linalg.inv(a)"
   ]
  },
  {
   "cell_type": "markdown",
   "id": "79636b96",
   "metadata": {},
   "source": [
    "## 크기 및 차원을 바꾸는 명령\n",
    "- `tf.reshape`:벡터 행렬의 크기변환\n",
    "- `tf.transpose`:전치연산\n",
    "- `tf.expand_dims`:지정한 축으로 차원 추가\n",
    "- `tf.squeeze`:벡터 차원을 축소"
   ]
  },
  {
   "cell_type": "code",
   "execution_count": 23,
   "id": "7975650e",
   "metadata": {},
   "outputs": [
    {
     "data": {
      "text/plain": [
       "<tf.Tensor: shape=(6,), dtype=int32, numpy=array([0, 1, 2, 3, 4, 5])>"
      ]
     },
     "execution_count": 23,
     "metadata": {},
     "output_type": "execute_result"
    }
   ],
   "source": [
    "a = tf.range(6, dtype=tf.int32)\n",
    "a"
   ]
  },
  {
   "cell_type": "code",
   "execution_count": 25,
   "id": "4eb39f26",
   "metadata": {},
   "outputs": [
    {
     "data": {
      "text/plain": [
       "<tf.Tensor: shape=(2, 3), dtype=int32, numpy=\n",
       "array([[0, 1, 2],\n",
       "       [3, 4, 5]])>"
      ]
     },
     "execution_count": 25,
     "metadata": {},
     "output_type": "execute_result"
    }
   ],
   "source": [
    "a_2d = tf.reshape(a, (2,3)) \n",
    "a_2d"
   ]
  },
  {
   "cell_type": "markdown",
   "id": "a1be472b",
   "metadata": {},
   "source": [
    "- 1차원 벡터를 2x3 크기의 2차원 행렬로 변환"
   ]
  },
  {
   "cell_type": "code",
   "execution_count": 26,
   "id": "348578bc",
   "metadata": {},
   "outputs": [
    {
     "data": {
      "text/plain": [
       "<tf.Tensor: shape=(3, 2), dtype=int32, numpy=\n",
       "array([[0, 3],\n",
       "       [1, 4],\n",
       "       [2, 5]])>"
      ]
     },
     "execution_count": 26,
     "metadata": {},
     "output_type": "execute_result"
    }
   ],
   "source": [
    "a_2d_t = tf.transpose(a_2d)\n",
    "a_2d_t"
   ]
  },
  {
   "cell_type": "markdown",
   "id": "b0f5a8af",
   "metadata": {},
   "source": [
    "- 2x3 행렬을 3x2 행렬로 변환"
   ]
  },
  {
   "cell_type": "code",
   "execution_count": 27,
   "id": "6300e791",
   "metadata": {},
   "outputs": [
    {
     "data": {
      "text/plain": [
       "<tf.Tensor: shape=(1, 2, 3), dtype=int32, numpy=\n",
       "array([[[0, 1, 2],\n",
       "        [3, 4, 5]]])>"
      ]
     },
     "execution_count": 27,
     "metadata": {},
     "output_type": "execute_result"
    }
   ],
   "source": [
    "a_3d = tf.expand_dims(a_2d, 0)\n",
    "a_3d"
   ]
  },
  {
   "cell_type": "markdown",
   "id": "c3d08df1",
   "metadata": {},
   "source": [
    "- 2x3 행렬을 1x2x3 행렬로 변환"
   ]
  },
  {
   "cell_type": "code",
   "execution_count": 31,
   "id": "2b50c5f0",
   "metadata": {},
   "outputs": [
    {
     "data": {
      "text/plain": [
       "<tf.Tensor: shape=(2, 1, 3), dtype=int32, numpy=\n",
       "array([[[0, 1, 2]],\n",
       "\n",
       "       [[3, 4, 5]]])>"
      ]
     },
     "execution_count": 31,
     "metadata": {},
     "output_type": "execute_result"
    }
   ],
   "source": [
    "tf.expand_dims(a_2d, 1)"
   ]
  },
  {
   "cell_type": "markdown",
   "id": "ed26974d",
   "metadata": {},
   "source": [
    "- 2x3 행렬을 2x1x3 행렬로 변환"
   ]
  },
  {
   "cell_type": "code",
   "execution_count": 29,
   "id": "6a91546b",
   "metadata": {},
   "outputs": [
    {
     "data": {
      "text/plain": [
       "<tf.Tensor: shape=(1, 2, 3, 1), dtype=int32, numpy=\n",
       "array([[[[0],\n",
       "         [1],\n",
       "         [2]],\n",
       "\n",
       "        [[3],\n",
       "         [4],\n",
       "         [5]]]])>"
      ]
     },
     "execution_count": 29,
     "metadata": {},
     "output_type": "execute_result"
    }
   ],
   "source": [
    "a_4d = tf.expand_dims(a_3d, 3)\n",
    "a_4d"
   ]
  },
  {
   "cell_type": "markdown",
   "id": "e3a54458",
   "metadata": {},
   "source": [
    "- 1x2x3 행렬을 1x2x3x1 행렬로 변환"
   ]
  },
  {
   "cell_type": "code",
   "execution_count": 30,
   "id": "b7ee9874",
   "metadata": {},
   "outputs": [
    {
     "data": {
      "text/plain": [
       "<tf.Tensor: shape=(2, 3), dtype=int32, numpy=\n",
       "array([[0, 1, 2],\n",
       "       [3, 4, 5]])>"
      ]
     },
     "execution_count": 30,
     "metadata": {},
     "output_type": "execute_result"
    }
   ],
   "source": [
    "a_1d = tf.squeeze(a_4d)\n",
    "a_1d"
   ]
  },
  {
   "cell_type": "markdown",
   "id": "6a415329",
   "metadata": {},
   "source": [
    "- 1x2x3x1 행렬에서 원소 개수가 1인 차원을 모두 없앤다.\n",
    "- axis=3 처럼 특정 차원만 지정 가능\n",
    "- 근데 axis=2 처럼 원소개수가 1이 아닌 차원을 지정하면 오류가 발생한다."
   ]
  },
  {
   "cell_type": "markdown",
   "id": "96af34e5",
   "metadata": {},
   "source": [
    "## 텐서를 나누거나 두개 이상의 텐서를 합치는 명령\n",
    "\n",
    "- `tf.slice`:특정 부분을 추출\n",
    "- `tf.split`:분할\n",
    "- `tf.concat`:합치기\n",
    "- `tf.tile`:복제-붙이기\n",
    "- `tf.stack`:합성\n",
    "- `tf.unstack`:분리"
   ]
  },
  {
   "cell_type": "code",
   "execution_count": 36,
   "id": "c1f72b20",
   "metadata": {},
   "outputs": [
    {
     "data": {
      "text/plain": [
       "<tf.Tensor: shape=(3, 4), dtype=int32, numpy=\n",
       "array([[ 0,  1,  2,  3],\n",
       "       [ 4,  5,  6,  7],\n",
       "       [ 8,  9, 10, 11]])>"
      ]
     },
     "execution_count": 36,
     "metadata": {},
     "output_type": "execute_result"
    }
   ],
   "source": [
    "a = tf.reshape(tf.range(12), (3, 4))\n",
    "a"
   ]
  },
  {
   "cell_type": "code",
   "execution_count": 37,
   "id": "7c36dcf6",
   "metadata": {},
   "outputs": [
    {
     "data": {
      "text/plain": [
       "<tf.Tensor: shape=(2, 3), dtype=int32, numpy=\n",
       "array([[1, 2, 3],\n",
       "       [5, 6, 7]])>"
      ]
     },
     "execution_count": 37,
     "metadata": {},
     "output_type": "execute_result"
    }
   ],
   "source": [
    "tf.slice(a, [0, 1], [2, 3]) "
   ]
  },
  {
   "cell_type": "markdown",
   "id": "07032ab7",
   "metadata": {},
   "source": [
    "- [0, 1]위치를 기준으로 [2, 3]만큼 뽑아낸다."
   ]
  },
  {
   "cell_type": "code",
   "execution_count": 38,
   "id": "c51557cf",
   "metadata": {},
   "outputs": [
    {
     "name": "stdout",
     "output_type": "stream",
     "text": [
      "tf.Tensor(\n",
      "[[0 1]\n",
      " [4 5]\n",
      " [8 9]], shape=(3, 2), dtype=int32)\n",
      "tf.Tensor(\n",
      "[[ 2  3]\n",
      " [ 6  7]\n",
      " [10 11]], shape=(3, 2), dtype=int32)\n"
     ]
    }
   ],
   "source": [
    "a1, a2 = tf.split(a, num_or_size_splits=2, axis=1)\n",
    "print(a1)\n",
    "print(a2)"
   ]
  },
  {
   "cell_type": "markdown",
   "id": "d79055ff",
   "metadata": {},
   "source": [
    "- 가로축(axis=1)을 따라 2개로 분할"
   ]
  },
  {
   "cell_type": "code",
   "execution_count": 39,
   "id": "b60bf6c3",
   "metadata": {},
   "outputs": [
    {
     "data": {
      "text/plain": [
       "<tf.Tensor: shape=(3, 4), dtype=int32, numpy=\n",
       "array([[ 0,  1,  2,  3],\n",
       "       [ 4,  5,  6,  7],\n",
       "       [ 8,  9, 10, 11]])>"
      ]
     },
     "execution_count": 39,
     "metadata": {},
     "output_type": "execute_result"
    }
   ],
   "source": [
    "tf.concat([a1, a2], 1)"
   ]
  },
  {
   "cell_type": "markdown",
   "id": "bedf8a0e",
   "metadata": {},
   "source": [
    "- axis=1을 기준으로 합침"
   ]
  },
  {
   "cell_type": "code",
   "execution_count": 44,
   "id": "dc1710ef",
   "metadata": {},
   "outputs": [
    {
     "data": {
      "text/plain": [
       "<tf.Tensor: shape=(6, 2), dtype=int32, numpy=\n",
       "array([[ 0,  1],\n",
       "       [ 4,  5],\n",
       "       [ 8,  9],\n",
       "       [ 2,  3],\n",
       "       [ 6,  7],\n",
       "       [10, 11]])>"
      ]
     },
     "execution_count": 44,
     "metadata": {},
     "output_type": "execute_result"
    }
   ],
   "source": [
    "tf.concat([a1, a2],0)"
   ]
  },
  {
   "cell_type": "markdown",
   "id": "f6a8886c",
   "metadata": {},
   "source": [
    "- axis=0을 기준으로 합침"
   ]
  },
  {
   "cell_type": "code",
   "execution_count": 40,
   "id": "366b4cb1",
   "metadata": {},
   "outputs": [
    {
     "data": {
      "text/plain": [
       "<tf.Tensor: shape=(3, 6), dtype=int32, numpy=\n",
       "array([[0, 1, 0, 1, 0, 1],\n",
       "       [4, 5, 4, 5, 4, 5],\n",
       "       [8, 9, 8, 9, 8, 9]])>"
      ]
     },
     "execution_count": 40,
     "metadata": {},
     "output_type": "execute_result"
    }
   ],
   "source": [
    "tf.tile(a1, [1, 3])"
   ]
  },
  {
   "cell_type": "markdown",
   "id": "8a75e324",
   "metadata": {},
   "source": [
    "- a1을 [1, 3] 행렬로 배치"
   ]
  },
  {
   "cell_type": "code",
   "execution_count": 42,
   "id": "7b7386d8",
   "metadata": {},
   "outputs": [
    {
     "data": {
      "text/plain": [
       "<tf.Tensor: shape=(6, 6), dtype=int32, numpy=\n",
       "array([[0, 1, 0, 1, 0, 1],\n",
       "       [4, 5, 4, 5, 4, 5],\n",
       "       [8, 9, 8, 9, 8, 9],\n",
       "       [0, 1, 0, 1, 0, 1],\n",
       "       [4, 5, 4, 5, 4, 5],\n",
       "       [8, 9, 8, 9, 8, 9]])>"
      ]
     },
     "execution_count": 42,
     "metadata": {},
     "output_type": "execute_result"
    }
   ],
   "source": [
    "tf.tile(a1, [2, 3])"
   ]
  },
  {
   "cell_type": "markdown",
   "id": "cb092e87",
   "metadata": {},
   "source": [
    "- a1을 [2, 3] 행렬로 배치"
   ]
  },
  {
   "cell_type": "code",
   "execution_count": 43,
   "id": "c97b21ca",
   "metadata": {},
   "outputs": [
    {
     "data": {
      "text/plain": [
       "<tf.Tensor: shape=(2, 3, 2), dtype=int32, numpy=\n",
       "array([[[ 0,  1],\n",
       "        [ 4,  5],\n",
       "        [ 8,  9]],\n",
       "\n",
       "       [[ 2,  3],\n",
       "        [ 6,  7],\n",
       "        [10, 11]]])>"
      ]
     },
     "execution_count": 43,
     "metadata": {},
     "output_type": "execute_result"
    }
   ],
   "source": [
    "a3 = tf.stack([a1, a2])\n",
    "a3"
   ]
  },
  {
   "cell_type": "markdown",
   "id": "7e80f9b1",
   "metadata": {},
   "source": [
    "- 3x2 행렬인 a1, a2를 추가적인 차원으로 붙여서 2x3x2 행렬 생성"
   ]
  },
  {
   "cell_type": "code",
   "execution_count": 47,
   "id": "d3139969",
   "metadata": {},
   "outputs": [
    {
     "data": {
      "text/plain": [
       "[<tf.Tensor: shape=(3, 2), dtype=int32, numpy=\n",
       " array([[0, 1],\n",
       "        [4, 5],\n",
       "        [8, 9]])>,\n",
       " <tf.Tensor: shape=(3, 2), dtype=int32, numpy=\n",
       " array([[ 2,  3],\n",
       "        [ 6,  7],\n",
       "        [10, 11]])>]"
      ]
     },
     "execution_count": 47,
     "metadata": {},
     "output_type": "execute_result"
    }
   ],
   "source": [
    "tf.unstack(a3, axis=0)"
   ]
  },
  {
   "cell_type": "markdown",
   "id": "8f2c3938",
   "metadata": {},
   "source": [
    "- 2x3x2 행렬을 axis=0 을 기준으로 풀어서 3x2 행렬 생성 "
   ]
  },
  {
   "cell_type": "code",
   "execution_count": 46,
   "id": "c7d9034c",
   "metadata": {},
   "outputs": [
    {
     "data": {
      "text/plain": [
       "[<tf.Tensor: shape=(2, 2), dtype=int32, numpy=\n",
       " array([[0, 1],\n",
       "        [2, 3]])>,\n",
       " <tf.Tensor: shape=(2, 2), dtype=int32, numpy=\n",
       " array([[4, 5],\n",
       "        [6, 7]])>,\n",
       " <tf.Tensor: shape=(2, 2), dtype=int32, numpy=\n",
       " array([[ 8,  9],\n",
       "        [10, 11]])>]"
      ]
     },
     "execution_count": 46,
     "metadata": {},
     "output_type": "execute_result"
    }
   ],
   "source": [
    "tf.unstack(a3, axis=1)"
   ]
  },
  {
   "cell_type": "markdown",
   "id": "f5b70ee1",
   "metadata": {},
   "source": [
    "- 2x3x2 행렬을 axis=1 을 기준으로 풀어서 2x2 행렬 생성"
   ]
  },
  {
   "cell_type": "code",
   "execution_count": 48,
   "id": "24d2f6fb",
   "metadata": {},
   "outputs": [
    {
     "data": {
      "text/plain": [
       "[<tf.Tensor: shape=(2, 3), dtype=int32, numpy=\n",
       " array([[ 0,  4,  8],\n",
       "        [ 2,  6, 10]])>,\n",
       " <tf.Tensor: shape=(2, 3), dtype=int32, numpy=\n",
       " array([[ 1,  5,  9],\n",
       "        [ 3,  7, 11]])>]"
      ]
     },
     "execution_count": 48,
     "metadata": {},
     "output_type": "execute_result"
    }
   ],
   "source": [
    "tf.unstack(a3, axis=2)"
   ]
  },
  {
   "cell_type": "markdown",
   "id": "9a598985",
   "metadata": {},
   "source": [
    "- 2x3x2 행렬을 axis=2 을 기준으로 풀어서 2x3 행렬 생성"
   ]
  },
  {
   "cell_type": "code",
   "execution_count": null,
   "id": "62fec282",
   "metadata": {},
   "outputs": [],
   "source": []
  }
 ],
 "metadata": {
  "kernelspec": {
   "display_name": "Python 3 (ipykernel)",
   "language": "python",
   "name": "python3"
  },
  "language_info": {
   "codemirror_mode": {
    "name": "ipython",
    "version": 3
   },
   "file_extension": ".py",
   "mimetype": "text/x-python",
   "name": "python",
   "nbconvert_exporter": "python",
   "pygments_lexer": "ipython3",
   "version": "3.10.6"
  }
 },
 "nbformat": 4,
 "nbformat_minor": 5
}
