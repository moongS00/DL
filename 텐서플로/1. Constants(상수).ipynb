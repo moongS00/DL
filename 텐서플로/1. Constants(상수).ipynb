{
 "cells": [
  {
   "cell_type": "markdown",
   "id": "e335bc20",
   "metadata": {},
   "source": [
    "## Tensor\n",
    "- deeplearning framework는 기본적으로 Tensor를 다루는 도구\n",
    "- Tensor: 구조적으로 쌓여있는 숫자의 집합 ex)벡터, 행렬 등\n",
    "- Tensor를 다룰 때 가장 중요한 것 : shape\n",
    "\n",
    "## Tensor 생성\n",
    "- sork todtjdgksms rjtdms <code>tf.Tensor</code> 데이터\n",
    "- 항상 체크해야 하는 것: shape, dtype(타입이 같아야 연산 가능"
   ]
  },
  {
   "cell_type": "code",
   "execution_count": 5,
   "id": "c8af0ace",
   "metadata": {},
   "outputs": [],
   "source": [
    "import tensorflow as tf\n",
    "import numpy as np"
   ]
  },
  {
   "cell_type": "markdown",
   "id": "8fe58f8a",
   "metadata": {},
   "source": [
    "# Constant(상수)\n",
    "- 숫자는 상수, 변수 두가지로 나뉜다.\n",
    "\n",
    "- <code>tf.constant()</code> : 기존 list, tuple, array 를 Tensor로 만들어준다.\n",
    "- shape, dtype 값을 집중해서 보자!"
   ]
  },
  {
   "cell_type": "code",
   "execution_count": 2,
   "id": "c1e90038",
   "metadata": {},
   "outputs": [
    {
     "data": {
      "text/plain": [
       "<tf.Tensor: shape=(3,), dtype=int32, numpy=array([1, 2, 3])>"
      ]
     },
     "execution_count": 2,
     "metadata": {},
     "output_type": "execute_result"
    }
   ],
   "source": [
    "li_ten = tf.constant([1, 2, 3])\n",
    "li_ten"
   ]
  },
  {
   "cell_type": "code",
   "execution_count": 3,
   "id": "9951d294",
   "metadata": {},
   "outputs": [
    {
     "data": {
      "text/plain": [
       "<tf.Tensor: shape=(3,), dtype=float32, numpy=array([1., 2., 3.], dtype=float32)>"
      ]
     },
     "execution_count": 3,
     "metadata": {},
     "output_type": "execute_result"
    }
   ],
   "source": [
    "li_ten_f = tf.constant([1., 2., 3.])\n",
    "li_ten_f"
   ]
  },
  {
   "cell_type": "code",
   "execution_count": 4,
   "id": "e08f35e4",
   "metadata": {},
   "outputs": [
    {
     "data": {
      "text/plain": [
       "<tf.Tensor: shape=(2, 3), dtype=int32, numpy=\n",
       "array([[1, 2, 3],\n",
       "       [1, 2, 3]])>"
      ]
     },
     "execution_count": 4,
     "metadata": {},
     "output_type": "execute_result"
    }
   ],
   "source": [
    "tu_ten = tf.constant(((1, 2, 3), (1, 2, 3)), name=\"sample\")\n",
    "tu_ten"
   ]
  },
  {
   "cell_type": "code",
   "execution_count": 6,
   "id": "add00142",
   "metadata": {},
   "outputs": [
    {
     "data": {
      "text/plain": [
       "<tf.Tensor: shape=(3,), dtype=float64, numpy=array([1., 2., 3.])>"
      ]
     },
     "execution_count": 6,
     "metadata": {},
     "output_type": "execute_result"
    }
   ],
   "source": [
    "arr = np.array([1., 2., 3.])\n",
    "arr_ten = tf.constant(arr)\n",
    "arr_ten"
   ]
  },
  {
   "cell_type": "markdown",
   "id": "4afad3f4",
   "metadata": {},
   "source": [
    "## Tensor에서 Numpy array 추출"
   ]
  },
  {
   "cell_type": "code",
   "execution_count": 7,
   "id": "75f7640c",
   "metadata": {},
   "outputs": [
    {
     "name": "stdout",
     "output_type": "stream",
     "text": [
      "[1. 2. 3.]\n",
      "<class 'numpy.ndarray'>\n"
     ]
    }
   ],
   "source": [
    "print(arr_ten.numpy())\n",
    "print(type(arr_ten.numpy()))"
   ]
  },
  {
   "cell_type": "code",
   "execution_count": 8,
   "id": "e30a5b67",
   "metadata": {},
   "outputs": [
    {
     "name": "stdout",
     "output_type": "stream",
     "text": [
      "[1 2 3]\n",
      "<class 'numpy.ndarray'>\n"
     ]
    }
   ],
   "source": [
    "print(li_ten.numpy())\n",
    "print(type(li_ten.numpy()))"
   ]
  },
  {
   "cell_type": "markdown",
   "id": "9239c51a",
   "metadata": {},
   "source": [
    "```\n",
    "not_a_matrix = [[1, 2, 3], [4, 5], [6, 7, 8]]\n",
    "- 구조적이지 않은 형태는 tf.constant() 불가능. list 형태만 가능\n",
    "```"
   ]
  },
  {
   "cell_type": "markdown",
   "id": "5052e444",
   "metadata": {},
   "source": [
    "## shape, dtype 항상 체크!"
   ]
  },
  {
   "cell_type": "code",
   "execution_count": 9,
   "id": "b209c0d3",
   "metadata": {},
   "outputs": [
    {
     "name": "stdout",
     "output_type": "stream",
     "text": [
      "(3,)\n",
      "(2, 3)\n"
     ]
    }
   ],
   "source": [
    "print(li_ten.shape)\n",
    "print(tu_ten.shape)"
   ]
  },
  {
   "cell_type": "code",
   "execution_count": null,
   "id": "2ceb0a0e",
   "metadata": {},
   "outputs": [],
   "source": [
    "# shape 이 다른 것끼리 연산\n",
    "tf.matmul(li_ten,tu_ten)  # 내적"
   ]
  },
  {
   "cell_type": "code",
   "execution_count": null,
   "id": "59f8bdd8",
   "metadata": {},
   "outputs": [],
   "source": [
    "# shape 이 다른 것끼리 연산\n",
    "tf.matmul(tu_ten, li_ten)  # 내적"
   ]
  },
  {
   "cell_type": "markdown",
   "id": "04b64993",
   "metadata": {},
   "source": [
    "- 내적은 (2, 3), (3, 1)이면 가능해야 하는데, tf.matmul() 에서는 rank값(행 수)이 같지 않아서 불가능하다."
   ]
  },
  {
   "cell_type": "code",
   "execution_count": 15,
   "id": "e40244dc",
   "metadata": {},
   "outputs": [
    {
     "name": "stdout",
     "output_type": "stream",
     "text": [
      "1\n",
      "2\n"
     ]
    }
   ],
   "source": [
    "# rank 확인\n",
    "print(li_ten.ndim)\n",
    "print(tu_ten.ndim)"
   ]
  },
  {
   "cell_type": "code",
   "execution_count": 10,
   "id": "a99d8e78",
   "metadata": {},
   "outputs": [
    {
     "name": "stdout",
     "output_type": "stream",
     "text": [
      "<dtype: 'int32'>\n",
      "<dtype: 'float64'>\n"
     ]
    }
   ],
   "source": [
    "print(li_ten.dtype)\n",
    "print(arr_ten.dtype)"
   ]
  },
  {
   "cell_type": "code",
   "execution_count": null,
   "id": "117cb2fb",
   "metadata": {},
   "outputs": [],
   "source": [
    "# dtype이 다른 것끼리 연산\n",
    "arr_ten * li_ten"
   ]
  },
  {
   "cell_type": "markdown",
   "id": "83952200",
   "metadata": {},
   "source": [
    "## 데이터 타입 컨트롤하는 방법"
   ]
  },
  {
   "cell_type": "markdown",
   "id": "73bf383d",
   "metadata": {},
   "source": [
    "### 1. 미리 지정"
   ]
  },
  {
   "cell_type": "code",
   "execution_count": 16,
   "id": "c21f6101",
   "metadata": {},
   "outputs": [
    {
     "data": {
      "text/plain": [
       "<tf.Tensor: shape=(3,), dtype=float32, numpy=array([1., 2., 3.], dtype=float32)>"
      ]
     },
     "execution_count": 16,
     "metadata": {},
     "output_type": "execute_result"
    }
   ],
   "source": [
    "tensor = tf.constant([1, 2, 3], dtype=tf.float32)\n",
    "tensor"
   ]
  },
  {
   "cell_type": "markdown",
   "id": "3ffc7efe",
   "metadata": {},
   "source": [
    "### 2. <code>tf.cast</code> 사용"
   ]
  },
  {
   "cell_type": "code",
   "execution_count": 17,
   "id": "41c14ac4",
   "metadata": {},
   "outputs": [
    {
     "data": {
      "text/plain": [
       "<tf.Tensor: shape=(3,), dtype=int16, numpy=array([1, 2, 3], dtype=int16)>"
      ]
     },
     "execution_count": 17,
     "metadata": {},
     "output_type": "execute_result"
    }
   ],
   "source": [
    "tf.cast(tensor, dtype=tf.int16)"
   ]
  },
  {
   "cell_type": "markdown",
   "id": "e82ca509",
   "metadata": {},
   "source": [
    "## 특정 값의 Tensor 생성\n",
    "- <code>tf.ones</code>\n",
    "- <code>tf.zeros</code>\n",
    "- <code>tf.range</code>"
   ]
  },
  {
   "cell_type": "code",
   "execution_count": 18,
   "id": "4ec54143",
   "metadata": {},
   "outputs": [
    {
     "data": {
      "text/plain": [
       "<tf.Tensor: shape=(1,), dtype=float32, numpy=array([1.], dtype=float32)>"
      ]
     },
     "execution_count": 18,
     "metadata": {},
     "output_type": "execute_result"
    }
   ],
   "source": [
    "tf.ones(1)"
   ]
  },
  {
   "cell_type": "code",
   "execution_count": 19,
   "id": "e2a8f749",
   "metadata": {},
   "outputs": [
    {
     "data": {
      "text/plain": [
       "<tf.Tensor: shape=(2, 5), dtype=int32, numpy=\n",
       "array([[0, 0, 0, 0, 0],\n",
       "       [0, 0, 0, 0, 0]])>"
      ]
     },
     "execution_count": 19,
     "metadata": {},
     "output_type": "execute_result"
    }
   ],
   "source": [
    "tf.zeros((2, 5), dtype='int32')"
   ]
  },
  {
   "cell_type": "code",
   "execution_count": 20,
   "id": "dcf826ac",
   "metadata": {},
   "outputs": [
    {
     "data": {
      "text/plain": [
       "<tf.Tensor: shape=(10,), dtype=int32, numpy=array([0, 1, 2, 3, 4, 5, 6, 7, 8, 9])>"
      ]
     },
     "execution_count": 20,
     "metadata": {},
     "output_type": "execute_result"
    }
   ],
   "source": [
    "tf.range(10)"
   ]
  },
  {
   "cell_type": "code",
   "execution_count": 22,
   "id": "d8e2f9a4",
   "metadata": {},
   "outputs": [
    {
     "data": {
      "text/plain": [
       "<tf.Tensor: shape=(5,), dtype=int32, numpy=array([1, 3, 5, 7, 9])>"
      ]
     },
     "execution_count": 22,
     "metadata": {},
     "output_type": "execute_result"
    }
   ],
   "source": [
    "tf.range(1, 11, 2)"
   ]
  },
  {
   "cell_type": "markdown",
   "id": "9c8d44a7",
   "metadata": {},
   "source": [
    "## Random Value(난수)\n",
    "- 무작위 값을 생성할 때 필요\n",
    "- noisw재현, test 실행 시 사용\n",
    "- 데이터 타입은은 상수형태로 반환\n",
    "\n",
    "##### <code>tf.random</code> 에서 구현 가능\n",
    "- <code>tf.random.normal</code> : 정규분포\n",
    "- <code>tf.random.uniform</code> : Uniform 분포"
   ]
  },
  {
   "cell_type": "code",
   "execution_count": 24,
   "id": "dbe43164",
   "metadata": {},
   "outputs": [],
   "source": [
    "shape = (3, 3) # shape은 튜플 형태로 입력해야 한다"
   ]
  },
  {
   "cell_type": "code",
   "execution_count": 25,
   "id": "9a1f9b59",
   "metadata": {},
   "outputs": [
    {
     "data": {
      "text/plain": [
       "<tf.Tensor: shape=(3, 3), dtype=float32, numpy=\n",
       "array([[-0.43311214,  1.413136  ,  0.387085  ],\n",
       "       [-0.85273725,  0.88912535,  0.7022076 ],\n",
       "       [-0.4574507 ,  0.69451326, -0.7225395 ]], dtype=float32)>"
      ]
     },
     "execution_count": 25,
     "metadata": {},
     "output_type": "execute_result"
    }
   ],
   "source": [
    "tf.random.normal(shape) # 평균과 분산값을 임의로 지정 가능"
   ]
  },
  {
   "cell_type": "code",
   "execution_count": 26,
   "id": "042f185a",
   "metadata": {},
   "outputs": [
    {
     "data": {
      "text/plain": [
       "<tf.Tensor: shape=(3, 3), dtype=float32, numpy=\n",
       "array([[0.9383218 , 0.8092319 , 0.61070526],\n",
       "       [0.79136205, 0.6807728 , 0.8633183 ],\n",
       "       [0.1760205 , 0.27090085, 0.9975245 ]], dtype=float32)>"
      ]
     },
     "execution_count": 26,
     "metadata": {},
     "output_type": "execute_result"
    }
   ],
   "source": [
    "tf.random.uniform(shape)"
   ]
  },
  {
   "cell_type": "markdown",
   "id": "69681fb7",
   "metadata": {},
   "source": [
    "### Random Seed 관리 하기\n",
    "- <code>tf.random.set_seed({seed_number})</code>"
   ]
  },
  {
   "cell_type": "code",
   "execution_count": 27,
   "id": "53d32d01",
   "metadata": {},
   "outputs": [],
   "source": [
    "seed = 7777"
   ]
  },
  {
   "cell_type": "code",
   "execution_count": 29,
   "id": "196bbca8",
   "metadata": {},
   "outputs": [
    {
     "name": "stdout",
     "output_type": "stream",
     "text": [
      "tf.Tensor([0.959749], shape=(1,), dtype=float32)\n",
      "tf.Tensor([0.8677443], shape=(1,), dtype=float32)\n"
     ]
    }
   ],
   "source": [
    "tf.random.set_seed(seed)\n",
    "a = tf.random.uniform([1])\n",
    "b = tf.random.uniform([1])\n",
    "print(a, b, sep=\"\\n\")"
   ]
  },
  {
   "cell_type": "code",
   "execution_count": 30,
   "id": "799e4554",
   "metadata": {},
   "outputs": [
    {
     "name": "stdout",
     "output_type": "stream",
     "text": [
      "tf.Tensor([0.22878075], shape=(1,), dtype=float32)\n",
      "tf.Tensor([0.87772965], shape=(1,), dtype=float32)\n"
     ]
    }
   ],
   "source": [
    "a = tf.random.uniform([1])\n",
    "b = tf.random.uniform([1])\n",
    "print(a, b, sep=\"\\n\")"
   ]
  },
  {
   "cell_type": "code",
   "execution_count": 31,
   "id": "ac606e55",
   "metadata": {},
   "outputs": [
    {
     "name": "stdout",
     "output_type": "stream",
     "text": [
      "tf.Tensor([0.959749], shape=(1,), dtype=float32)\n",
      "tf.Tensor([0.8677443], shape=(1,), dtype=float32)\n"
     ]
    }
   ],
   "source": [
    "tf.random.set_seed(seed)\n",
    "a = tf.random.uniform([1])\n",
    "b = tf.random.uniform([1])\n",
    "print(a, b, sep=\"\\n\")"
   ]
  },
  {
   "cell_type": "code",
   "execution_count": null,
   "id": "08e70316",
   "metadata": {},
   "outputs": [],
   "source": []
  }
 ],
 "metadata": {
  "kernelspec": {
   "display_name": "Python 3 (ipykernel)",
   "language": "python",
   "name": "python3"
  },
  "language_info": {
   "codemirror_mode": {
    "name": "ipython",
    "version": 3
   },
   "file_extension": ".py",
   "mimetype": "text/x-python",
   "name": "python",
   "nbconvert_exporter": "python",
   "pygments_lexer": "ipython3",
   "version": "3.10.6"
  }
 },
 "nbformat": 4,
 "nbformat_minor": 5
}
