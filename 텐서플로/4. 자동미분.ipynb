{
 "cells": [
  {
   "cell_type": "markdown",
   "id": "a9342553",
   "metadata": {},
   "source": [
    "# 자동미분"
   ]
  },
  {
   "cell_type": "code",
   "execution_count": 1,
   "id": "11662eac",
   "metadata": {},
   "outputs": [],
   "source": [
    "import tensorflow as tf\n",
    "import numpy as np"
   ]
  },
  {
   "cell_type": "markdown",
   "id": "7afaf628",
   "metadata": {},
   "source": [
    "### `tf.GradientTape`\n",
    "- tf.GradientTape 는 context 안에서 실행된 모든 연산을 tape(테이프) 에 기록한다.\n",
    "- 그 다음 텐서플로는 후진 방식 자동미준을 사용해 테이프에 기록된 연산의 그래디언트를 계산한다.\n",
    "- 미분은 ML에서 최적화와 연관이 있다."
   ]
  },
  {
   "cell_type": "markdown",
   "id": "14bec524",
   "metadata": {},
   "source": [
    "## 1) scalar를 scalar로 미분"
   ]
  },
  {
   "cell_type": "code",
   "execution_count": 2,
   "id": "4091dab6",
   "metadata": {},
   "outputs": [],
   "source": [
    "x = tf.Variable(3.0)  # GradientTape은 Variable에 대한 미분값만 추적한다. x는 반드시 Variable 이다!\n",
    "\n",
    "with tf.GradientTape() as tape:\n",
    "    y = x**2"
   ]
  },
  {
   "cell_type": "code",
   "execution_count": 3,
   "id": "703ff185",
   "metadata": {},
   "outputs": [
    {
     "data": {
      "text/plain": [
       "<tf.Tensor: shape=(), dtype=float32, numpy=9.0>"
      ]
     },
     "execution_count": 3,
     "metadata": {},
     "output_type": "execute_result"
    }
   ],
   "source": [
    "y"
   ]
  },
  {
   "cell_type": "markdown",
   "id": "ca3ff670",
   "metadata": {},
   "source": [
    "- y=9 이므로 정답!"
   ]
  },
  {
   "cell_type": "code",
   "execution_count": 4,
   "id": "ad93460e",
   "metadata": {},
   "outputs": [
    {
     "data": {
      "text/plain": [
       "6.0"
      ]
     },
     "execution_count": 4,
     "metadata": {},
     "output_type": "execute_result"
    }
   ],
   "source": [
    "# dy = 2x * dx\n",
    "\n",
    "dy_dx = tape.gradient(y, x)\n",
    "dy_dx.numpy()"
   ]
  },
  {
   "cell_type": "markdown",
   "id": "b0bc99fe",
   "metadata": {},
   "source": [
    "## 2) scalar를 vector로 미분"
   ]
  },
  {
   "cell_type": "code",
   "execution_count": 5,
   "id": "fffa69d0",
   "metadata": {},
   "outputs": [],
   "source": [
    "w = tf.Variable(tf.random.normal((3, 2)), name='w')\n",
    "b = tf.Variable(tf.zeros(2, dtype=tf.float32), name='b')\n",
    "x = [[1., 2., 3.]]\n",
    "\n",
    "with tf.GradientTape(persistent=True) as tape:  # persistent=True 가 없으면 2번이상 호출 불가능\n",
    "    y = x @ w + b\n",
    "    loss = tf.reduce_mean(y**2)"
   ]
  },
  {
   "cell_type": "code",
   "execution_count": 6,
   "id": "389d886f",
   "metadata": {},
   "outputs": [
    {
     "data": {
      "text/plain": [
       "[<tf.Tensor: shape=(3, 2), dtype=float32, numpy=\n",
       " array([[1.3279841, 2.3117962],\n",
       "        [2.6559682, 4.6235924],\n",
       "        [3.9839523, 6.9353886]], dtype=float32)>,\n",
       " <tf.Tensor: shape=(2,), dtype=float32, numpy=array([1.3279841, 2.3117962], dtype=float32)>]"
      ]
     },
     "execution_count": 6,
     "metadata": {},
     "output_type": "execute_result"
    }
   ],
   "source": [
    "[dl_dw, dl_db] = tape.gradient(loss, [w, b]) # list로 입력\n",
    "[dl_dw, dl_db]"
   ]
  },
  {
   "cell_type": "code",
   "execution_count": 7,
   "id": "791d997a",
   "metadata": {},
   "outputs": [
    {
     "data": {
      "text/plain": [
       "<tf.Tensor: shape=(2,), dtype=float32, numpy=array([1.3279841, 2.3117962], dtype=float32)>"
      ]
     },
     "execution_count": 7,
     "metadata": {},
     "output_type": "execute_result"
    }
   ],
   "source": [
    "my_vars = {\"w\":w, \"b\":b}\n",
    "grad = tape.gradient(loss, my_vars)  # dic으로 입력\n",
    "grad['b']"
   ]
  },
  {
   "cell_type": "markdown",
   "id": "9fe65422",
   "metadata": {},
   "source": [
    "## 3) 자동미분 컨트롤하기\n",
    "- `tf.Variable`만 기록한다\n",
    "- variable + tensor는 tensor를 반환\n",
    "- `trainable` 조건으로 미분 기록을 제어(variable의 기록을 끌 수 있음)"
   ]
  },
  {
   "cell_type": "code",
   "execution_count": 8,
   "id": "b8e30bff",
   "metadata": {},
   "outputs": [],
   "source": [
    "# trainable Variable\n",
    "x0 = tf.Variable(3.0, name='x0')\n",
    "\n",
    "# Not trainable \n",
    "x1 = tf.Variable(3.0, name='x1', trainable=False)\n",
    "\n",
    "# Not Variable (variable + tensor 이기 때문)\n",
    "x2 = tf.Variable(2.0, name='x2') + 1.0\n",
    "\n",
    "# Not Variable\n",
    "x3 = tf.constant(3.0, name='x3')"
   ]
  },
  {
   "cell_type": "code",
   "execution_count": 9,
   "id": "07788a51",
   "metadata": {},
   "outputs": [
    {
     "name": "stdout",
     "output_type": "stream",
     "text": [
      "tf.Tensor(6.0, shape=(), dtype=float32)\n",
      "None\n",
      "None\n",
      "None\n"
     ]
    }
   ],
   "source": [
    "with tf.GradientTape() as tape:\n",
    "    y = (x0**2) + (x1**2) + (x2**2)\n",
    "    \n",
    "grad = tape.gradient(y, [x0, x1, x2, x3])\n",
    "\n",
    "for g in grad:\n",
    "    print(g)"
   ]
  },
  {
   "cell_type": "markdown",
   "id": "a89c5f00",
   "metadata": {},
   "source": [
    "- trainable Variable 인 x0 값만 출력되고 있다."
   ]
  },
  {
   "cell_type": "markdown",
   "id": "e8e6738d",
   "metadata": {},
   "source": [
    "## 4) 기록되고 있는 variable 확인하기"
   ]
  },
  {
   "cell_type": "code",
   "execution_count": 10,
   "id": "b661f561",
   "metadata": {},
   "outputs": [
    {
     "data": {
      "text/plain": [
       "(<tf.Variable 'x0:0' shape=() dtype=float32, numpy=3.0>,)"
      ]
     },
     "execution_count": 10,
     "metadata": {},
     "output_type": "execute_result"
    }
   ],
   "source": [
    "tape.watched_variables()"
   ]
  },
  {
   "cell_type": "code",
   "execution_count": null,
   "id": "0e5d1fd8",
   "metadata": {},
   "outputs": [],
   "source": []
  }
 ],
 "metadata": {
  "kernelspec": {
   "display_name": "Python 3 (ipykernel)",
   "language": "python",
   "name": "python3"
  },
  "language_info": {
   "codemirror_mode": {
    "name": "ipython",
    "version": 3
   },
   "file_extension": ".py",
   "mimetype": "text/x-python",
   "name": "python",
   "nbconvert_exporter": "python",
   "pygments_lexer": "ipython3",
   "version": "3.10.6"
  }
 },
 "nbformat": 4,
 "nbformat_minor": 5
}
