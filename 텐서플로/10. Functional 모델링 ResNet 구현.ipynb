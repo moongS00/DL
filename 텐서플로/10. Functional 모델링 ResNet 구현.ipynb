{
 "cells": [
  {
   "cell_type": "markdown",
   "id": "cad38fea",
   "metadata": {},
   "source": [
    "# ResNet 구현\n",
    "- 핵심: input 과 output을 더해준다\n",
    "- input을 기억했다가 output과 더해야 하니 Sequential 방식으로는 모델 구현이 불가능하다."
   ]
  },
  {
   "cell_type": "code",
   "execution_count": 4,
   "id": "830dcbfc",
   "metadata": {},
   "outputs": [],
   "source": [
    "import numpy as np\n",
    "import pandas as pd\n",
    "import tensorflow as tf\n",
    "\n",
    "import matplotlib.pyplot as plt\n",
    "import seaborn as sns\n",
    "%matplotlib inline\n",
    "\n",
    "from tensorflow.keras.layers import Input, Conv2D, MaxPool2D, Flatten, Dense, Add"
   ]
  },
  {
   "cell_type": "code",
   "execution_count": 5,
   "id": "1f72e960",
   "metadata": {},
   "outputs": [],
   "source": [
    "np.random.seed(7777)\n",
    "tf.random.set_seed(7777)"
   ]
  },
  {
   "cell_type": "markdown",
   "id": "e07b8068",
   "metadata": {},
   "source": [
    "## Functional API\n",
    "- `tf.keras.Sequential` 보다 더 유연하게 모델을 정의 가능"
   ]
  },
  {
   "cell_type": "code",
   "execution_count": 18,
   "id": "f7c74b71",
   "metadata": {},
   "outputs": [],
   "source": [
    "## Functional API 를 이용해 ResNet 구현\n",
    "def build_resnet(input_shape):\n",
    "    inputs = Input(input_shape)\n",
    "\n",
    "    net = Conv2D(32, kernel_size=3, strides=2,\n",
    "                 padding='same', activation='relu')(inputs)\n",
    "    net = MaxPool2D()(net) # input\n",
    "    \n",
    "    net1 = Conv2D(64, kernel_size=1, padding='same', activation='relu')(net)\n",
    "    net2 = Conv2D(64, kernel_size=3, padding='same', activation='relu')(net1)\n",
    "    net3 = Conv2D(64, kernel_size=1, padding='same', activation='relu')(net2)\n",
    "    \n",
    "    net1_1 = Conv2D(64, kernel_size=1, padding='same')(net) # input을 output과 더하기 위해 사이즈를 64로 맞춰줌\n",
    "    net = Add()([net1_1, net3])  # input + output // 다시 input\n",
    "    \n",
    "    net1 = Conv2D(64, kernel_size=1, padding='same', activation='relu')(net)\n",
    "    net2 = Conv2D(64, kernel_size=3, padding='same', activation='relu')(net1)\n",
    "    net3 = Conv2D(64, kernel_size=1, padding='same', activation='relu')(net2)\n",
    "    \n",
    "    net = Add()([net, net3])\n",
    "    \n",
    "    net = MaxPool2D()(net)\n",
    "    \n",
    "    net = Flatten()(net)\n",
    "    net = Dense(10, activation=\"softmax\")(net)\n",
    "\n",
    "    model = tf.keras.Model(inputs=inputs, outputs=net, name='resnet')\n",
    "    \n",
    "    return model"
   ]
  },
  {
   "cell_type": "code",
   "execution_count": 19,
   "id": "9c4d4063",
   "metadata": {},
   "outputs": [
    {
     "name": "stdout",
     "output_type": "stream",
     "text": [
      "Model: \"resnet\"\n",
      "__________________________________________________________________________________________________\n",
      " Layer (type)                   Output Shape         Param #     Connected to                     \n",
      "==================================================================================================\n",
      " input_7 (InputLayer)           [(None, 32, 32, 3)]  0           []                               \n",
      "                                                                                                  \n",
      " conv2d_37 (Conv2D)             (None, 16, 16, 32)   896         ['input_7[0][0]']                \n",
      "                                                                                                  \n",
      " max_pooling2d_8 (MaxPooling2D)  (None, 8, 8, 32)    0           ['conv2d_37[0][0]']              \n",
      "                                                                                                  \n",
      " conv2d_38 (Conv2D)             (None, 8, 8, 64)     2112        ['max_pooling2d_8[0][0]']        \n",
      "                                                                                                  \n",
      " conv2d_39 (Conv2D)             (None, 8, 8, 64)     36928       ['conv2d_38[0][0]']              \n",
      "                                                                                                  \n",
      " conv2d_41 (Conv2D)             (None, 8, 8, 64)     2112        ['max_pooling2d_8[0][0]']        \n",
      "                                                                                                  \n",
      " conv2d_40 (Conv2D)             (None, 8, 8, 64)     4160        ['conv2d_39[0][0]']              \n",
      "                                                                                                  \n",
      " add_6 (Add)                    (None, 8, 8, 64)     0           ['conv2d_41[0][0]',              \n",
      "                                                                  'conv2d_40[0][0]']              \n",
      "                                                                                                  \n",
      " conv2d_42 (Conv2D)             (None, 8, 8, 64)     4160        ['add_6[0][0]']                  \n",
      "                                                                                                  \n",
      " conv2d_43 (Conv2D)             (None, 8, 8, 64)     36928       ['conv2d_42[0][0]']              \n",
      "                                                                                                  \n",
      " conv2d_44 (Conv2D)             (None, 8, 8, 64)     4160        ['conv2d_43[0][0]']              \n",
      "                                                                                                  \n",
      " add_7 (Add)                    (None, 8, 8, 64)     0           ['add_6[0][0]',                  \n",
      "                                                                  'conv2d_44[0][0]']              \n",
      "                                                                                                  \n",
      " max_pooling2d_9 (MaxPooling2D)  (None, 4, 4, 64)    0           ['add_7[0][0]']                  \n",
      "                                                                                                  \n",
      " flatten_2 (Flatten)            (None, 1024)         0           ['max_pooling2d_9[0][0]']        \n",
      "                                                                                                  \n",
      " dense_2 (Dense)                (None, 10)           10250       ['flatten_2[0][0]']              \n",
      "                                                                                                  \n",
      "==================================================================================================\n",
      "Total params: 101,706\n",
      "Trainable params: 101,706\n",
      "Non-trainable params: 0\n",
      "__________________________________________________________________________________________________\n"
     ]
    }
   ],
   "source": [
    "model = build_resnet((32, 32, 3))\n",
    "model.summary()"
   ]
  },
  {
   "cell_type": "markdown",
   "id": "f7672ffd",
   "metadata": {},
   "source": [
    "## Cifar10 dataset을 이용해 학습"
   ]
  },
  {
   "cell_type": "code",
   "execution_count": 20,
   "id": "5ef36b48",
   "metadata": {},
   "outputs": [],
   "source": [
    "class Cifar10DataLoader():\n",
    "    def __init__(self):\n",
    "        # data load\n",
    "        (self.train_x, self.train_y), \\\n",
    "            (self.test_x, self.test_y) = tf.keras.datasets.cifar10.load_data()\n",
    "        self.input_shape = self.train_x.shape[1:]\n",
    "\n",
    "    def scale(self, x):\n",
    "\n",
    "        return (x / 255.0).astype(np.float32)\n",
    "\n",
    "    def preprocess_dataset(self, dataset):\n",
    "\n",
    "        (feature, target) = dataset\n",
    "\n",
    "        # scaling #\n",
    "        scaled_x = np.array([self.scale(x) for x in feature])\n",
    "\n",
    "        # label encoding #\n",
    "        ohe_y = np.array([tf.keras.utils.to_categorical(\n",
    "            y, num_classes=10) for y in target])\n",
    "        \n",
    "        return scaled_x, ohe_y.squeeze(1)\n",
    "\n",
    "    def get_train_dataset(self):\n",
    "        return self.preprocess_dataset((self.train_x, self.train_y))\n",
    "\n",
    "    def get_test_dataset(self):\n",
    "        return self.preprocess_dataset((self.test_x, self.test_y))"
   ]
  },
  {
   "cell_type": "code",
   "execution_count": 21,
   "id": "44b45371",
   "metadata": {},
   "outputs": [
    {
     "name": "stdout",
     "output_type": "stream",
     "text": [
      "Downloading data from https://www.cs.toronto.edu/~kriz/cifar-10-python.tar.gz\n",
      "170498071/170498071 [==============================] - 12s 0us/step\n",
      "(50000, 32, 32, 3) float32\n",
      "(50000, 10) float32\n",
      "(10000, 32, 32, 3) float32\n",
      "(10000, 10) float32\n"
     ]
    }
   ],
   "source": [
    "cifar10_loader = Cifar10DataLoader()\n",
    "\n",
    "train_x, train_y = cifar10_loader.get_train_dataset()\n",
    "\n",
    "print(train_x.shape, train_x.dtype)\n",
    "print(train_y.shape, train_y.dtype)\n",
    "\n",
    "test_x, test_y = cifar10_loader.get_test_dataset()\n",
    "\n",
    "print(test_x.shape, test_x.dtype)\n",
    "print(test_y.shape, test_y.dtype)"
   ]
  },
  {
   "cell_type": "code",
   "execution_count": 22,
   "id": "45ea7d76",
   "metadata": {},
   "outputs": [],
   "source": [
    "lr = 0.03\n",
    "opt = tf.keras.optimizers.Adam(learning_rate=lr)\n",
    "loss = tf.keras.losses.categorical_crossentropy\n",
    "\n",
    "model.compile(optimizer=opt, loss=loss, metrics=['accuracy'])"
   ]
  },
  {
   "cell_type": "code",
   "execution_count": 23,
   "id": "b653a392",
   "metadata": {},
   "outputs": [
    {
     "name": "stdout",
     "output_type": "stream",
     "text": [
      "Epoch 1/10\n",
      "391/391 [==============================] - 60s 146ms/step - loss: 2.4970 - accuracy: 0.0979 - val_loss: 2.4042 - val_accuracy: 0.1000\n",
      "Epoch 2/10\n",
      "391/391 [==============================] - 44s 111ms/step - loss: 2.3254 - accuracy: 0.1021 - val_loss: 2.3439 - val_accuracy: 0.1000\n",
      "Epoch 3/10\n",
      "391/391 [==============================] - 48s 123ms/step - loss: 2.3214 - accuracy: 0.0994 - val_loss: 2.3917 - val_accuracy: 0.1000\n",
      "Epoch 4/10\n",
      "391/391 [==============================] - 48s 123ms/step - loss: 2.3143 - accuracy: 0.0997 - val_loss: 2.3184 - val_accuracy: 0.1000\n",
      "Epoch 5/10\n",
      "391/391 [==============================] - 44s 113ms/step - loss: 2.3159 - accuracy: 0.1008 - val_loss: 2.3172 - val_accuracy: 0.1000\n",
      "Epoch 6/10\n",
      "391/391 [==============================] - 43s 110ms/step - loss: 2.3139 - accuracy: 0.1007 - val_loss: 2.3459 - val_accuracy: 0.1000\n",
      "Epoch 7/10\n",
      "391/391 [==============================] - 43s 111ms/step - loss: 2.3185 - accuracy: 0.1003 - val_loss: 2.3301 - val_accuracy: 0.1000\n",
      "Epoch 8/10\n",
      "391/391 [==============================] - 43s 111ms/step - loss: 2.3135 - accuracy: 0.0991 - val_loss: 2.3108 - val_accuracy: 0.1000\n",
      "Epoch 9/10\n",
      "391/391 [==============================] - 43s 111ms/step - loss: 2.3146 - accuracy: 0.1006 - val_loss: 2.3271 - val_accuracy: 0.1000\n",
      "Epoch 10/10\n",
      "391/391 [==============================] - 44s 114ms/step - loss: 2.3167 - accuracy: 0.1023 - val_loss: 2.3101 - val_accuracy: 0.1000\n"
     ]
    }
   ],
   "source": [
    "hist = model.fit(train_x, train_y, epochs=10, batch_size = 128, validation_data=(test_x, test_y))"
   ]
  },
  {
   "cell_type": "code",
   "execution_count": null,
   "id": "1d4f8204",
   "metadata": {},
   "outputs": [],
   "source": []
  }
 ],
 "metadata": {
  "kernelspec": {
   "display_name": "Python 3 (ipykernel)",
   "language": "python",
   "name": "python3"
  },
  "language_info": {
   "codemirror_mode": {
    "name": "ipython",
    "version": 3
   },
   "file_extension": ".py",
   "mimetype": "text/x-python",
   "name": "python",
   "nbconvert_exporter": "python",
   "pygments_lexer": "ipython3",
   "version": "3.10.6"
  }
 },
 "nbformat": 4,
 "nbformat_minor": 5
}
