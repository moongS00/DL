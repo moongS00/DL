{
 "cells": [
  {
   "cell_type": "markdown",
   "id": "32034ae8",
   "metadata": {},
   "source": [
    "# Model Save and Load"
   ]
  },
  {
   "cell_type": "code",
   "execution_count": 3,
   "id": "c6ae00a9",
   "metadata": {},
   "outputs": [],
   "source": [
    "import numpy as np\n",
    "import pandas as pd\n",
    "import tensorflow as tf\n",
    "\n",
    "from tensorflow.keras.layers import Input, Conv2D, MaxPool2D, Flatten, Dense, Add\n",
    "\n",
    "import matplotlib.pyplot as plt\n",
    "import seaborn as sns\n",
    "%matplotlib inline\n",
    "\n",
    "np.random.seed(7777)\n",
    "tf.random.set_seed(7777)"
   ]
  },
  {
   "cell_type": "code",
   "execution_count": 2,
   "id": "f675dbde",
   "metadata": {},
   "outputs": [
    {
     "name": "stdout",
     "output_type": "stream",
     "text": [
      "(50000, 32, 32, 3) float32\n",
      "(50000, 10) float32\n",
      "(10000, 32, 32, 3) float32\n",
      "(10000, 10) float32\n"
     ]
    }
   ],
   "source": [
    "class Cifar10DataLoader():\n",
    "    def __init__(self):\n",
    "        # data load\n",
    "        (self.train_x, self.train_y), \\\n",
    "            (self.test_x, self.test_y) = tf.keras.datasets.cifar10.load_data()\n",
    "        self.input_shape = self.train_x.shape[1:]\n",
    "\n",
    "    def scale(self, x):\n",
    "\n",
    "        return (x / 255.0).astype(np.float32)\n",
    "\n",
    "    def preprocess_dataset(self, dataset):\n",
    "\n",
    "        (feature, target) = dataset\n",
    "\n",
    "        # scaling #\n",
    "        scaled_x = np.array([self.scale(x) for x in feature])\n",
    "\n",
    "        # label encoding #\n",
    "        ohe_y = np.array([tf.keras.utils.to_categorical(\n",
    "            y, num_classes=10) for y in target])\n",
    "        \n",
    "        return scaled_x, ohe_y.squeeze(1)\n",
    "\n",
    "    def get_train_dataset(self):\n",
    "        return self.preprocess_dataset((self.train_x, self.train_y))\n",
    "\n",
    "    def get_test_dataset(self):\n",
    "        return self.preprocess_dataset((self.test_x, self.test_y))\n",
    "\n",
    "cifar10_loader = Cifar10DataLoader()\n",
    "train_x, train_y = cifar10_loader.get_train_dataset()\n",
    "\n",
    "print(train_x.shape, train_x.dtype)\n",
    "print(train_y.shape, train_y.dtype)\n",
    "\n",
    "test_x, test_y = cifar10_loader.get_test_dataset()\n",
    "\n",
    "print(test_x.shape, test_x.dtype)\n",
    "print(test_y.shape, test_y.dtype)"
   ]
  },
  {
   "cell_type": "code",
   "execution_count": 4,
   "id": "0ed8c30e",
   "metadata": {
    "scrolled": true
   },
   "outputs": [
    {
     "name": "stdout",
     "output_type": "stream",
     "text": [
      "Model: \"resnet\"\n",
      "__________________________________________________________________________________________________\n",
      " Layer (type)                   Output Shape         Param #     Connected to                     \n",
      "==================================================================================================\n",
      " input_1 (InputLayer)           [(None, 32, 32, 3)]  0           []                               \n",
      "                                                                                                  \n",
      " conv2d (Conv2D)                (None, 16, 16, 16)   448         ['input_1[0][0]']                \n",
      "                                                                                                  \n",
      " max_pooling2d (MaxPooling2D)   (None, 8, 8, 16)     0           ['conv2d[0][0]']                 \n",
      "                                                                                                  \n",
      " conv2d_1 (Conv2D)              (None, 8, 8, 32)     544         ['max_pooling2d[0][0]']          \n",
      "                                                                                                  \n",
      " conv2d_2 (Conv2D)              (None, 8, 8, 32)     9248        ['conv2d_1[0][0]']               \n",
      "                                                                                                  \n",
      " conv2d_4 (Conv2D)              (None, 8, 8, 32)     544         ['max_pooling2d[0][0]']          \n",
      "                                                                                                  \n",
      " conv2d_3 (Conv2D)              (None, 8, 8, 32)     1056        ['conv2d_2[0][0]']               \n",
      "                                                                                                  \n",
      " add (Add)                      (None, 8, 8, 32)     0           ['conv2d_4[0][0]',               \n",
      "                                                                  'conv2d_3[0][0]']               \n",
      "                                                                                                  \n",
      " conv2d_5 (Conv2D)              (None, 8, 8, 32)     1056        ['add[0][0]']                    \n",
      "                                                                                                  \n",
      " conv2d_6 (Conv2D)              (None, 8, 8, 32)     9248        ['conv2d_5[0][0]']               \n",
      "                                                                                                  \n",
      " conv2d_7 (Conv2D)              (None, 8, 8, 32)     1056        ['conv2d_6[0][0]']               \n",
      "                                                                                                  \n",
      " add_1 (Add)                    (None, 8, 8, 32)     0           ['add[0][0]',                    \n",
      "                                                                  'conv2d_7[0][0]']               \n",
      "                                                                                                  \n",
      " max_pooling2d_1 (MaxPooling2D)  (None, 4, 4, 32)    0           ['add_1[0][0]']                  \n",
      "                                                                                                  \n",
      " flatten (Flatten)              (None, 512)          0           ['max_pooling2d_1[0][0]']        \n",
      "                                                                                                  \n",
      " dense (Dense)                  (None, 10)           5130        ['flatten[0][0]']                \n",
      "                                                                                                  \n",
      "==================================================================================================\n",
      "Total params: 28,330\n",
      "Trainable params: 28,330\n",
      "Non-trainable params: 0\n",
      "__________________________________________________________________________________________________\n"
     ]
    }
   ],
   "source": [
    "def build_resnet(input_shape):\n",
    "    inputs = Input(input_shape)\n",
    "\n",
    "    net = Conv2D(16, kernel_size=3, strides=2,\n",
    "                 padding='same', activation='relu')(inputs)\n",
    "    net = MaxPool2D()(net)\n",
    "    \n",
    "    net1 = Conv2D(32, kernel_size=1, padding='same', activation='relu')(net)\n",
    "    net2 = Conv2D(32, kernel_size=3, padding='same', activation='relu')(net1)\n",
    "    net3 = Conv2D(32, kernel_size=1, padding='same', activation='relu')(net2)\n",
    "    \n",
    "    net1_1 = Conv2D(32, kernel_size=1, padding='same')(net)\n",
    "    net = Add()([net1_1, net3])\n",
    "    \n",
    "    net1 = Conv2D(32, kernel_size=1, padding='same', activation='relu')(net)\n",
    "    net2 = Conv2D(32, kernel_size=3, padding='same', activation='relu')(net1)\n",
    "    net3 = Conv2D(32, kernel_size=1, padding='same', activation='relu')(net2)\n",
    "    \n",
    "    net = Add()([net, net3])\n",
    "    \n",
    "    net = MaxPool2D()(net)\n",
    "    \n",
    "    net = Flatten()(net)\n",
    "    net = Dense(10, activation=\"softmax\")(net)\n",
    "\n",
    "    model = tf.keras.Model(inputs=inputs, outputs=net, name='resnet')\n",
    "    \n",
    "    return model\n",
    "\n",
    "model = build_resnet((32, 32, 3))\n",
    "model.summary()"
   ]
  },
  {
   "cell_type": "code",
   "execution_count": 5,
   "id": "a7a038f0",
   "metadata": {},
   "outputs": [],
   "source": [
    "lr = 0.03\n",
    "opt = tf.keras.optimizers.Adam(lr)\n",
    "loss = tf.keras.losses.categorical_crossentropy\n",
    "\n",
    "model.compile(optimizer=opt, loss=loss, metrics=['accuracy'])"
   ]
  },
  {
   "cell_type": "markdown",
   "id": "4557d6d4",
   "metadata": {},
   "source": [
    "## 1. save 함수\n",
    "- 모델을 통째로 저장\n",
    "- 파일만 있으면 모델을 복원할 수 있음\n",
    "- 대신 용량이 큼"
   ]
  },
  {
   "cell_type": "code",
   "execution_count": 6,
   "id": "8d0b0636",
   "metadata": {},
   "outputs": [],
   "source": [
    "model.save(\"checkpoints/sample/model.h5\")  # h5 : 모델 확장자 중 가장 많이 사용됨"
   ]
  },
  {
   "cell_type": "code",
   "execution_count": 8,
   "id": "c2405b19",
   "metadata": {
    "scrolled": true
   },
   "outputs": [
    {
     "name": "stdout",
     "output_type": "stream",
     "text": [
      "Model: \"resnet\"\n",
      "__________________________________________________________________________________________________\n",
      " Layer (type)                   Output Shape         Param #     Connected to                     \n",
      "==================================================================================================\n",
      " input_1 (InputLayer)           [(None, 32, 32, 3)]  0           []                               \n",
      "                                                                                                  \n",
      " conv2d (Conv2D)                (None, 16, 16, 16)   448         ['input_1[0][0]']                \n",
      "                                                                                                  \n",
      " max_pooling2d (MaxPooling2D)   (None, 8, 8, 16)     0           ['conv2d[0][0]']                 \n",
      "                                                                                                  \n",
      " conv2d_1 (Conv2D)              (None, 8, 8, 32)     544         ['max_pooling2d[0][0]']          \n",
      "                                                                                                  \n",
      " conv2d_2 (Conv2D)              (None, 8, 8, 32)     9248        ['conv2d_1[0][0]']               \n",
      "                                                                                                  \n",
      " conv2d_4 (Conv2D)              (None, 8, 8, 32)     544         ['max_pooling2d[0][0]']          \n",
      "                                                                                                  \n",
      " conv2d_3 (Conv2D)              (None, 8, 8, 32)     1056        ['conv2d_2[0][0]']               \n",
      "                                                                                                  \n",
      " add (Add)                      (None, 8, 8, 32)     0           ['conv2d_4[0][0]',               \n",
      "                                                                  'conv2d_3[0][0]']               \n",
      "                                                                                                  \n",
      " conv2d_5 (Conv2D)              (None, 8, 8, 32)     1056        ['add[0][0]']                    \n",
      "                                                                                                  \n",
      " conv2d_6 (Conv2D)              (None, 8, 8, 32)     9248        ['conv2d_5[0][0]']               \n",
      "                                                                                                  \n",
      " conv2d_7 (Conv2D)              (None, 8, 8, 32)     1056        ['conv2d_6[0][0]']               \n",
      "                                                                                                  \n",
      " add_1 (Add)                    (None, 8, 8, 32)     0           ['add[0][0]',                    \n",
      "                                                                  'conv2d_7[0][0]']               \n",
      "                                                                                                  \n",
      " max_pooling2d_1 (MaxPooling2D)  (None, 4, 4, 32)    0           ['add_1[0][0]']                  \n",
      "                                                                                                  \n",
      " flatten (Flatten)              (None, 512)          0           ['max_pooling2d_1[0][0]']        \n",
      "                                                                                                  \n",
      " dense (Dense)                  (None, 10)           5130        ['flatten[0][0]']                \n",
      "                                                                                                  \n",
      "==================================================================================================\n",
      "Total params: 28,330\n",
      "Trainable params: 28,330\n",
      "Non-trainable params: 0\n",
      "__________________________________________________________________________________________________\n"
     ]
    }
   ],
   "source": [
    "model_loaded = tf.keras.models.load_model(\"checkpoints/sample/model.h5\")\n",
    "\n",
    "model_loaded.summary()"
   ]
  },
  {
   "cell_type": "markdown",
   "id": "d95b6f79",
   "metadata": {},
   "source": [
    "## 2.  save_weights 함수 \n",
    "\n",
    " - weights만 저장 하므로, 저장공간이 절약됨. \n",
    " - 대신 `build_resnet` 같은 모델 정보 함수가 있어야 모델 복원 가능"
   ]
  },
  {
   "cell_type": "code",
   "execution_count": 9,
   "id": "314c35f2",
   "metadata": {},
   "outputs": [],
   "source": [
    "model.save_weights(\"checkpoints/sample/model.h5\")"
   ]
  },
  {
   "cell_type": "code",
   "execution_count": 10,
   "id": "fe704423",
   "metadata": {},
   "outputs": [],
   "source": [
    "new_model = build_resnet((32, 32, 3))\n",
    "new_model.load_weights(\"checkpoints/sample/model.h5\")"
   ]
  },
  {
   "cell_type": "code",
   "execution_count": 12,
   "id": "1c1aa793",
   "metadata": {
    "scrolled": true
   },
   "outputs": [
    {
     "name": "stdout",
     "output_type": "stream",
     "text": [
      "Model: \"resnet\"\n",
      "__________________________________________________________________________________________________\n",
      " Layer (type)                   Output Shape         Param #     Connected to                     \n",
      "==================================================================================================\n",
      " input_2 (InputLayer)           [(None, 32, 32, 3)]  0           []                               \n",
      "                                                                                                  \n",
      " conv2d_8 (Conv2D)              (None, 16, 16, 16)   448         ['input_2[0][0]']                \n",
      "                                                                                                  \n",
      " max_pooling2d_2 (MaxPooling2D)  (None, 8, 8, 16)    0           ['conv2d_8[0][0]']               \n",
      "                                                                                                  \n",
      " conv2d_9 (Conv2D)              (None, 8, 8, 32)     544         ['max_pooling2d_2[0][0]']        \n",
      "                                                                                                  \n",
      " conv2d_10 (Conv2D)             (None, 8, 8, 32)     9248        ['conv2d_9[0][0]']               \n",
      "                                                                                                  \n",
      " conv2d_12 (Conv2D)             (None, 8, 8, 32)     544         ['max_pooling2d_2[0][0]']        \n",
      "                                                                                                  \n",
      " conv2d_11 (Conv2D)             (None, 8, 8, 32)     1056        ['conv2d_10[0][0]']              \n",
      "                                                                                                  \n",
      " add_2 (Add)                    (None, 8, 8, 32)     0           ['conv2d_12[0][0]',              \n",
      "                                                                  'conv2d_11[0][0]']              \n",
      "                                                                                                  \n",
      " conv2d_13 (Conv2D)             (None, 8, 8, 32)     1056        ['add_2[0][0]']                  \n",
      "                                                                                                  \n",
      " conv2d_14 (Conv2D)             (None, 8, 8, 32)     9248        ['conv2d_13[0][0]']              \n",
      "                                                                                                  \n",
      " conv2d_15 (Conv2D)             (None, 8, 8, 32)     1056        ['conv2d_14[0][0]']              \n",
      "                                                                                                  \n",
      " add_3 (Add)                    (None, 8, 8, 32)     0           ['add_2[0][0]',                  \n",
      "                                                                  'conv2d_15[0][0]']              \n",
      "                                                                                                  \n",
      " max_pooling2d_3 (MaxPooling2D)  (None, 4, 4, 32)    0           ['add_3[0][0]']                  \n",
      "                                                                                                  \n",
      " flatten_1 (Flatten)            (None, 512)          0           ['max_pooling2d_3[0][0]']        \n",
      "                                                                                                  \n",
      " dense_1 (Dense)                (None, 10)           5130        ['flatten_1[0][0]']              \n",
      "                                                                                                  \n",
      "==================================================================================================\n",
      "Total params: 28,330\n",
      "Trainable params: 28,330\n",
      "Non-trainable params: 0\n",
      "__________________________________________________________________________________________________\n"
     ]
    }
   ],
   "source": [
    "new_model.summary()"
   ]
  },
  {
   "cell_type": "markdown",
   "id": "f8605a99",
   "metadata": {},
   "source": [
    "## 3. Callbacks 함수 사용하기\n",
    "- 매 epoch 마다 모델을 저장"
   ]
  },
  {
   "cell_type": "code",
   "execution_count": 14,
   "id": "e0c9ab22",
   "metadata": {},
   "outputs": [],
   "source": [
    "learning_rate = 0.03\n",
    "opt = tf.keras.optimizers.Adam(learning_rate)\n",
    "loss = tf.keras.losses.categorical_crossentropy\n",
    "\n",
    "model.compile(optimizer=opt, loss=loss, metrics=[\"accuracy\"])"
   ]
  },
  {
   "cell_type": "code",
   "execution_count": 15,
   "id": "8e11c114",
   "metadata": {},
   "outputs": [],
   "source": [
    "save_path = 'checkpoints/{epoch:02d}-{val_loss:.2f}.h5'\n",
    "checkpoint = tf.keras.callbacks.ModelCheckpoint(save_path, \n",
    "                                                monitor='val_accuracy', \n",
    "                                                save_best_only=True)"
   ]
  },
  {
   "cell_type": "markdown",
   "id": "a5a1be2e",
   "metadata": {},
   "source": [
    "- save_best_only=True : 이전 epoch에 비해 성능이 좋은 epoch인 경우에만 저장\n",
    "- 항상 True 인게 좋은것은 아님!"
   ]
  },
  {
   "cell_type": "code",
   "execution_count": 16,
   "id": "cd535743",
   "metadata": {},
   "outputs": [
    {
     "name": "stdout",
     "output_type": "stream",
     "text": [
      "1563/1563 [==============================] - 37s 22ms/step - loss: 2.1128 - accuracy: 0.2137 - val_loss: 1.9618 - val_accuracy: 0.2773\n"
     ]
    },
    {
     "data": {
      "text/plain": [
       "<keras.callbacks.History at 0x17b77fc9c30>"
      ]
     },
     "execution_count": 16,
     "metadata": {},
     "output_type": "execute_result"
    }
   ],
   "source": [
    "model.fit(x=train_x, \n",
    "          y=train_y, \n",
    "          epochs=1,\n",
    "          validation_data=(test_x, test_y), \n",
    "          callbacks=[checkpoint])"
   ]
  },
  {
   "cell_type": "markdown",
   "id": "e13dbe5b",
   "metadata": {},
   "source": [
    "## 4. pb형식으로 저장\n",
    " - 모델을 protoBuffer 형식으로 저장 (h5 형식이 아니다!)\n",
    " - 모델 구조와 weight를 함께 저장"
   ]
  },
  {
   "cell_type": "code",
   "execution_count": 17,
   "id": "c9d117ef",
   "metadata": {},
   "outputs": [],
   "source": [
    "save_path = 'checkpoints/{epoch:02d}-{val_loss:.2f}'\n",
    "checkpoint = tf.keras.callbacks.ModelCheckpoint(save_path, \n",
    "                                                monitor='val_accuracy', \n",
    "                                                save_best_only=True)"
   ]
  },
  {
   "cell_type": "code",
   "execution_count": 18,
   "id": "c297d7d8",
   "metadata": {},
   "outputs": [
    {
     "name": "stdout",
     "output_type": "stream",
     "text": [
      "1562/1563 [============================>.] - ETA: 0s - loss: 1.9394 - accuracy: 0.2918"
     ]
    },
    {
     "name": "stderr",
     "output_type": "stream",
     "text": [
      "WARNING:absl:Found untraced functions such as _jit_compiled_convolution_op, _jit_compiled_convolution_op, _jit_compiled_convolution_op, _jit_compiled_convolution_op, _jit_compiled_convolution_op while saving (showing 5 of 9). These functions will not be directly callable after loading.\n"
     ]
    },
    {
     "name": "stdout",
     "output_type": "stream",
     "text": [
      "INFO:tensorflow:Assets written to: checkpoints\\01-1.95\\assets\n"
     ]
    },
    {
     "name": "stderr",
     "output_type": "stream",
     "text": [
      "INFO:tensorflow:Assets written to: checkpoints\\01-1.95\\assets\n"
     ]
    },
    {
     "name": "stdout",
     "output_type": "stream",
     "text": [
      "\b\b\b\b\b\b\b\b\b\b\b\b\b\b\b\b\b\b\b\b\b\b\b\b\b\b\b\b\b\b\b\b\b\b\b\b\b\b\b\b\b\b\b\b\b\b\b\b\b\b\b\b\b\b\b\b\b\b\b\b\b\b\b\b\b\b\b\b\b\b\b\b\b\b\b\b\b\b\b\b\b\b\b\b\b\b\r",
      "1563/1563 [==============================] - 28s 18ms/step - loss: 1.9394 - accuracy: 0.2918 - val_loss: 1.9543 - val_accuracy: 0.2725\n"
     ]
    },
    {
     "data": {
      "text/plain": [
       "<keras.callbacks.History at 0x17b7827b9d0>"
      ]
     },
     "execution_count": 18,
     "metadata": {},
     "output_type": "execute_result"
    }
   ],
   "source": [
    "model.fit(x=train_x, \n",
    "          y=train_y, \n",
    "          epochs=1,\n",
    "          validation_data=(test_x, test_y), \n",
    "          callbacks=[checkpoint])"
   ]
  },
  {
   "cell_type": "code",
   "execution_count": 22,
   "id": "9d4f7cb8",
   "metadata": {},
   "outputs": [],
   "source": [
    "model_pb = tf.saved_model.load(\"checkpoints/01-1.95\")"
   ]
  },
  {
   "cell_type": "code",
   "execution_count": null,
   "id": "c55eddd8",
   "metadata": {},
   "outputs": [],
   "source": []
  }
 ],
 "metadata": {
  "kernelspec": {
   "display_name": "Python 3 (ipykernel)",
   "language": "python",
   "name": "python3"
  },
  "language_info": {
   "codemirror_mode": {
    "name": "ipython",
    "version": 3
   },
   "file_extension": ".py",
   "mimetype": "text/x-python",
   "name": "python",
   "nbconvert_exporter": "python",
   "pygments_lexer": "ipython3",
   "version": "3.10.6"
  }
 },
 "nbformat": 4,
 "nbformat_minor": 5
}
