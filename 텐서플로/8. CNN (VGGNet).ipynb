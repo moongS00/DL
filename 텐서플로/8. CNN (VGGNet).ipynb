{
 "cells": [
  {
   "cell_type": "markdown",
   "id": "041b08d2",
   "metadata": {},
   "source": [
    "# 모델을 정의하는 방법\n",
    "\n",
    "1. Sequencial 사용하기  (앞에서 사용한 방식)\n",
    "2. Functional API model\n",
    "3. Sub class model"
   ]
  },
  {
   "cell_type": "code",
   "execution_count": 1,
   "id": "9f6aec06",
   "metadata": {},
   "outputs": [],
   "source": [
    "import numpy as np\n",
    "import pandas as pd\n",
    "import tensorflow as tf\n",
    "\n",
    "import matplotlib.pyplot as plt\n",
    "import seaborn as sns\n",
    "%matplotlib inline"
   ]
  },
  {
   "cell_type": "code",
   "execution_count": 2,
   "id": "6ea7dcec",
   "metadata": {},
   "outputs": [],
   "source": [
    "np.random.seed(7777)\n",
    "tf.random.set_seed(7777)"
   ]
  },
  {
   "cell_type": "markdown",
   "id": "d1e3ecda",
   "metadata": {},
   "source": [
    "# Convolutional Neural Network; CNN (VGG19)\n",
    "- Sequencial 방법 중 하나"
   ]
  },
  {
   "cell_type": "markdown",
   "id": "3353e96b",
   "metadata": {},
   "source": [
    "## 1. Dataloader\n",
    "\n",
    " - Flatten => 채널 차원 추가로 변경 \n",
    " \n",
    " (Convolution Layer는 주로 이미지데이터처리를 위해 사용되기 때문에, 컬러이미지는 (height, width, 3) 흑백은 (height, width, 1)로 사용한다.)\n",
    " \n",
    " \n",
    "       ex) (num_data, 28, 28) => (num_data, 28, 28, 1)\n",
    " "
   ]
  },
  {
   "cell_type": "code",
   "execution_count": 3,
   "id": "94cff93e",
   "metadata": {},
   "outputs": [],
   "source": [
    "class DataLoader():\n",
    "    def __init__(self):\n",
    "        # data load\n",
    "        (self.train_x, self.train_y), \\\n",
    "            (self.test_x, self.test_y) = tf.keras.datasets.mnist.load_data()\n",
    "\n",
    "    def scale(self, x):\n",
    "\n",
    "        return (x / 255.0).astype(np.float32)\n",
    "\n",
    "    def preprocess_dataset(self, dataset):\n",
    "\n",
    "        (feature, target) = dataset\n",
    "\n",
    "        # scaling #\n",
    "        scaled_x = np.array([self.scale(x) for x in feature])\n",
    "\n",
    "        # Add channel axis #\n",
    "        expanded_x = scaled_x[:, :, :, np.newaxis] # tf.expand 대신 np.newaxis 를 사용했다\n",
    "\n",
    "        # label encoding #\n",
    "        ohe_y = np.array([tf.keras.utils.to_categorical(\n",
    "            y, num_classes=10) for y in target])\n",
    "        \n",
    "        return expanded_x, ohe_y\n",
    "\n",
    "    def get_train_dataset(self):\n",
    "        return self.preprocess_dataset((self.train_x, self.train_y))\n",
    "\n",
    "    def get_test_dataset(self):\n",
    "        return self.preprocess_dataset((self.test_x, self.test_y))"
   ]
  },
  {
   "cell_type": "code",
   "execution_count": 4,
   "id": "d586577b",
   "metadata": {},
   "outputs": [
    {
     "name": "stdout",
     "output_type": "stream",
     "text": [
      "(60000, 28, 28, 1) float32\n",
      "(60000, 10) float32\n",
      "(10000, 28, 28, 1) float32\n",
      "(10000, 10) float32\n"
     ]
    }
   ],
   "source": [
    "mnist_loader = DataLoader()\n",
    "\n",
    "train_x, train_y = mnist_loader.get_train_dataset()\n",
    "\n",
    "print(train_x.shape, train_x.dtype)\n",
    "print(train_y.shape, train_y.dtype)\n",
    "\n",
    "test_x, test_y = mnist_loader.get_test_dataset()\n",
    "\n",
    "print(test_x.shape, test_x.dtype)\n",
    "print(test_y.shape, test_y.dtype)"
   ]
  },
  {
   "cell_type": "markdown",
   "id": "94c206a4",
   "metadata": {},
   "source": [
    "## 2. VGGNet에서 사용되는 Layer들\n",
    "\n",
    " - `tf.keras.layers.Conv2D`\n",
    " - `tf.keras.layers.Activation`\n",
    " - `tf.keras.layers.MaxPool2D`\n",
    " - `tf.keras.layers.Flatten`\n",
    " - `tf.keras.layers.Dense`"
   ]
  },
  {
   "cell_type": "markdown",
   "id": "b6ef4ce4",
   "metadata": {},
   "source": [
    "### (1) Conv2D\n",
    "- filters: layer에서 사용할 Filter(weights)의 갯수\n",
    "- kernel_size: Filter(weights)의 사이즈  \n",
    "- strides: 몇 개의 pixel을 skip 하면서 훑어지나갈 것인지 (출력 피쳐맵의 사이즈에 영향을 줌)\n",
    "- padding: zero padding을 만들 것인지. VALID는 Padding이 없고, SAME은 Padding이 있음 (출력 피쳐맵의 사이즈에 영향을 줌)\n",
    "- activation: Activation Function을 지정"
   ]
  },
  {
   "cell_type": "code",
   "execution_count": 5,
   "id": "668074a4",
   "metadata": {},
   "outputs": [
    {
     "data": {
      "text/plain": [
       "<keras.layers.convolutional.conv2d.Conv2D at 0x16937c21cc0>"
      ]
     },
     "execution_count": 5,
     "metadata": {},
     "output_type": "execute_result"
    }
   ],
   "source": [
    "tf.keras.layers.Conv2D(64, 3, 1, padding=\"same\", activation='relu')"
   ]
  },
  {
   "cell_type": "markdown",
   "id": "2ecf9a57",
   "metadata": {},
   "source": [
    "### (2) MaxPool2D\n",
    "- 지정한 영역에서 가장 큰 값을 선택(일종의 차원축소)\n",
    "###### 　\n",
    "- pool_size: Pooling window 크기\n",
    "- strides: 몇 개의 pixel을 skip 하면서 훑어지나갈 것인지 \n",
    "- padding: zero padding을 만들 것인지"
   ]
  },
  {
   "cell_type": "code",
   "execution_count": 6,
   "id": "13c824b1",
   "metadata": {},
   "outputs": [
    {
     "data": {
      "text/plain": [
       "keras.layers.pooling.max_pooling2d.MaxPooling2D"
      ]
     },
     "execution_count": 6,
     "metadata": {},
     "output_type": "execute_result"
    }
   ],
   "source": [
    "tf.keras.layers.MaxPool2D"
   ]
  },
  {
   "cell_type": "markdown",
   "id": "720f45ab",
   "metadata": {},
   "source": [
    "### (3) Flatten\n"
   ]
  },
  {
   "cell_type": "code",
   "execution_count": 7,
   "id": "1f592793",
   "metadata": {},
   "outputs": [
    {
     "data": {
      "text/plain": [
       "keras.layers.reshaping.flatten.Flatten"
      ]
     },
     "execution_count": 7,
     "metadata": {},
     "output_type": "execute_result"
    }
   ],
   "source": [
    "tf.keras.layers.Flatten"
   ]
  },
  {
   "cell_type": "markdown",
   "id": "ecaf8d3c",
   "metadata": {},
   "source": [
    "### (4) Dense\n",
    "- units : 노드 갯수\n",
    "- activation : 활성화 함수\n",
    "- use_bias : bias 를 사용 할 것인지\n",
    "- kernel_initializer : 최초 가중치를 어떻게 세팅 할 것인지\n",
    "- bias_initializer : 최초 bias를 어떻게 세팅 할 것인지"
   ]
  },
  {
   "cell_type": "code",
   "execution_count": 8,
   "id": "e67aa782",
   "metadata": {},
   "outputs": [
    {
     "data": {
      "text/plain": [
       "keras.layers.core.dense.Dense"
      ]
     },
     "execution_count": 8,
     "metadata": {},
     "output_type": "execute_result"
    }
   ],
   "source": [
    "tf.keras.layers.Dense"
   ]
  },
  {
   "cell_type": "markdown",
   "id": "09c2eea1",
   "metadata": {},
   "source": [
    "---\n",
    "## 3. 모델 구현"
   ]
  },
  {
   "cell_type": "code",
   "execution_count": 9,
   "id": "508855a2",
   "metadata": {},
   "outputs": [],
   "source": [
    "from tensorflow.keras.layers import Conv2D, MaxPool2D, Flatten, Dense"
   ]
  },
  {
   "cell_type": "code",
   "execution_count": 10,
   "id": "0a0b6408",
   "metadata": {},
   "outputs": [],
   "source": [
    "model = tf.keras.Sequential()\n",
    "\n",
    "model.add(Conv2D(32, kernel_size=3, padding=\"same\", activation='relu', input_shape=(28, 28, 1)))\n",
    "model.add(Conv2D(32, kernel_size=3, padding=\"same\", activation='relu'))\n",
    "model.add(MaxPool2D())\n",
    "model.add(Conv2D(64, kernel_size=3, padding=\"same\", activation='relu'))\n",
    "model.add(Conv2D(64, kernel_size=3, padding=\"same\", activation='relu'))\n",
    "model.add(MaxPool2D())\n",
    "model.add(Flatten())\n",
    "model.add(Dense(128, activation='relu'))\n",
    "model.add(Dense(64, activation='relu'))\n",
    "model.add(Dense(10, activation='softmax'))"
   ]
  },
  {
   "cell_type": "code",
   "execution_count": 11,
   "id": "721fe69b",
   "metadata": {},
   "outputs": [
    {
     "name": "stdout",
     "output_type": "stream",
     "text": [
      "Model: \"sequential\"\n",
      "_________________________________________________________________\n",
      " Layer (type)                Output Shape              Param #   \n",
      "=================================================================\n",
      " conv2d_1 (Conv2D)           (None, 28, 28, 32)        320       \n",
      "                                                                 \n",
      " conv2d_2 (Conv2D)           (None, 28, 28, 32)        9248      \n",
      "                                                                 \n",
      " max_pooling2d (MaxPooling2D  (None, 14, 14, 32)       0         \n",
      " )                                                               \n",
      "                                                                 \n",
      " conv2d_3 (Conv2D)           (None, 14, 14, 64)        18496     \n",
      "                                                                 \n",
      " conv2d_4 (Conv2D)           (None, 14, 14, 64)        36928     \n",
      "                                                                 \n",
      " max_pooling2d_1 (MaxPooling  (None, 7, 7, 64)         0         \n",
      " 2D)                                                             \n",
      "                                                                 \n",
      " flatten (Flatten)           (None, 3136)              0         \n",
      "                                                                 \n",
      " dense (Dense)               (None, 128)               401536    \n",
      "                                                                 \n",
      " dense_1 (Dense)             (None, 64)                8256      \n",
      "                                                                 \n",
      " dense_2 (Dense)             (None, 10)                650       \n",
      "                                                                 \n",
      "=================================================================\n",
      "Total params: 475,434\n",
      "Trainable params: 475,434\n",
      "Non-trainable params: 0\n",
      "_________________________________________________________________\n"
     ]
    }
   ],
   "source": [
    "model.summary()"
   ]
  },
  {
   "cell_type": "code",
   "execution_count": 12,
   "id": "7a61bec9",
   "metadata": {},
   "outputs": [],
   "source": [
    "lr = 0.03\n",
    "opt = tf.keras.optimizers.Adam(lr)\n",
    "loss = tf.keras.losses.categorical_crossentropy\n",
    "\n",
    "model.compile(optimizer=opt, loss=loss, metrics=['accuracy'])"
   ]
  },
  {
   "cell_type": "code",
   "execution_count": 14,
   "id": "d63cfb21",
   "metadata": {},
   "outputs": [
    {
     "name": "stdout",
     "output_type": "stream",
     "text": [
      "Epoch 1/2\n",
      "469/469 [==============================] - 152s 325ms/step - loss: 2.3031 - accuracy: 0.1100 - val_loss: 2.3015 - val_accuracy: 0.1135\n",
      "Epoch 2/2\n",
      "469/469 [==============================] - 146s 312ms/step - loss: 2.3031 - accuracy: 0.1068 - val_loss: 2.3028 - val_accuracy: 0.1135\n"
     ]
    }
   ],
   "source": [
    "hist = model.fit(train_x, train_y, epochs=2, batch_size=128, validation_data=(test_x, test_y))"
   ]
  },
  {
   "cell_type": "code",
   "execution_count": 15,
   "id": "7b2e4afd",
   "metadata": {},
   "outputs": [
    {
     "data": {
      "text/plain": [
       "{'loss': [2.303072214126587, 2.303075075149536],\n",
       " 'accuracy': [0.10996666550636292, 0.10681666433811188],\n",
       " 'val_loss': [2.301480770111084, 2.302835464477539],\n",
       " 'val_accuracy': [0.11349999904632568, 0.11349999904632568]}"
      ]
     },
     "execution_count": 15,
     "metadata": {},
     "output_type": "execute_result"
    }
   ],
   "source": [
    "hist.history"
   ]
  },
  {
   "cell_type": "code",
   "execution_count": 16,
   "id": "941dace9",
   "metadata": {},
   "outputs": [
    {
     "data": {
      "image/png": "[encoded data removed]",
      "text/plain": [
       "<Figure size 1000x500 with 4 Axes>"
      ]
     },
     "metadata": {},
     "output_type": "display_data"
    }
   ],
   "source": [
    "plt.figure(figsize=(10, 5))\n",
    "plt.subplot(221)\n",
    "plt.plot(hist.history['loss'])\n",
    "plt.title(\"loss\")\n",
    "plt.subplot(222)\n",
    "plt.plot(hist.history['accuracy'], 'b-')\n",
    "plt.title(\"acc\")\n",
    "plt.subplot(223)\n",
    "plt.plot(hist.history['val_loss'])\n",
    "plt.title(\"val_loss\")\n",
    "plt.subplot(224)\n",
    "plt.plot(hist.history['val_accuracy'], 'b-')\n",
    "plt.title(\"val_accuracy\")\n",
    "\n",
    "plt.tight_layout()\n",
    "plt.show()"
   ]
  },
  {
   "cell_type": "code",
   "execution_count": null,
   "id": "b924a42a",
   "metadata": {},
   "outputs": [],
   "source": []
  }
 ],
 "metadata": {
  "kernelspec": {
   "display_name": "Python 3 (ipykernel)",
   "language": "python",
   "name": "python3"
  },
  "language_info": {
   "codemirror_mode": {
    "name": "ipython",
    "version": 3
   },
   "file_extension": ".py",
   "mimetype": "text/x-python",
   "name": "python",
   "nbconvert_exporter": "python",
   "pygments_lexer": "ipython3",
   "version": "3.10.6"
  }
 },
 "nbformat": 4,
 "nbformat_minor": 5
}
