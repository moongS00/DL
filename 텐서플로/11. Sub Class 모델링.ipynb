{
 "cells": [
  {
   "cell_type": "markdown",
   "id": "0324c997",
   "metadata": {},
   "source": [
    "# Sub Class 모델링\n",
    "\"모델\"은 Input을 Output으로 만들어주는 수식이다. \n",
    "\n",
    "해당 기능을 수행하는 두 가지 클래스가 `tf.keras.layers.Layer` 와 `tf.keras.layers.Model` 클래스이다. \n",
    "\n",
    "두가지 모두 **연산을 추상화** 하는 것으로 동일한 역할을 하지만, <br> `tf.keras.layers.Model` 클래스의 경우 모델을 저장 하는 기능 과 `fit` 함수를 사용할 수 있다는 점에서 차이가 있다. \n",
    "\n",
    "- tf.keras.layers.Layer\n",
    "- tf.keras.layers.Model"
   ]
  },
  {
   "cell_type": "code",
   "execution_count": 1,
   "id": "9d29c569",
   "metadata": {},
   "outputs": [],
   "source": [
    "import numpy as np\n",
    "import pandas as pd\n",
    "import tensorflow as tf\n",
    "\n",
    "import matplotlib.pyplot as plt\n",
    "import seaborn as sns\n",
    "%matplotlib inline\n",
    "\n",
    "np.random.seed(7777)\n",
    "tf.random.set_seed(7777)"
   ]
  },
  {
   "cell_type": "markdown",
   "id": "e9f46a9b",
   "metadata": {},
   "source": [
    "---\n",
    "## 1. Linear Regression"
   ]
  },
  {
   "cell_type": "code",
   "execution_count": 20,
   "id": "a16dba0c",
   "metadata": {},
   "outputs": [],
   "source": [
    "class LinearRegression(tf.keras.layers.Layer):\n",
    "    def __init__(self, units):\n",
    "        super(LinearRegression, self).__init__()  # 상속받음\n",
    "        self.units = units\n",
    "\n",
    "    def build(self, input_shape):\n",
    "        self.w = self.add_weight(\n",
    "            shape=(input_shape[-1], self.units),\n",
    "            initializer=\"random_normal\",\n",
    "            trainable=True,\n",
    "        )\n",
    "        self.b = tf.Variable(0.0)\n",
    "\n",
    "    def call(self, inputs):  # over writing\n",
    "        return tf.matmul(inputs, self.w) + self.b"
   ]
  },
  {
   "cell_type": "markdown",
   "id": "53726de0",
   "metadata": {},
   "source": [
    "### 가상데이터"
   ]
  },
  {
   "cell_type": "code",
   "execution_count": 21,
   "id": "5a6d4fd8",
   "metadata": {},
   "outputs": [],
   "source": [
    "W_true = np.array([3., 2., 4., 1.]).reshape(4, 1)\n",
    "B_true = np.array([1.0])\n",
    "\n",
    "X = tf.random.normal([500, 4])\n",
    "noise = tf.random.normal((500, 1))\n",
    "\n",
    "y = X @ W_true + B_true + noise"
   ]
  },
  {
   "cell_type": "code",
   "execution_count": 22,
   "id": "fb180ab8",
   "metadata": {},
   "outputs": [
    {
     "name": "stdout",
     "output_type": "stream",
     "text": [
      "epoch : 0 loss : 36.6630859375\n",
      "epoch : 10 loss : 9.202723503112793\n",
      "epoch : 20 loss : 2.8482754230499268\n",
      "epoch : 30 loss : 1.3728957176208496\n",
      "epoch : 40 loss : 1.029015302658081\n",
      "epoch : 50 loss : 0.9485064744949341\n",
      "epoch : 60 loss : 0.9295617938041687\n",
      "epoch : 70 loss : 0.9250779151916504\n",
      "epoch : 80 loss : 0.9240097403526306\n",
      "epoch : 90 loss : 0.9237534403800964\n"
     ]
    }
   ],
   "source": [
    "opt = tf.keras.optimizers.SGD(learning_rate=3e-2)\n",
    "\n",
    "\n",
    "linear_layer = LinearRegression(1)\n",
    "\n",
    "for epoch in range(100):\n",
    "    with tf.GradientTape() as tape:\n",
    "        y_hat = linear_layer(X)\n",
    "        loss = tf.reduce_mean(tf.square((y - y_hat)))\n",
    "        \n",
    "    grads = tape.gradient(loss, linear_layer.trainable_weights)\n",
    "    \n",
    "    opt.apply_gradients(zip(grads, linear_layer.trainable_weights))\n",
    "    \n",
    "    if epoch % 10 == 0:\n",
    "        print(\"epoch : {} loss : {}\".format(epoch, loss.numpy()))"
   ]
  },
  {
   "cell_type": "markdown",
   "id": "6c95e44a",
   "metadata": {},
   "source": [
    "- loss가 점차 줄어드는 것을 볼수 있다."
   ]
  },
  {
   "cell_type": "markdown",
   "id": "b43d84cf",
   "metadata": {},
   "source": [
    "---\n",
    "## 2. ResNet\n",
    "\n",
    "- Functional API 로 만들었던 ResNet을 Sub Class 모델링으로 다시 만들어보기\n",
    "\n"
   ]
  },
  {
   "cell_type": "code",
   "execution_count": 25,
   "id": "ce293624",
   "metadata": {},
   "outputs": [],
   "source": [
    "from tensorflow.keras.layers import Input, Conv2D, MaxPool2D, Flatten, Dense, Add"
   ]
  },
  {
   "cell_type": "markdown",
   "id": "084af28c",
   "metadata": {},
   "source": [
    "#### (1) Residual Block - Layer"
   ]
  },
  {
   "cell_type": "code",
   "execution_count": 54,
   "id": "efa63b86",
   "metadata": {},
   "outputs": [],
   "source": [
    "class ResidualBlock(tf.keras.layers.Layer):\n",
    "    def __init__(self, filters=32, filter_match=False):\n",
    "        super(ResidualBlock, self).__init__()\n",
    "    \n",
    "        self.conv1 = Conv2D(filters, kernel_size=1, padding='same', activation='relu')\n",
    "        self.conv2 = Conv2D(filters, kernel_size=3, padding='same', activation='relu')\n",
    "        self.conv3 = Conv2D(filters, kernel_size=1, padding='same', activation='relu')\n",
    "        self.add = Add()\n",
    "        \n",
    "        self.filters = filters\n",
    "        self.filter_match = filter_match\n",
    "        if filter_match:\n",
    "            self.conv_ext = Conv2D(filters, kernel_size=1, padding='same')\n",
    "        \n",
    "    def call(self, inputs):\n",
    "        net1 = self.conv1(inputs)\n",
    "        net2 = self.conv2(net1)\n",
    "        net3 = self.conv3(net2)\n",
    "        if self.filter_match:\n",
    "            res = self.add([self.conv_ext(inputs), net3])\n",
    "        else: \n",
    "            res = self.add([inputs, net3])\n",
    "        return res \n",
    "        \n",
    "        "
   ]
  },
  {
   "cell_type": "markdown",
   "id": "55871787",
   "metadata": {},
   "source": [
    "#### (2) ResNet  - Model"
   ]
  },
  {
   "cell_type": "code",
   "execution_count": 55,
   "id": "22e6587e",
   "metadata": {},
   "outputs": [],
   "source": [
    "class ResNet(tf.keras.Model):\n",
    "\n",
    "    def __init__(self, num_classes):\n",
    "        super(ResNet, self).__init__()\n",
    "        \n",
    "        self.conv1 = Conv2D(32, kernel_size=3, strides=2, padding='same', activation='relu')\n",
    "        self.maxp1 =  MaxPool2D()\n",
    "        self.block_1 = ResidualBlock(64, True)\n",
    "        self.block_2 = ResidualBlock(64)\n",
    "        self.maxp2 =  MaxPool2D()\n",
    "        self.flat = Flatten()\n",
    "        self.dense = Dense(num_classes)\n",
    "\n",
    "    def call(self, inputs):\n",
    "        x = self.conv1(inputs)\n",
    "        x = self.maxp1(x)\n",
    "        x = self.block_1(x)\n",
    "        x = self.block_2(x)\n",
    "        x = self.maxp2(x)\n",
    "        x = self.flat(x)\n",
    "        return self.dense(x)"
   ]
  },
  {
   "cell_type": "code",
   "execution_count": 56,
   "id": "ed27522f",
   "metadata": {},
   "outputs": [],
   "source": [
    "model = ResNet(num_classes=10)"
   ]
  },
  {
   "cell_type": "markdown",
   "id": "fc0a07ab",
   "metadata": {},
   "source": [
    "### 학습"
   ]
  },
  {
   "cell_type": "code",
   "execution_count": 57,
   "id": "638309cb",
   "metadata": {},
   "outputs": [],
   "source": [
    "class Cifar10DataLoader():\n",
    "    def __init__(self):\n",
    "        # data load\n",
    "        (self.train_x, self.train_y), \\\n",
    "            (self.test_x, self.test_y) = tf.keras.datasets.cifar10.load_data()\n",
    "        self.input_shape = self.train_x.shape[1:]\n",
    "\n",
    "    def scale(self, x):\n",
    "\n",
    "        return (x / 255.0).astype(np.float32)\n",
    "\n",
    "    def preprocess_dataset(self, dataset):\n",
    "\n",
    "        (feature, target) = dataset\n",
    "\n",
    "        # scaling #\n",
    "        scaled_x = np.array([self.scale(x) for x in feature])\n",
    "\n",
    "        # label encoding #\n",
    "        ohe_y = np.array([tf.keras.utils.to_categorical(\n",
    "            y, num_classes=10) for y in target])\n",
    "        \n",
    "        return scaled_x, ohe_y.squeeze(1)\n",
    "\n",
    "    def get_train_dataset(self):\n",
    "        return self.preprocess_dataset((self.train_x, self.train_y))\n",
    "\n",
    "    def get_test_dataset(self):\n",
    "        return self.preprocess_dataset((self.test_x, self.test_y))"
   ]
  },
  {
   "cell_type": "code",
   "execution_count": 58,
   "id": "e78099f0",
   "metadata": {},
   "outputs": [
    {
     "name": "stdout",
     "output_type": "stream",
     "text": [
      "(50000, 32, 32, 3) float32\n",
      "(50000, 10) float32\n",
      "(10000, 32, 32, 3) float32\n",
      "(10000, 10) float32\n"
     ]
    }
   ],
   "source": [
    "cifar10_loader = Cifar10DataLoader()\n",
    "\n",
    "train_x, train_y = cifar10_loader.get_train_dataset()\n",
    "\n",
    "print(train_x.shape, train_x.dtype)\n",
    "print(train_y.shape, train_y.dtype)\n",
    "\n",
    "test_x, test_y = cifar10_loader.get_test_dataset()\n",
    "\n",
    "print(test_x.shape, test_x.dtype)\n",
    "print(test_y.shape, test_y.dtype)"
   ]
  },
  {
   "cell_type": "code",
   "execution_count": 59,
   "id": "23d2fdd5",
   "metadata": {},
   "outputs": [],
   "source": [
    "learning_rate = 0.03\n",
    "opt = tf.keras.optimizers.Adam(learning_rate)\n",
    "loss = tf.keras.losses.categorical_crossentropy\n",
    "\n",
    "model.compile(optimizer=opt, loss=loss, metrics=[\"accuracy\"])"
   ]
  },
  {
   "cell_type": "code",
   "execution_count": 60,
   "id": "0145bd9c",
   "metadata": {
    "scrolled": true
   },
   "outputs": [
    {
     "name": "stdout",
     "output_type": "stream",
     "text": [
      "Epoch 1/2\n",
      "391/391 [==============================] - 64s 158ms/step - loss: 7.6312 - accuracy: 0.0996 - val_loss: 7.8205 - val_accuracy: 0.1000\n",
      "Epoch 2/2\n",
      "391/391 [==============================] - 63s 162ms/step - loss: 7.8250 - accuracy: 0.1000 - val_loss: 7.8205 - val_accuracy: 0.1000\n"
     ]
    }
   ],
   "source": [
    "hist = model.fit(train_x, train_y, epochs=2, batch_size=128, validation_data=(test_x, test_y))"
   ]
  },
  {
   "cell_type": "code",
   "execution_count": 61,
   "id": "73756f28",
   "metadata": {},
   "outputs": [
    {
     "data": {
      "image/png": "[encoded data removed]",
      "text/plain": [
       "<Figure size 1000x500 with 4 Axes>"
      ]
     },
     "metadata": {},
     "output_type": "display_data"
    }
   ],
   "source": [
    "plt.figure(figsize=(10, 5))\n",
    "plt.subplot(221)\n",
    "plt.plot(hist.history['loss'])\n",
    "plt.title(\"loss\")\n",
    "plt.subplot(222)\n",
    "plt.plot(hist.history['accuracy'], 'b-')\n",
    "plt.title(\"acc\")\n",
    "plt.subplot(223)\n",
    "plt.plot(hist.history['val_loss'])\n",
    "plt.title(\"val_loss\")\n",
    "plt.subplot(224)\n",
    "plt.plot(hist.history['val_accuracy'], 'b-')\n",
    "plt.title(\"val_accuracy\")\n",
    "\n",
    "plt.tight_layout()\n",
    "plt.show()"
   ]
  },
  {
   "cell_type": "code",
   "execution_count": null,
   "id": "ccff3c9a",
   "metadata": {},
   "outputs": [],
   "source": []
  }
 ],
 "metadata": {
  "kernelspec": {
   "display_name": "Python 3 (ipykernel)",
   "language": "python",
   "name": "python3"
  },
  "language_info": {
   "codemirror_mode": {
    "name": "ipython",
    "version": 3
   },
   "file_extension": ".py",
   "mimetype": "text/x-python",
   "name": "python",
   "nbconvert_exporter": "python",
   "pygments_lexer": "ipython3",
   "version": "3.10.6"
  }
 },
 "nbformat": 4,
 "nbformat_minor": 5
}
