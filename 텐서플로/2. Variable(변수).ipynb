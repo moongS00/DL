{
 "cells": [
  {
   "cell_type": "markdown",
   "id": "9db29e43",
   "metadata": {},
   "source": [
    "# Variable (변수)\n",
    "- 미지수, 가중치를 정의할 때 사용\n",
    "- 직접 사용할 일이 많지는 않음\n",
    "- 변수 정의는 변수 생성 + 초기화"
   ]
  },
  {
   "cell_type": "code",
   "execution_count": 2,
   "id": "60e02e4a",
   "metadata": {},
   "outputs": [],
   "source": [
    "import tensorflow as tf\n",
    "import numpy as np"
   ]
  },
  {
   "cell_type": "code",
   "execution_count": 4,
   "id": "7754a20b",
   "metadata": {},
   "outputs": [
    {
     "name": "stdout",
     "output_type": "stream",
     "text": [
      "<tf.Variable 'Variable:0' shape=(2, 2) dtype=float32, numpy=\n",
      "array([[1., 2.],\n",
      "       [3., 4.]], dtype=float32)>\n",
      "<tf.Variable 'Variable:0' shape=(2, 2) dtype=int32, numpy=\n",
      "array([[1, 2],\n",
      "       [3, 4]])>\n",
      "<tf.Variable 'Variable:0' shape=(2, 2) dtype=int32, numpy=\n",
      "array([[1, 2],\n",
      "       [3, 4]])>\n"
     ]
    }
   ],
   "source": [
    "tensor = tf.constant([[1.0, 2.0], [3.0, 4.0]])\n",
    "arr = np.array([[1, 2], [3, 4]])\n",
    "li = [[1, 2], [3, 4]]\n",
    "\n",
    "te_var = tf.Variable(tensor)\n",
    "arr_var = tf.Variable(arr)\n",
    "li_var = tf.Variable(li)\n",
    "\n",
    "print(te_var)\n",
    "print(arr_var)\n",
    "print(li_var)"
   ]
  },
  {
   "cell_type": "markdown",
   "id": "3be596b6",
   "metadata": {},
   "source": [
    "- Constant와 같이 기본 속성값이 들어있음"
   ]
  },
  {
   "cell_type": "code",
   "execution_count": 5,
   "id": "432102c2",
   "metadata": {},
   "outputs": [
    {
     "name": "stdout",
     "output_type": "stream",
     "text": [
      "Shape:  (2, 2)\n",
      "dtype:  <dtype: 'float32'>\n",
      "as numpy:  <bound method BaseResourceVariable.numpy of <tf.Variable 'Variable:0' shape=(2, 2) dtype=float32, numpy=\n",
      "array([[1., 2.],\n",
      "       [3., 4.]], dtype=float32)>>\n"
     ]
    }
   ],
   "source": [
    "print(\"Shape: \", te_var.shape)\n",
    "print(\"dtype: \", te_var.dtype)\n",
    "print(\"as numpy: \", te_var.numpy)"
   ]
  },
  {
   "cell_type": "markdown",
   "id": "ee7eae84",
   "metadata": {},
   "source": [
    "## 변수는 기존 텐서의 메모리를 재사용하여 텐서를 재할당 할 수 있다."
   ]
  },
  {
   "cell_type": "code",
   "execution_count": 6,
   "id": "b697d0cb",
   "metadata": {},
   "outputs": [
    {
     "name": "stdout",
     "output_type": "stream",
     "text": [
      "1st:  <tf.Variable 'Variable:0' shape=(2,) dtype=float32, numpy=array([2., 3.], dtype=float32)>\n",
      "2nd:  <tf.Variable 'Variable:0' shape=(2,) dtype=float32, numpy=array([1., 2.], dtype=float32)>\n"
     ]
    }
   ],
   "source": [
    "a = tf.Variable([2.0, 3.0])\n",
    "print(\"1st: \", a)\n",
    "\n",
    "a.assign([1, 2])\n",
    "print(\"2nd: \", a) "
   ]
  },
  {
   "cell_type": "markdown",
   "id": "e134b216",
   "metadata": {},
   "source": [
    "- 초기값이 float라서 int를 재할당해도 float"
   ]
  },
  {
   "cell_type": "markdown",
   "id": "0bc210a4",
   "metadata": {},
   "source": [
    "```\n",
    "기존 메모리의 크기와 다르면 할당할 수 없음\n",
    "a.assign([1.0, 2.0, 3.0])\n",
    "```"
   ]
  },
  {
   "cell_type": "code",
   "execution_count": null,
   "id": "cb7dff07",
   "metadata": {},
   "outputs": [],
   "source": []
  }
 ],
 "metadata": {
  "kernelspec": {
   "display_name": "Python 3 (ipykernel)",
   "language": "python",
   "name": "python3"
  },
  "language_info": {
   "codemirror_mode": {
    "name": "ipython",
    "version": 3
   },
   "file_extension": ".py",
   "mimetype": "text/x-python",
   "name": "python",
   "nbconvert_exporter": "python",
   "pygments_lexer": "ipython3",
   "version": "3.10.6"
  }
 },
 "nbformat": 4,
 "nbformat_minor": 5
}
