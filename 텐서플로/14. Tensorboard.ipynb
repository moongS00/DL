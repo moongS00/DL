{
 "cells": [
  {
   "cell_type": "markdown",
   "id": "90778585",
   "metadata": {},
   "source": [
    "# Tensorboard\n",
    "- TensorFlow에서 제공하는 시각화 툴\n",
    "- 학습하는 중간의 그래프나 여러가지 정보를 Web UI로 조회 가능\n",
    "- 학습 log를 시각화 하는 것이라고 보면 됨\n",
    "\n",
    "https://www.tensorflow.org/tensorboard?hl=ko"
   ]
  },
  {
   "cell_type": "code",
   "execution_count": 3,
   "id": "87a01213",
   "metadata": {},
   "outputs": [],
   "source": [
    "import numpy as np\n",
    "import pandas as pd\n",
    "import tensorflow as tf\n",
    "\n",
    "from tensorflow.keras.layers import Input, Conv2D, MaxPool2D, Flatten, Dense, Add\n",
    "\n",
    "\n",
    "import matplotlib.pyplot as plt\n",
    "import seaborn as sns\n",
    "%matplotlib inline\n",
    "\n",
    "np.random.seed(7777)\n",
    "tf.random.set_seed(7777)"
   ]
  },
  {
   "cell_type": "code",
   "execution_count": 2,
   "id": "09e2f25d",
   "metadata": {
    "scrolled": false
   },
   "outputs": [
    {
     "name": "stdout",
     "output_type": "stream",
     "text": [
      "(50000, 32, 32, 3) float32\n",
      "(50000, 10) float32\n",
      "(10000, 32, 32, 3) float32\n",
      "(10000, 10) float32\n"
     ]
    }
   ],
   "source": [
    "class Cifar10DataLoader():\n",
    "    def __init__(self):\n",
    "        # data load\n",
    "        (self.train_x, self.train_y), \\\n",
    "            (self.test_x, self.test_y) = tf.keras.datasets.cifar10.load_data()\n",
    "        self.input_shape = self.train_x.shape[1:]\n",
    "\n",
    "    def scale(self, x):\n",
    "\n",
    "        return (x / 255.0).astype(np.float32)\n",
    "\n",
    "    def preprocess_dataset(self, dataset):\n",
    "\n",
    "        (feature, target) = dataset\n",
    "\n",
    "        # scaling #\n",
    "        scaled_x = np.array([self.scale(x) for x in feature])\n",
    "\n",
    "        # label encoding #\n",
    "        ohe_y = np.array([tf.keras.utils.to_categorical(\n",
    "            y, num_classes=10) for y in target])\n",
    "        \n",
    "        return scaled_x, ohe_y.squeeze(1)\n",
    "\n",
    "    def get_train_dataset(self):\n",
    "        return self.preprocess_dataset((self.train_x, self.train_y))\n",
    "\n",
    "    def get_test_dataset(self):\n",
    "        return self.preprocess_dataset((self.test_x, self.test_y))\n",
    "\n",
    "cifar10_loader = Cifar10DataLoader()\n",
    "train_x, train_y = cifar10_loader.get_train_dataset()\n",
    "\n",
    "print(train_x.shape, train_x.dtype)\n",
    "print(train_y.shape, train_y.dtype)\n",
    "\n",
    "test_x, test_y = cifar10_loader.get_test_dataset()\n",
    "\n",
    "print(test_x.shape, test_x.dtype)\n",
    "print(test_y.shape, test_y.dtype)"
   ]
  },
  {
   "cell_type": "code",
   "execution_count": 4,
   "id": "5e36673f",
   "metadata": {
    "scrolled": true
   },
   "outputs": [
    {
     "name": "stdout",
     "output_type": "stream",
     "text": [
      "Model: \"resnet\"\n",
      "__________________________________________________________________________________________________\n",
      " Layer (type)                   Output Shape         Param #     Connected to                     \n",
      "==================================================================================================\n",
      " input_1 (InputLayer)           [(None, 32, 32, 3)]  0           []                               \n",
      "                                                                                                  \n",
      " conv2d (Conv2D)                (None, 16, 16, 16)   448         ['input_1[0][0]']                \n",
      "                                                                                                  \n",
      " max_pooling2d (MaxPooling2D)   (None, 8, 8, 16)     0           ['conv2d[0][0]']                 \n",
      "                                                                                                  \n",
      " conv2d_1 (Conv2D)              (None, 8, 8, 32)     544         ['max_pooling2d[0][0]']          \n",
      "                                                                                                  \n",
      " conv2d_2 (Conv2D)              (None, 8, 8, 32)     9248        ['conv2d_1[0][0]']               \n",
      "                                                                                                  \n",
      " conv2d_4 (Conv2D)              (None, 8, 8, 32)     544         ['max_pooling2d[0][0]']          \n",
      "                                                                                                  \n",
      " conv2d_3 (Conv2D)              (None, 8, 8, 32)     1056        ['conv2d_2[0][0]']               \n",
      "                                                                                                  \n",
      " add (Add)                      (None, 8, 8, 32)     0           ['conv2d_4[0][0]',               \n",
      "                                                                  'conv2d_3[0][0]']               \n",
      "                                                                                                  \n",
      " conv2d_5 (Conv2D)              (None, 8, 8, 32)     1056        ['add[0][0]']                    \n",
      "                                                                                                  \n",
      " conv2d_6 (Conv2D)              (None, 8, 8, 32)     9248        ['conv2d_5[0][0]']               \n",
      "                                                                                                  \n",
      " conv2d_7 (Conv2D)              (None, 8, 8, 32)     1056        ['conv2d_6[0][0]']               \n",
      "                                                                                                  \n",
      " add_1 (Add)                    (None, 8, 8, 32)     0           ['add[0][0]',                    \n",
      "                                                                  'conv2d_7[0][0]']               \n",
      "                                                                                                  \n",
      " max_pooling2d_1 (MaxPooling2D)  (None, 4, 4, 32)    0           ['add_1[0][0]']                  \n",
      "                                                                                                  \n",
      " flatten (Flatten)              (None, 512)          0           ['max_pooling2d_1[0][0]']        \n",
      "                                                                                                  \n",
      " dense (Dense)                  (None, 10)           5130        ['flatten[0][0]']                \n",
      "                                                                                                  \n",
      "==================================================================================================\n",
      "Total params: 28,330\n",
      "Trainable params: 28,330\n",
      "Non-trainable params: 0\n",
      "__________________________________________________________________________________________________\n"
     ]
    }
   ],
   "source": [
    "def build_resnet(input_shape):\n",
    "    inputs = Input(input_shape)\n",
    "\n",
    "    net = Conv2D(16, kernel_size=3, strides=2,\n",
    "                 padding='same', activation='relu')(inputs)\n",
    "    net = MaxPool2D()(net)\n",
    "    \n",
    "    net1 = Conv2D(32, kernel_size=1, padding='same', activation='relu')(net)\n",
    "    net2 = Conv2D(32, kernel_size=3, padding='same', activation='relu')(net1)\n",
    "    net3 = Conv2D(32, kernel_size=1, padding='same', activation='relu')(net2)\n",
    "    \n",
    "    net1_1 = Conv2D(32, kernel_size=1, padding='same')(net)\n",
    "    net = Add()([net1_1, net3])\n",
    "    \n",
    "    net1 = Conv2D(32, kernel_size=1, padding='same', activation='relu')(net)\n",
    "    net2 = Conv2D(32, kernel_size=3, padding='same', activation='relu')(net1)\n",
    "    net3 = Conv2D(32, kernel_size=1, padding='same', activation='relu')(net2)\n",
    "    \n",
    "    net = Add()([net, net3])\n",
    "    \n",
    "    net = MaxPool2D()(net)\n",
    "    \n",
    "    net = Flatten()(net)\n",
    "    net = Dense(10, activation=\"softmax\")(net)\n",
    "\n",
    "    model = tf.keras.Model(inputs=inputs, outputs=net, name='resnet')\n",
    "    \n",
    "    return model\n",
    "\n",
    "model = build_resnet((32, 32, 3))\n",
    "model.summary()"
   ]
  },
  {
   "cell_type": "markdown",
   "id": "30212488",
   "metadata": {},
   "source": [
    "## (1) fit 함수로 학습 => callback 함수 사용! \n",
    "- TensorBoard 가 시각화할 때 사용할 log를 callback 함수로 작성\n",
    "- log_dir 을 계획적으로 정리해서 log들을 잘 저장하는 것이 중요하다"
   ]
  },
  {
   "cell_type": "markdown",
   "id": "5c387eae",
   "metadata": {},
   "source": [
    "#### callback 함수 설정\n",
    "- 파일명을 사용하는 logs/모델명/만든시간 으로 설정"
   ]
  },
  {
   "cell_type": "code",
   "execution_count": 6,
   "id": "53705aff",
   "metadata": {},
   "outputs": [
    {
     "data": {
      "text/plain": [
       "'logs/fit/20221201-214007'"
      ]
     },
     "execution_count": 6,
     "metadata": {},
     "output_type": "execute_result"
    }
   ],
   "source": [
    "import datetime\n",
    "\n",
    "cur_time = datetime.datetime.now().strftime(\"%Y%m%d-%H%M%S\")\n",
    "\n",
    "lod_dir = \"logs/fit/\" + cur_time\n",
    "lod_dir"
   ]
  },
  {
   "cell_type": "code",
   "execution_count": 8,
   "id": "c42769e1",
   "metadata": {},
   "outputs": [],
   "source": [
    "tb_callback = tf.keras.callbacks.TensorBoard(log_dir=lod_dir)"
   ]
  },
  {
   "cell_type": "markdown",
   "id": "11e4918b",
   "metadata": {},
   "source": [
    "#### lr, loss, opt 설정"
   ]
  },
  {
   "cell_type": "code",
   "execution_count": 5,
   "id": "6d631833",
   "metadata": {},
   "outputs": [],
   "source": [
    "learning_rate = 0.03\n",
    "opt = tf.keras.optimizers.Adam(learning_rate)\n",
    "loss = tf.keras.losses.categorical_crossentropy\n",
    "\n",
    "model.compile(optimizer=opt, loss=loss, metrics=[\"accuracy\"])"
   ]
  },
  {
   "cell_type": "markdown",
   "id": "292b1323",
   "metadata": {},
   "source": [
    "#### fit"
   ]
  },
  {
   "cell_type": "code",
   "execution_count": 9,
   "id": "6d77cdf5",
   "metadata": {},
   "outputs": [
    {
     "name": "stdout",
     "output_type": "stream",
     "text": [
      "Epoch 1/5\n",
      "1563/1563 [==============================] - 28s 17ms/step - loss: 2.3439 - accuracy: 0.1005 - val_loss: 2.3302 - val_accuracy: 0.1000\n",
      "Epoch 2/5\n",
      "1563/1563 [==============================] - 26s 16ms/step - loss: 2.3357 - accuracy: 0.1029 - val_loss: 2.3209 - val_accuracy: 0.1000\n",
      "Epoch 3/5\n",
      "1563/1563 [==============================] - 26s 16ms/step - loss: 2.3409 - accuracy: 0.0978 - val_loss: 2.3737 - val_accuracy: 0.1000\n",
      "Epoch 4/5\n",
      "1563/1563 [==============================] - 32s 21ms/step - loss: 2.3401 - accuracy: 0.0987 - val_loss: 2.3292 - val_accuracy: 0.1000\n",
      "Epoch 5/5\n",
      "1563/1563 [==============================] - 30s 19ms/step - loss: 2.3431 - accuracy: 0.0994 - val_loss: 2.3364 - val_accuracy: 0.1000\n"
     ]
    },
    {
     "data": {
      "text/plain": [
       "<keras.callbacks.History at 0x251ce0dd3f0>"
      ]
     },
     "execution_count": 9,
     "metadata": {},
     "output_type": "execute_result"
    }
   ],
   "source": [
    "model.fit(x=train_x, \n",
    "          y=train_y, \n",
    "          epochs=5,\n",
    "          validation_data=(test_x, test_y), \n",
    "          callbacks=[tb_callback])"
   ]
  },
  {
   "cell_type": "markdown",
   "id": "fee49867",
   "metadata": {},
   "source": [
    "#### TensorBoard  실행\n",
    "- 원래는 터미널에서 실행\n",
    "- 외부 서버에서 주피터에 접속한 경우 맨 뒤에  `--bind_all` 를 붙여준다."
   ]
  },
  {
   "cell_type": "code",
   "execution_count": 14,
   "id": "1c8eb72b",
   "metadata": {},
   "outputs": [
    {
     "name": "stderr",
     "output_type": "stream",
     "text": [
      "UsageError: Line magic function `%tensorboard` not found.\n"
     ]
    }
   ],
   "source": [
    "!tensorboard --logdir logs/fit"
   ]
  },
  {
   "cell_type": "markdown",
   "id": "ea8819c2",
   "metadata": {},
   "source": [
    "## (2) 내가 만든 함수로 학습 => tf.summary 사용! "
   ]
  },
  {
   "cell_type": "markdown",
   "id": "836d4386",
   "metadata": {},
   "source": [
    "#### 함수 제작"
   ]
  },
  {
   "cell_type": "code",
   "execution_count": 15,
   "id": "9ce773e8",
   "metadata": {},
   "outputs": [],
   "source": [
    "loss_fn = tf.keras.losses.categorical_crossentropy\n",
    "\n",
    "train_loss = tf.keras.metrics.Mean(name='train_loss')\n",
    "train_accuracy = tf.keras.metrics.CategoricalAccuracy(name='train_accuracy')\n",
    "\n",
    "test_loss = tf.keras.metrics.Mean(name='test_loss')\n",
    "test_accuracy = tf.keras.metrics.CategoricalAccuracy(name='test_accuracy')\n",
    "\n",
    "@tf.function\n",
    "def train_step(x, y) :\n",
    "    with tf.GradientTape() as tape:\n",
    "        pred = model(x)\n",
    "        loss = loss_fn(y, pred)\n",
    "        \n",
    "    gradients = tape.gradient(loss, model.trainable_variables)\n",
    "    opt.apply_gradients(zip(gradients, model.trainable_variables))\n",
    "    \n",
    "    train_loss(loss)\n",
    "    train_accuracy(y, pred)\n",
    "\n",
    "@tf.function\n",
    "def test_step(x, y) :\n",
    "    \n",
    "    pred = model(x)\n",
    "    loss = loss_fn(y, pred)\n",
    "    \n",
    "    test_loss(loss)\n",
    "    test_accuracy(y, pred)"
   ]
  },
  {
   "cell_type": "markdown",
   "id": "486e8ec8",
   "metadata": {},
   "source": [
    "#### 로그 저장 경로 설정\n",
    "- callback 함수는 train, test 파일을 자동으로 따로 저장해주지만\n",
    "- 이번 경우에는 내가 수동으로 따로 저장해야 한다."
   ]
  },
  {
   "cell_type": "code",
   "execution_count": 16,
   "id": "5def9d30",
   "metadata": {},
   "outputs": [],
   "source": [
    "train_log_dir = \"logs/gradtape/train/\" + cur_time\n",
    "test_log_dir = \"logs/gradtape/test/\" + cur_time"
   ]
  },
  {
   "cell_type": "markdown",
   "id": "744ba439",
   "metadata": {},
   "source": [
    "#### tf.summary 사용\n",
    "- 인자로 파일 저장위치를 받는다."
   ]
  },
  {
   "cell_type": "code",
   "execution_count": 20,
   "id": "9bdf56af",
   "metadata": {},
   "outputs": [],
   "source": [
    "train_summary_writer = tf.summary.create_file_writer(train_log_dir)\n",
    "test_summary_writer = tf.summary.create_file_writer(test_log_dir)"
   ]
  },
  {
   "cell_type": "markdown",
   "id": "4c235d93",
   "metadata": {},
   "source": [
    "#### 학습\n",
    "- 매 epoch 마다 log를 기록"
   ]
  },
  {
   "cell_type": "code",
   "execution_count": 21,
   "id": "ff93dcab",
   "metadata": {},
   "outputs": [
    {
     "name": "stdout",
     "output_type": "stream",
     "text": [
      "epoch 1 loss: 2.355724573135376, accuracy: 0.09937179833650589, test_loss: 2.3273210525512695, test_acc: 0.09995993226766586\n",
      "epoch 2 loss: 2.320366621017456, accuracy: 0.0985715463757515, test_loss: 2.307554006576538, test_acc: 0.09985977411270142\n",
      "epoch 3 loss: 2.3251609802246094, accuracy: 0.09889164566993713, test_loss: 2.3238322734832764, test_acc: 0.09985977411270142\n",
      "epoch 4 loss: 2.3269894123077393, accuracy: 0.0997319146990776, test_loss: 2.3113343715667725, test_acc: 0.09985977411270142\n",
      "epoch 5 loss: 2.326922655105591, accuracy: 0.0988716408610344, test_loss: 2.318948268890381, test_acc: 0.10016025602817535\n"
     ]
    }
   ],
   "source": [
    "batch_size = 64\n",
    "\n",
    "num_of_batch_train = train_x.shape[0] // batch_size\n",
    "num_of_batch_test = test_x.shape[0] // batch_size\n",
    "\n",
    "for epoch in range(5):\n",
    "    \n",
    "    for i in range(num_of_batch_train):\n",
    "        idx = i * batch_size\n",
    "        x, y = train_x[idx:idx+batch_size], train_y[idx:idx+batch_size]\n",
    "        train_step(x, y)\n",
    "        print(\"\\r Train : {} / {}\".format(i, num_of_batch_train), end='\\r')\n",
    "\n",
    "        \n",
    "    for i in range(num_of_batch_test):\n",
    "        idx = i * batch_size\n",
    "        x, y = test_x[idx:idx+batch_size], test_y[idx:idx+batch_size]\n",
    "        test_step(x, y)\n",
    "        print(\"\\r Test : {} / {}\".format(i, num_of_batch_test), end='\\r')\n",
    "        \n",
    "    # log 기록(loss, acc는 scalar라서 tf.summary.scalar 안에 들어있다)    \n",
    "    with train_summary_writer.as_default():\n",
    "        tf.summary.scalar('loss', train_loss.result(), step=epoch)\n",
    "        tf.summary.scalar('acc', train_accuracy.result(), step=epoch)\n",
    "        \n",
    "    with test_summary_writer.as_default():\n",
    "        tf.summary.scalar('loss', test_loss.result(), step=epoch)\n",
    "        tf.summary.scalar('acc', test_accuracy.result(), step=epoch)\n",
    "        \n",
    "    fmt = 'epoch {} loss: {}, accuracy: {}, test_loss: {}, test_acc: {}'\n",
    "    print(fmt.format(epoch+1, \n",
    "                          train_loss.result(),\n",
    "                          train_accuracy.result(),\n",
    "                          test_loss.result(),\n",
    "                          test_accuracy.result()\n",
    "                    ))\n",
    "    \n",
    "    # 매 epoch 마다 loss, acc 값 reset\n",
    "    train_loss.reset_states()\n",
    "    test_loss.reset_states()\n",
    "    train_accuracy.reset_states()\n",
    "    test_accuracy.reset_states()"
   ]
  },
  {
   "cell_type": "code",
   "execution_count": 22,
   "id": "249c6105",
   "metadata": {},
   "outputs": [
    {
     "name": "stdout",
     "output_type": "stream",
     "text": [
      "^C\n"
     ]
    }
   ],
   "source": [
    "!tensorboard --logdir logs/gradient_tape"
   ]
  },
  {
   "cell_type": "markdown",
   "id": "4fde8226",
   "metadata": {},
   "source": [
    "## (3) Tensorboard에 이미지 데이터 기록"
   ]
  },
  {
   "cell_type": "code",
   "execution_count": 23,
   "id": "b0a1010b",
   "metadata": {},
   "outputs": [
    {
     "data": {
      "image/png": "[encoded data removed]",
      "text/plain": [
       "<Figure size 640x480 with 1 Axes>"
      ]
     },
     "metadata": {},
     "output_type": "display_data"
    }
   ],
   "source": [
    "img = train_x[777]\n",
    "\n",
    "plt.imshow(img)\n",
    "plt.show()"
   ]
  },
  {
   "cell_type": "code",
   "execution_count": 24,
   "id": "d1827e33",
   "metadata": {},
   "outputs": [
    {
     "data": {
      "text/plain": [
       "'logs/train_data/20221201-214007'"
      ]
     },
     "execution_count": 24,
     "metadata": {},
     "output_type": "execute_result"
    }
   ],
   "source": [
    "logdir = \"logs/train_data/\" + cur_time\n",
    "logdir"
   ]
  },
  {
   "cell_type": "code",
   "execution_count": 25,
   "id": "d8ec3f7d",
   "metadata": {},
   "outputs": [],
   "source": [
    "file_writer = tf.summary.create_file_writer(logdir)\n",
    "\n",
    "for i in np.random.randint(10000, size=10):    \n",
    "    img = train_x[i:i+1]  # 사진 파일의 차우너을 줄이지 않기 위한 slicing \n",
    "    \n",
    "    with file_writer.as_default():\n",
    "        tf.summary.image(\"Training Sample data : {}\".format(i), img, step=0)"
   ]
  },
  {
   "cell_type": "code",
   "execution_count": 26,
   "id": "63e57198",
   "metadata": {},
   "outputs": [
    {
     "name": "stdout",
     "output_type": "stream",
     "text": [
      "^C\n"
     ]
    }
   ],
   "source": [
    "!tensorboard --logdir logs/train_data"
   ]
  },
  {
   "cell_type": "markdown",
   "id": "6be100f4",
   "metadata": {},
   "source": [
    "## (4) LambdaCallback을 사용하여 Tensorboard에 Confusion Matrix 기록"
   ]
  },
  {
   "cell_type": "code",
   "execution_count": 27,
   "id": "44062436",
   "metadata": {},
   "outputs": [],
   "source": [
    "import io\n",
    "from sklearn.metrics import confusion_matrix\n",
    "\n",
    "def plot_to_image(figure):\n",
    "    buf = io.BytesIO()\n",
    "    plt.savefig(buf, format='png')\n",
    "    plt.close(figure)\n",
    "    buf.seek(0)\n",
    "    image = tf.image.decode_png(buf.getvalue(), channels=4)\n",
    "    image = tf.expand_dims(image, 0)\n",
    "    return image\n",
    "\n",
    "def plot_confusion_matrix(cm, class_names):\n",
    "\n",
    "    figure = plt.figure(figsize=(8, 8))\n",
    "    plt.imshow(cm)\n",
    "    plt.title(\"Confusion matrix\")\n",
    "    plt.colorbar()\n",
    "    tick_marks = np.arange(len(class_names))\n",
    "    threshold = cm.max() / 2.\n",
    "    for i in range(cm.shape[0]):\n",
    "        for j in range(cm.shape[1]):\n",
    "            color = \"white\" if cm[i, j] > threshold else \"black\"\n",
    "            plt.text(j, i, cm[i, j], horizontalalignment=\"center\", color=color)\n",
    "\n",
    "    plt.tight_layout()\n",
    "    plt.ylabel('True label')\n",
    "    plt.xlabel('Predicted label')\n",
    "    return figure\n",
    "\n",
    "logdir = \"logs/fit/cm/\" + datetime.datetime.now().strftime(\"%Y%m%d-%H%M%S\")\n",
    "file_writer_cm = tf.summary.create_file_writer(logdir)\n",
    "\n",
    "test_images = test_x[:100]\n",
    "test_labels = np.argmax(test_y[:100], axis=1)\n",
    "\n",
    "def log_confusion_matrix(epoch, logs):\n",
    "    test_pred_raw = model.predict(test_images)\n",
    "    test_pred = np.argmax(test_pred_raw, axis=1)\n",
    "    \n",
    "    classes = np.arange(10)\n",
    "    cm = confusion_matrix(test_labels, test_pred, labels=classes)\n",
    "    \n",
    "    figure = plot_confusion_matrix(cm, class_names=classes)\n",
    "    cm_image = plot_to_image(figure)\n",
    "\n",
    "    with file_writer_cm.as_default():\n",
    "        tf.summary.image(\"Confusion Matrix\", cm_image, step=epoch)"
   ]
  },
  {
   "cell_type": "code",
   "execution_count": 28,
   "id": "d1e2c0ca",
   "metadata": {},
   "outputs": [],
   "source": [
    "cm_callback = tf.keras.callbacks.LambdaCallback(on_epoch_end=log_confusion_matrix)"
   ]
  },
  {
   "cell_type": "code",
   "execution_count": 30,
   "id": "845a568f",
   "metadata": {},
   "outputs": [
    {
     "name": "stdout",
     "output_type": "stream",
     "text": [
      "Epoch 1/5\n",
      "4/4 [==============================] - 0s 6ms/step0s - loss: 2.3066 - accuracy: 0.10\n",
      "1563/1563 [==============================] - 39s 25ms/step - loss: 2.3066 - accuracy: 0.1001 - val_loss: 2.3034 - val_accuracy: 0.1000\n",
      "Epoch 2/5\n",
      "4/4 [==============================] - 0s 5ms/step0s - loss: 2.3054 - accuracy: 0.10\n",
      "1563/1563 [==============================] - 43s 27ms/step - loss: 2.3054 - accuracy: 0.1027 - val_loss: 2.3066 - val_accuracy: 0.1000\n",
      "Epoch 3/5\n",
      "4/4 [==============================] - 0s 8ms/step0s - loss: 2.3044 - accuracy: 0.09\n",
      "1563/1563 [==============================] - 43s 27ms/step - loss: 2.3044 - accuracy: 0.0976 - val_loss: 2.3030 - val_accuracy: 0.1000\n",
      "Epoch 4/5\n",
      "4/4 [==============================] - 0s 4ms/step0s - loss: 2.3051 - accuracy: 0.09\n",
      "1563/1563 [==============================] - 31s 20ms/step - loss: 2.3052 - accuracy: 0.0999 - val_loss: 2.3071 - val_accuracy: 0.1000\n",
      "Epoch 5/5\n",
      "4/4 [==============================] - 0s 4ms/step0s - loss: 2.3192 - accuracy: 0.09\n",
      "1563/1563 [==============================] - 31s 20ms/step - loss: 2.3192 - accuracy: 0.0989 - val_loss: 2.3613 - val_accuracy: 0.1000\n"
     ]
    },
    {
     "data": {
      "text/plain": [
       "<keras.callbacks.History at 0x251d0e0c340>"
      ]
     },
     "execution_count": 30,
     "metadata": {},
     "output_type": "execute_result"
    }
   ],
   "source": [
    "model.fit(x=train_x, \n",
    "          y=train_y,\n",
    "          epochs=5,\n",
    "          batch_size=32,\n",
    "          validation_data=(test_x, test_y),\n",
    "          callbacks=[tb_callback, cm_callback])"
   ]
  },
  {
   "cell_type": "code",
   "execution_count": null,
   "id": "c06604e7",
   "metadata": {},
   "outputs": [],
   "source": [
    "!tensorboard --logdir logs/fit"
   ]
  }
 ],
 "metadata": {
  "kernelspec": {
   "display_name": "Python 3 (ipykernel)",
   "language": "python",
   "name": "python3"
  },
  "language_info": {
   "codemirror_mode": {
    "name": "ipython",
    "version": 3
   },
   "file_extension": ".py",
   "mimetype": "text/x-python",
   "name": "python",
   "nbconvert_exporter": "python",
   "pygments_lexer": "ipython3",
   "version": "3.10.6"
  }
 },
 "nbformat": 4,
 "nbformat_minor": 5
}
