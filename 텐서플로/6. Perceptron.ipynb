{
 "cells": [
  {
   "cell_type": "markdown",
   "id": "cc516075",
   "metadata": {},
   "source": [
    "# Perceptron"
   ]
  },
  {
   "cell_type": "code",
   "execution_count": 7,
   "id": "132de694",
   "metadata": {},
   "outputs": [],
   "source": [
    "import tensorflow as tf\n",
    "import numpy as np\n",
    "from sklearn.datasets import load_iris"
   ]
  },
  {
   "cell_type": "markdown",
   "id": "5f8afaa3",
   "metadata": {},
   "source": [
    "이번엔 Iris 데이터 중 두 종류를 분류하는 퍼셉트론을 제작한다. y값은 1 또는 -1을 사용하고 활성화 함수로는 하이퍼탄젠트(hypertangent)함수를 사용한다.\n",
    "\n",
    "$$\\Large{ \\hat{y} = tanh(w^Tx) }$$"
   ]
  },
  {
   "cell_type": "markdown",
   "id": "6d46497d",
   "metadata": {},
   "source": [
    "비용 함수로는 다음 식을 사용한다. \n",
    "\n",
    "$$\n",
    "\\large{\n",
    "Loss = \\sum_{i=1}^N \\max(0, -y_i \\hat{y_i})\n",
    "}\n",
    "$$\n",
    "- y값은 1 또는 -1 이니까 y와 y_hat이 동일하면 곱한 값은 1, 다르면 곱한 값은 -1 이 된다.\n",
    "- 0과 -(곱한값) 중 큰값만 취한다 = y와 y_hat이 다른 경우의 개수를 센다"
   ]
  },
  {
   "cell_type": "code",
   "execution_count": 3,
   "id": "ded473e4",
   "metadata": {},
   "outputs": [
    {
     "name": "stdout",
     "output_type": "stream",
     "text": [
      ".. _iris_dataset:\n",
      "\n",
      "Iris plants dataset\n",
      "--------------------\n",
      "\n",
      "**Data Set Characteristics:**\n",
      "\n",
      "    :Number of Instances: 150 (50 in each of three classes)\n",
      "    :Number of Attributes: 4 numeric, predictive attributes and the class\n",
      "    :Attribute Information:\n",
      "        - sepal length in cm\n",
      "        - sepal width in cm\n",
      "        - petal length in cm\n",
      "        - petal width in cm\n",
      "        - class:\n",
      "                - Iris-Setosa\n",
      "                - Iris-Versicolour\n",
      "                - Iris-Virginica\n",
      "                \n",
      "    :Summary Statistics:\n",
      "\n",
      "    ============== ==== ==== ======= ===== ====================\n",
      "                    Min  Max   Mean    SD   Class Correlation\n",
      "    ============== ==== ==== ======= ===== ====================\n",
      "    sepal length:   4.3  7.9   5.84   0.83    0.7826\n",
      "    sepal width:    2.0  4.4   3.05   0.43   -0.4194\n",
      "    petal length:   1.0  6.9   3.76   1.76    0.9490  (high!)\n",
      "    petal width:    0.1  2.5   1.20   0.76    0.9565  (high!)\n",
      "    ============== ==== ==== ======= ===== ====================\n",
      "\n",
      "    :Missing Attribute Values: None\n",
      "    :Class Distribution: 33.3% for each of 3 classes.\n",
      "    :Creator: R.A. Fisher\n",
      "    :Donor: Michael Marshall (MARSHALL%PLU@io.arc.nasa.gov)\n",
      "    :Date: July, 1988\n",
      "\n",
      "The famous Iris database, first used by Sir R.A. Fisher. The dataset is taken\n",
      "from Fisher's paper. Note that it's the same as in R, but not as in the UCI\n",
      "Machine Learning Repository, which has two wrong data points.\n",
      "\n",
      "This is perhaps the best known database to be found in the\n",
      "pattern recognition literature.  Fisher's paper is a classic in the field and\n",
      "is referenced frequently to this day.  (See Duda & Hart, for example.)  The\n",
      "data set contains 3 classes of 50 instances each, where each class refers to a\n",
      "type of iris plant.  One class is linearly separable from the other 2; the\n",
      "latter are NOT linearly separable from each other.\n",
      "\n",
      ".. topic:: References\n",
      "\n",
      "   - Fisher, R.A. \"The use of multiple measurements in taxonomic problems\"\n",
      "     Annual Eugenics, 7, Part II, 179-188 (1936); also in \"Contributions to\n",
      "     Mathematical Statistics\" (John Wiley, NY, 1950).\n",
      "   - Duda, R.O., & Hart, P.E. (1973) Pattern Classification and Scene Analysis.\n",
      "     (Q327.D83) John Wiley & Sons.  ISBN 0-471-22361-1.  See page 218.\n",
      "   - Dasarathy, B.V. (1980) \"Nosing Around the Neighborhood: A New System\n",
      "     Structure and Classification Rule for Recognition in Partially Exposed\n",
      "     Environments\".  IEEE Transactions on Pattern Analysis and Machine\n",
      "     Intelligence, Vol. PAMI-2, No. 1, 67-71.\n",
      "   - Gates, G.W. (1972) \"The Reduced Nearest Neighbor Rule\".  IEEE Transactions\n",
      "     on Information Theory, May 1972, 431-433.\n",
      "   - See also: 1988 MLC Proceedings, 54-64.  Cheeseman et al\"s AUTOCLASS II\n",
      "     conceptual clustering system finds 3 classes in the data.\n",
      "   - Many, many more ...\n"
     ]
    }
   ],
   "source": [
    "iris = load_iris()\n",
    "print(iris.DESCR)"
   ]
  },
  {
   "cell_type": "markdown",
   "id": "acd12c09",
   "metadata": {},
   "source": [
    "---\n",
    "```\n",
    "특성 중에서\n",
    "sepal length in cm\n",
    "sepal width in cm \n",
    "만 사용하고, \n",
    "    \n",
    "클래스는Iris-Setosa와 Iris-Virginica 만 사용할 예정\n",
    "```\n",
    "---"
   ]
  },
  {
   "cell_type": "code",
   "execution_count": 4,
   "id": "70e2798e",
   "metadata": {},
   "outputs": [],
   "source": [
    "idx = np.in1d(iris.target, [0, 2])\n",
    "X_data = iris.data[idx, 0:2]\n",
    "y_data = (iris.target[idx] - 1.0)[:, np.newaxis]"
   ]
  },
  {
   "cell_type": "code",
   "execution_count": 5,
   "id": "7db2ef91",
   "metadata": {},
   "outputs": [
    {
     "data": {
      "text/plain": [
       "((100, 2), (100, 1))"
      ]
     },
     "execution_count": 5,
     "metadata": {},
     "output_type": "execute_result"
    }
   ],
   "source": [
    "X_data.shape, y_data.shape"
   ]
  },
  {
   "cell_type": "markdown",
   "id": "43a6daf3",
   "metadata": {},
   "source": [
    "### 이 데이터를 이용해 Perceptron을 구현\n",
    " - 데이터 하나당 한번씩 weights 업데이트\n",
    " - step size == 0.0003\n",
    " - iteration == 200"
   ]
  },
  {
   "cell_type": "code",
   "execution_count": 10,
   "id": "4a6b82c8",
   "metadata": {},
   "outputs": [],
   "source": [
    "lr = 0.0003\n",
    "iter_num = 500\n",
    "\n",
    "zero = tf.constant(0, dtype=tf.float64)\n",
    "w = tf.Variable(tf.random.normal([2, 1], dtype=tf.float64))\n",
    "b = tf.Variable(tf.random.normal([1, 1], dtype=tf.float64))\n",
    "\n",
    "\n",
    "for epoch in range(iter_num):\n",
    "    for i in range(X_data.shape[0]):\n",
    "        x = X_data[i:i+1]\n",
    "        y = y_data[i:i+1]\n",
    "        \n",
    "        with tf.GradientTape() as tape:\n",
    "            logit = tf.matmul(x, w) + b\n",
    "            y_hat = tf.tanh(logit)\n",
    "            loss = tf.maximum(zero, tf.multiply(-y, y_hat))\n",
    "            \n",
    "        grad = tape.gradient(loss, [w, b])\n",
    "        \n",
    "        w.assign_sub(lr * grad[0])\n",
    "        b.assign_sub(lr * grad[1])"
   ]
  },
  {
   "cell_type": "markdown",
   "id": "8eb9b12e",
   "metadata": {},
   "source": [
    "- 솔직히 무슨말인지 이해 못함\n",
    "- 위에 있는 식들을 코드로 표현한 것인디...허허"
   ]
  },
  {
   "cell_type": "code",
   "execution_count": 11,
   "id": "93d43b04",
   "metadata": {},
   "outputs": [],
   "source": [
    "y_pred = tf.tanh(tf.matmul(X_data, w) + b)"
   ]
  },
  {
   "cell_type": "code",
   "execution_count": 12,
   "id": "0a7cfa45",
   "metadata": {},
   "outputs": [
    {
     "name": "stdout",
     "output_type": "stream",
     "text": [
      "예측치 : [0.99999955] 정답 : [-1.]\n",
      "예측치 : [0.99999766] 정답 : [1.]\n",
      "예측치 : [0.99999913] 정답 : [1.]\n"
     ]
    }
   ],
   "source": [
    "print(\"예측치 :\", y_pred[0].numpy(),  \"정답 :\", y_data[0])\n",
    "print(\"예측치 :\", y_pred[51].numpy(), \"정답 :\", y_data[51])\n",
    "print(\"예측치 :\", y_pred[88].numpy(), \"정답 :\", y_data[88])"
   ]
  },
  {
   "cell_type": "code",
   "execution_count": 13,
   "id": "b09c1d5f",
   "metadata": {},
   "outputs": [
    {
     "name": "stdout",
     "output_type": "stream",
     "text": [
      "예측치 : 1 정답 : [-1.]\n",
      "예측치 : 1 정답 : [1.]\n",
      "예측치 : 1 정답 : [1.]\n"
     ]
    }
   ],
   "source": [
    "print(\"예측치 :\", -1 if y_pred[0] < 0 else 1,  \"정답 :\", y_data[0])\n",
    "print(\"예측치 :\", -1 if y_pred[51] < 0 else 1, \"정답 :\", y_data[51])\n",
    "print(\"예측치 :\", -1 if y_pred[88] < 0 else 1, \"정답 :\", y_data[88])"
   ]
  },
  {
   "cell_type": "code",
   "execution_count": null,
   "id": "3b069029",
   "metadata": {},
   "outputs": [],
   "source": []
  }
 ],
 "metadata": {
  "kernelspec": {
   "display_name": "Python 3 (ipykernel)",
   "language": "python",
   "name": "python3"
  },
  "language_info": {
   "codemirror_mode": {
    "name": "ipython",
    "version": 3
   },
   "file_extension": ".py",
   "mimetype": "text/x-python",
   "name": "python",
   "nbconvert_exporter": "python",
   "pygments_lexer": "ipython3",
   "version": "3.10.6"
  }
 },
 "nbformat": 4,
 "nbformat_minor": 5
}
