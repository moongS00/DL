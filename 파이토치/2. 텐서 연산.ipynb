{
 "cells": [
  {
   "cell_type": "code",
   "execution_count": 1,
   "id": "5b50c149",
   "metadata": {},
   "outputs": [],
   "source": [
    "import torch"
   ]
  },
  {
   "cell_type": "markdown",
   "id": "67c9681f",
   "metadata": {},
   "source": [
    "# 1. 기본 연산"
   ]
  },
  {
   "cell_type": "code",
   "execution_count": 2,
   "id": "915a0be9",
   "metadata": {},
   "outputs": [],
   "source": [
    "x = torch.arange(0, 5)\n",
    "y = torch.arange(1, 6)"
   ]
  },
  {
   "cell_type": "markdown",
   "id": "ab7825df",
   "metadata": {},
   "source": [
    "#### 더하기"
   ]
  },
  {
   "cell_type": "code",
   "execution_count": 3,
   "id": "980f69a6",
   "metadata": {},
   "outputs": [
    {
     "name": "stdout",
     "output_type": "stream",
     "text": [
      "tensor([1, 3, 5, 7, 9])\n",
      "tensor([1, 3, 5, 7, 9])\n",
      "tensor([1, 3, 5, 7, 9])\n"
     ]
    }
   ],
   "source": [
    "print(x+y)\n",
    "print(torch.add(x, y))\n",
    "print(x.add(y))"
   ]
  },
  {
   "cell_type": "markdown",
   "id": "6fd591d9",
   "metadata": {},
   "source": [
    "#### 빼기"
   ]
  },
  {
   "cell_type": "code",
   "execution_count": 4,
   "id": "2403b792",
   "metadata": {},
   "outputs": [
    {
     "name": "stdout",
     "output_type": "stream",
     "text": [
      "tensor([-1, -1, -1, -1, -1])\n",
      "tensor([-1, -1, -1, -1, -1])\n",
      "tensor([-1, -1, -1, -1, -1])\n"
     ]
    }
   ],
   "source": [
    "print(x-y)\n",
    "print(torch.sub(x, y))\n",
    "print(x.sub(y))"
   ]
  },
  {
   "cell_type": "markdown",
   "id": "09e45e47",
   "metadata": {},
   "source": [
    "#### 곱하기"
   ]
  },
  {
   "cell_type": "code",
   "execution_count": 5,
   "id": "7afa1219",
   "metadata": {},
   "outputs": [
    {
     "name": "stdout",
     "output_type": "stream",
     "text": [
      "tensor([ 0,  2,  6, 12, 20])\n",
      "tensor([ 0,  2,  6, 12, 20])\n",
      "tensor([ 0,  2,  6, 12, 20])\n"
     ]
    }
   ],
   "source": [
    "print(x * y)\n",
    "print(torch.mul(x, y))\n",
    "print(x.mul(y))"
   ]
  },
  {
   "cell_type": "markdown",
   "id": "25a00d98",
   "metadata": {},
   "source": [
    "#### 나누기"
   ]
  },
  {
   "cell_type": "code",
   "execution_count": 7,
   "id": "9d6037c8",
   "metadata": {},
   "outputs": [
    {
     "name": "stdout",
     "output_type": "stream",
     "text": [
      "tensor([0.0000, 0.5000, 0.6667, 0.7500, 0.8000])\n",
      "tensor([0.0000, 0.5000, 0.6667, 0.7500, 0.8000])\n",
      "tensor([0.0000, 0.5000, 0.6667, 0.7500, 0.8000])\n"
     ]
    }
   ],
   "source": [
    "print(x / y)\n",
    "print(torch.div(x, y))\n",
    "print(x.div(y))"
   ]
  },
  {
   "cell_type": "markdown",
   "id": "6e99efc7",
   "metadata": {},
   "source": [
    "#### 제곱"
   ]
  },
  {
   "cell_type": "code",
   "execution_count": 8,
   "id": "778ad924",
   "metadata": {},
   "outputs": [
    {
     "name": "stdout",
     "output_type": "stream",
     "text": [
      "tensor([   0,    1,    8,   81, 1024])\n",
      "tensor([   0,    1,    8,   81, 1024])\n",
      "tensor([   0,    1,    8,   81, 1024])\n"
     ]
    }
   ],
   "source": [
    "print(x ** y)\n",
    "print(torch.pow(x, y))\n",
    "print(x.pow(y))"
   ]
  },
  {
   "cell_type": "markdown",
   "id": "eaf42c2f",
   "metadata": {},
   "source": [
    "#### 부호 전환"
   ]
  },
  {
   "cell_type": "code",
   "execution_count": 9,
   "id": "0b64a656",
   "metadata": {},
   "outputs": [
    {
     "name": "stdout",
     "output_type": "stream",
     "text": [
      "tensor([ 0, -1, -2, -3, -4])\n",
      "tensor([ 0, -1, -2, -3, -4])\n",
      "tensor([ 0, -1, -2, -3, -4])\n"
     ]
    }
   ],
   "source": [
    "print(-x)\n",
    "print(torch.negative(x))\n",
    "print(x.negative())"
   ]
  },
  {
   "cell_type": "markdown",
   "id": "54d4f235",
   "metadata": {},
   "source": [
    "## 그 외 연산\n",
    "* `torch.abs`: 절대값\n",
    "* `torch.sign`: 부호\n",
    "* `torch.round`: 반올림\n",
    "* `torch.ceil`: 올림\n",
    "* `torch.floor`: 내림\n",
    "* `torch.square`: 제곱\n",
    "* `torch.sqrt`: 제곱근\n",
    "* `torch.maximum`: 두 텐서의 각 원소에서 최댓값만 반환.\n",
    "* `torch.minimum`: 두 텐서의 각 원소에서 최솟값만 반환.\n",
    "* `torch.cumsum`: 누적합\n",
    "* `torch.cumprod`: 누적곱\n"
   ]
  },
  {
   "cell_type": "markdown",
   "id": "84bf5531",
   "metadata": {},
   "source": [
    "---\n",
    "# 2. 차원 축소 연산\n",
    "\n",
    "PyTorch는 기본이 reduce 연산 <br>\n",
    "sum, product, mean 등"
   ]
  },
  {
   "cell_type": "code",
   "execution_count": 10,
   "id": "d1ea2bbc",
   "metadata": {},
   "outputs": [
    {
     "name": "stdout",
     "output_type": "stream",
     "text": [
      "torch.Size([5, 2, 4])\n",
      "tensor([[[0, 1, 9, 7],\n",
      "         [4, 2, 7, 7]],\n",
      "\n",
      "        [[7, 0, 3, 5],\n",
      "         [9, 8, 8, 1]],\n",
      "\n",
      "        [[7, 9, 4, 7],\n",
      "         [6, 3, 4, 3]],\n",
      "\n",
      "        [[5, 9, 9, 1],\n",
      "         [9, 7, 3, 0]],\n",
      "\n",
      "        [[8, 2, 1, 7],\n",
      "         [4, 6, 4, 4]]])\n"
     ]
    }
   ],
   "source": [
    "x = torch.randint(10, size=(5, 2, 4))\n",
    "print(x.shape)\n",
    "print(x)"
   ]
  },
  {
   "cell_type": "code",
   "execution_count": 12,
   "id": "697e3fb4",
   "metadata": {},
   "outputs": [
    {
     "name": "stdout",
     "output_type": "stream",
     "text": [
      "tensor(200)\n",
      "torch.Size([])\n"
     ]
    }
   ],
   "source": [
    "print(torch.sum(x)) # x의 모든 원소를 다 더한 값\n",
    "print(torch.sum(x).shape)"
   ]
  },
  {
   "cell_type": "code",
   "execution_count": 13,
   "id": "bf418332",
   "metadata": {},
   "outputs": [
    {
     "name": "stdout",
     "output_type": "stream",
     "text": [
      "tensor([[ 4,  3, 16, 14],\n",
      "        [16,  8, 11,  6],\n",
      "        [13, 12,  8, 10],\n",
      "        [14, 16, 12,  1],\n",
      "        [12,  8,  5, 11]])\n",
      "torch.Size([5, 4])\n"
     ]
    }
   ],
   "source": [
    "print(torch.sum(x, dim=1))\n",
    "print(torch.sum(x, dim=1).shape)"
   ]
  },
  {
   "cell_type": "code",
   "execution_count": 14,
   "id": "b26a8d6e",
   "metadata": {},
   "outputs": [
    {
     "name": "stdout",
     "output_type": "stream",
     "text": [
      "tensor([[17, 20],\n",
      "        [15, 26],\n",
      "        [27, 16],\n",
      "        [24, 19],\n",
      "        [18, 18]])\n",
      "torch.Size([5, 2])\n"
     ]
    }
   ],
   "source": [
    "print(torch.sum(x, dim=2))\n",
    "print(torch.sum(x, dim=2).shape)"
   ]
  },
  {
   "cell_type": "markdown",
   "id": "8d6d8a24",
   "metadata": {},
   "source": [
    "# 3. 행렬연산\n",
    "- `torch.matmul(a, b)` = `torch.mm(a, b)` : 내적\n",
    "- `torch.linalg.inv(a)` : 역행렬\n",
    "  "
   ]
  },
  {
   "cell_type": "code",
   "execution_count": 15,
   "id": "e384e3a5",
   "metadata": {},
   "outputs": [],
   "source": [
    "a = torch.tensor([[2, 0], [0, 1]], dtype=torch.float32)\n",
    "b = torch.tensor([[1, 1], [1, 1]], dtype=torch.float32)"
   ]
  },
  {
   "cell_type": "code",
   "execution_count": 16,
   "id": "4e03f4d9",
   "metadata": {},
   "outputs": [
    {
     "data": {
      "text/plain": [
       "tensor([[2., 2.],\n",
       "        [1., 1.]])"
      ]
     },
     "execution_count": 16,
     "metadata": {},
     "output_type": "execute_result"
    }
   ],
   "source": [
    "torch.matmul(a, b)"
   ]
  },
  {
   "cell_type": "code",
   "execution_count": 18,
   "id": "86a2bc6d",
   "metadata": {},
   "outputs": [
    {
     "data": {
      "text/plain": [
       "tensor([[2., 2.],\n",
       "        [1., 1.]])"
      ]
     },
     "execution_count": 18,
     "metadata": {},
     "output_type": "execute_result"
    }
   ],
   "source": [
    "torch.mm(a, b)"
   ]
  },
  {
   "cell_type": "code",
   "execution_count": 17,
   "id": "5888a2ff",
   "metadata": {},
   "outputs": [
    {
     "data": {
      "text/plain": [
       "tensor([[0.5000, 0.0000],\n",
       "        [0.0000, 1.0000]])"
      ]
     },
     "execution_count": 17,
     "metadata": {},
     "output_type": "execute_result"
    }
   ],
   "source": [
    "torch.linalg.inv(a)"
   ]
  },
  {
   "cell_type": "markdown",
   "id": "44d2448f",
   "metadata": {},
   "source": [
    "# 4. 크기와 차원을 바꾸는 명령\n",
    "- `torch.reshape`\n",
    "- `.view`\n",
    "- `torch.transpose`\n",
    "\n",
    "torch.view() 는 불가능"
   ]
  },
  {
   "cell_type": "markdown",
   "id": "0f893761",
   "metadata": {},
   "source": [
    "#### view()"
   ]
  },
  {
   "cell_type": "code",
   "execution_count": 24,
   "id": "85b612f3",
   "metadata": {},
   "outputs": [
    {
     "data": {
      "text/plain": [
       "tensor([[2., 0.],\n",
       "        [0., 1.]])"
      ]
     },
     "execution_count": 24,
     "metadata": {},
     "output_type": "execute_result"
    }
   ],
   "source": [
    "a"
   ]
  },
  {
   "cell_type": "code",
   "execution_count": 23,
   "id": "09ac2cde",
   "metadata": {},
   "outputs": [
    {
     "name": "stdout",
     "output_type": "stream",
     "text": [
      "tensor([[2.],\n",
      "        [0.],\n",
      "        [0.],\n",
      "        [1.]])\n",
      "tensor([[2.],\n",
      "        [0.],\n",
      "        [0.],\n",
      "        [1.]])\n"
     ]
    }
   ],
   "source": [
    "print(a.view(4, -1))\n",
    "print(a.view((4, -1)))"
   ]
  },
  {
   "cell_type": "code",
   "execution_count": 21,
   "id": "e2f583e8",
   "metadata": {},
   "outputs": [
    {
     "name": "stdout",
     "output_type": "stream",
     "text": [
      "torch.Size([4, 1])\n",
      "torch.Size([4, 1])\n"
     ]
    }
   ],
   "source": [
    "print(a.view(4, -1).shape)\n",
    "print(a.view((4, -1)).shape)"
   ]
  },
  {
   "cell_type": "code",
   "execution_count": 25,
   "id": "c606bc98",
   "metadata": {},
   "outputs": [
    {
     "data": {
      "text/plain": [
       "tensor([[2.],\n",
       "        [0.],\n",
       "        [0.],\n",
       "        [1.]])"
      ]
     },
     "execution_count": 25,
     "metadata": {},
     "output_type": "execute_result"
    }
   ],
   "source": [
    "torch.reshape(a, (4, -1))"
   ]
  },
  {
   "cell_type": "markdown",
   "id": "d65e24c2",
   "metadata": {},
   "source": [
    "#### view 함수가 있어서 exdand_dim 같은 함수가 따로 필요하지 않다\n",
    "= 차원추가는 view 함수로도 가능"
   ]
  },
  {
   "cell_type": "code",
   "execution_count": 27,
   "id": "c94c8653",
   "metadata": {},
   "outputs": [
    {
     "data": {
      "text/plain": [
       "(tensor([[[2.],\n",
       "          [0.],\n",
       "          [0.],\n",
       "          [1.]]]),\n",
       " torch.Size([1, 4, 1]))"
      ]
     },
     "execution_count": 27,
     "metadata": {},
     "output_type": "execute_result"
    }
   ],
   "source": [
    "a.view((1, 4, 1)), a.view((1, 4, 1)).shape"
   ]
  },
  {
   "cell_type": "markdown",
   "id": "f36bf005",
   "metadata": {},
   "source": [
    "- (1, 4, 1) 형태의 3차원 행렬로 쉽게 변환 성공!"
   ]
  },
  {
   "cell_type": "code",
   "execution_count": 28,
   "id": "c93981f4",
   "metadata": {},
   "outputs": [
    {
     "name": "stdout",
     "output_type": "stream",
     "text": [
      "tensor([[2., 0., 0., 1.]])\n",
      "torch.Size([1, 4])\n"
     ]
    }
   ],
   "source": [
    "print(torch.squeeze(a.view((1, 4, 1)), dim=2))\n",
    "print(torch.squeeze(a.view((1, 4, 1)), dim=2).shape)"
   ]
  },
  {
   "cell_type": "markdown",
   "id": "6b78ff61",
   "metadata": {},
   "source": [
    "#### expand_dims 함수 대신에 unsqueeze 함수가 있다. (차원 축소)"
   ]
  },
  {
   "cell_type": "code",
   "execution_count": 29,
   "id": "e388af94",
   "metadata": {},
   "outputs": [
    {
     "name": "stdout",
     "output_type": "stream",
     "text": [
      "tensor([[[2.],\n",
      "         [0.],\n",
      "         [0.],\n",
      "         [1.]]])\n",
      "torch.Size([1, 4, 1])\n"
     ]
    }
   ],
   "source": [
    "print(torch.unsqueeze(a.view((1, 4)), dim=2))\n",
    "print(torch.unsqueeze(a.view((1, 4)), dim=2).shape)"
   ]
  },
  {
   "cell_type": "markdown",
   "id": "6a5899cc",
   "metadata": {},
   "source": [
    "#### 여러 함수가 torch.명령어 형태, tensor.명령어 로  사용 할 수 있다. "
   ]
  },
  {
   "cell_type": "code",
   "execution_count": 32,
   "id": "db992c56",
   "metadata": {},
   "outputs": [
    {
     "data": {
      "text/plain": [
       "tensor([[0, 1],\n",
       "        [2, 3],\n",
       "        [4, 5],\n",
       "        [6, 7],\n",
       "        [8, 9]])"
      ]
     },
     "execution_count": 32,
     "metadata": {},
     "output_type": "execute_result"
    }
   ],
   "source": [
    "a = torch.arange(10).view(5, 2)\n",
    "a"
   ]
  },
  {
   "cell_type": "code",
   "execution_count": 33,
   "id": "62d5337f",
   "metadata": {},
   "outputs": [
    {
     "data": {
      "text/plain": [
       "tensor([[0, 2, 4, 6, 8],\n",
       "        [1, 3, 5, 7, 9]])"
      ]
     },
     "execution_count": 33,
     "metadata": {},
     "output_type": "execute_result"
    }
   ],
   "source": [
    "a.transpose(1, 0)"
   ]
  },
  {
   "cell_type": "code",
   "execution_count": 34,
   "id": "dd065d2b",
   "metadata": {},
   "outputs": [
    {
     "data": {
      "text/plain": [
       "tensor([[0, 2, 4, 6, 8],\n",
       "        [1, 3, 5, 7, 9]])"
      ]
     },
     "execution_count": 34,
     "metadata": {},
     "output_type": "execute_result"
    }
   ],
   "source": [
    "torch.transpose(a, 1, 0)"
   ]
  },
  {
   "cell_type": "markdown",
   "id": "3719abd3",
   "metadata": {},
   "source": [
    "# 5. 함수 끝에 `_`를 붙이면 inplace명령이 된다.\n",
    "(안되는 함수가 존재함)"
   ]
  },
  {
   "cell_type": "code",
   "execution_count": 35,
   "id": "7df81235",
   "metadata": {},
   "outputs": [
    {
     "data": {
      "text/plain": [
       "tensor([[0, 1],\n",
       "        [2, 3],\n",
       "        [4, 5],\n",
       "        [6, 7],\n",
       "        [8, 9]])"
      ]
     },
     "execution_count": 35,
     "metadata": {},
     "output_type": "execute_result"
    }
   ],
   "source": [
    "a"
   ]
  },
  {
   "cell_type": "code",
   "execution_count": 36,
   "id": "a644a7a8",
   "metadata": {},
   "outputs": [
    {
     "name": "stdout",
     "output_type": "stream",
     "text": [
      "tensor([[0, 1],\n",
      "        [2, 3],\n",
      "        [4, 5],\n",
      "        [6, 7],\n",
      "        [8, 9]])\n",
      "tensor([[0, 2, 4, 6, 8],\n",
      "        [1, 3, 5, 7, 9]])\n",
      "tensor([[0, 2, 4, 6, 8],\n",
      "        [1, 3, 5, 7, 9]])\n"
     ]
    }
   ],
   "source": [
    "print(a)\n",
    "print(a.transpose_(0, 1))\n",
    "print(a)"
   ]
  },
  {
   "cell_type": "code",
   "execution_count": 37,
   "id": "9a10e1b5",
   "metadata": {},
   "outputs": [
    {
     "data": {
      "text/plain": [
       "torch.Size([2, 5])"
      ]
     },
     "execution_count": 37,
     "metadata": {},
     "output_type": "execute_result"
    }
   ],
   "source": [
    "a.shape"
   ]
  },
  {
   "cell_type": "code",
   "execution_count": 38,
   "id": "4ad41bb4",
   "metadata": {},
   "outputs": [
    {
     "ename": "RuntimeError",
     "evalue": "view size is not compatible with input tensor's size and stride (at least one dimension spans across two contiguous subspaces). Use .reshape(...) instead.",
     "output_type": "error",
     "traceback": [
      "\u001b[1;31m---------------------------------------------------------------------------\u001b[0m",
      "\u001b[1;31mRuntimeError\u001b[0m                              Traceback (most recent call last)",
      "Input \u001b[1;32mIn [38]\u001b[0m, in \u001b[0;36m<cell line: 2>\u001b[1;34m()\u001b[0m\n\u001b[0;32m      1\u001b[0m \u001b[38;5;66;03m# view함수에는 inplace명령이 구현되어 있지 않다. \u001b[39;00m\n\u001b[1;32m----> 2\u001b[0m \u001b[38;5;28mprint\u001b[39m(\u001b[43ma\u001b[49m\u001b[38;5;241;43m.\u001b[39;49m\u001b[43mview\u001b[49m\u001b[43m(\u001b[49m\u001b[38;5;241;43m-\u001b[39;49m\u001b[38;5;241;43m1\u001b[39;49m\u001b[43m,\u001b[49m\u001b[43m \u001b[49m\u001b[38;5;241;43m1\u001b[39;49m\u001b[43m)\u001b[49m, a\u001b[38;5;241m.\u001b[39mview(\u001b[38;5;241m-\u001b[39m\u001b[38;5;241m1\u001b[39m, \u001b[38;5;241m1\u001b[39m)\u001b[38;5;241m.\u001b[39mshape)\n\u001b[0;32m      3\u001b[0m \u001b[38;5;28mprint\u001b[39m(a\u001b[38;5;241m.\u001b[39mview_())\n\u001b[0;32m      4\u001b[0m \u001b[38;5;28mprint\u001b[39m(a)\n",
      "\u001b[1;31mRuntimeError\u001b[0m: view size is not compatible with input tensor's size and stride (at least one dimension spans across two contiguous subspaces). Use .reshape(...) instead."
     ]
    }
   ],
   "source": [
    "# view함수에는 inplace명령이 구현되어 있지 않다. \n",
    "print(a.view(-1, 1), a.view(-1, 1).shape)\n",
    "print(a.view_())\n",
    "print(a)"
   ]
  },
  {
   "cell_type": "markdown",
   "id": "c46b8a8e",
   "metadata": {},
   "source": [
    "# 6. 형상 연산 중 유용한 것"
   ]
  },
  {
   "cell_type": "code",
   "execution_count": 47,
   "id": "bab0f53d",
   "metadata": {},
   "outputs": [
    {
     "data": {
      "text/plain": [
       "tensor([[0, 1],\n",
       "        [2, 3],\n",
       "        [4, 5],\n",
       "        [6, 7],\n",
       "        [8, 9]])"
      ]
     },
     "execution_count": 47,
     "metadata": {},
     "output_type": "execute_result"
    }
   ],
   "source": [
    "a = torch.arange(10).view(5, 2)\n",
    "a"
   ]
  },
  {
   "cell_type": "code",
   "execution_count": 40,
   "id": "5b35410e",
   "metadata": {},
   "outputs": [
    {
     "data": {
      "text/plain": [
       "tensor([[0, 1, 2, 3, 4],\n",
       "        [5, 6, 7, 8, 9]])"
      ]
     },
     "execution_count": 40,
     "metadata": {},
     "output_type": "execute_result"
    }
   ],
   "source": [
    "b = torch.arange(10).view(2, 5)\n",
    "b"
   ]
  },
  {
   "cell_type": "code",
   "execution_count": 48,
   "id": "49adb54a",
   "metadata": {},
   "outputs": [
    {
     "name": "stdout",
     "output_type": "stream",
     "text": [
      "tensor([[0, 1, 2, 3, 4],\n",
      "        [5, 6, 7, 8, 9]])\n",
      "tensor([[0, 1, 2, 3, 4],\n",
      "        [5, 6, 7, 8, 9]])\n"
     ]
    }
   ],
   "source": [
    "print(a.view_as(b))\n",
    "print(a.reshape_as(b))"
   ]
  },
  {
   "cell_type": "markdown",
   "id": "5087b393",
   "metadata": {},
   "source": [
    "# 7. indexing, slicing"
   ]
  },
  {
   "cell_type": "code",
   "execution_count": 49,
   "id": "76274dd8",
   "metadata": {},
   "outputs": [
    {
     "data": {
      "text/plain": [
       "tensor([0, 1])"
      ]
     },
     "execution_count": 49,
     "metadata": {},
     "output_type": "execute_result"
    }
   ],
   "source": [
    "a[0]"
   ]
  },
  {
   "cell_type": "code",
   "execution_count": 50,
   "id": "d2084457",
   "metadata": {},
   "outputs": [
    {
     "data": {
      "text/plain": [
       "tensor(1)"
      ]
     },
     "execution_count": 50,
     "metadata": {},
     "output_type": "execute_result"
    }
   ],
   "source": [
    "a[0, 1]"
   ]
  },
  {
   "cell_type": "code",
   "execution_count": 51,
   "id": "74bbd83b",
   "metadata": {},
   "outputs": [
    {
     "data": {
      "text/plain": [
       "tensor(9)"
      ]
     },
     "execution_count": 51,
     "metadata": {},
     "output_type": "execute_result"
    }
   ],
   "source": [
    "a[4, 1]"
   ]
  },
  {
   "cell_type": "code",
   "execution_count": 52,
   "id": "bf9ca861",
   "metadata": {},
   "outputs": [
    {
     "data": {
      "text/plain": [
       "tensor([[0, 1],\n",
       "        [2, 3]])"
      ]
     },
     "execution_count": 52,
     "metadata": {},
     "output_type": "execute_result"
    }
   ],
   "source": [
    "a[:2]"
   ]
  },
  {
   "cell_type": "markdown",
   "id": "265ea7a4",
   "metadata": {},
   "source": [
    "# 8. Tensor를 나누거나 합치기"
   ]
  },
  {
   "cell_type": "markdown",
   "id": "1160660d",
   "metadata": {},
   "source": [
    "#### 나누기_chunk"
   ]
  },
  {
   "cell_type": "code",
   "execution_count": 53,
   "id": "8727bab4",
   "metadata": {},
   "outputs": [
    {
     "data": {
      "text/plain": [
       "tensor([[0.0623, 0.5351, 0.2084, 0.7141, 0.2245, 0.5036],\n",
       "        [0.2471, 0.3171, 0.7625, 0.8807, 0.9228, 0.6145],\n",
       "        [0.4165, 0.6234, 0.0507, 0.3840, 0.6899, 0.2145]])"
      ]
     },
     "execution_count": 53,
     "metadata": {},
     "output_type": "execute_result"
    }
   ],
   "source": [
    "c = torch.rand(3, 6)\n",
    "c"
   ]
  },
  {
   "cell_type": "code",
   "execution_count": 55,
   "id": "f0fdcc21",
   "metadata": {},
   "outputs": [
    {
     "name": "stdout",
     "output_type": "stream",
     "text": [
      "tensor([[0.0623, 0.5351, 0.2084, 0.7141, 0.2245, 0.5036]])\n",
      "tensor([[0.2471, 0.3171, 0.7625, 0.8807, 0.9228, 0.6145]])\n",
      "tensor([[0.4165, 0.6234, 0.0507, 0.3840, 0.6899, 0.2145]])\n"
     ]
    }
   ],
   "source": [
    "c1, c2, c3 = torch.chunk(c, 3, dim=0)  # 3개로 나눈다\n",
    "print(c1)\n",
    "print(c2)\n",
    "print(c3)"
   ]
  },
  {
   "cell_type": "code",
   "execution_count": 56,
   "id": "d30964b3",
   "metadata": {},
   "outputs": [
    {
     "name": "stdout",
     "output_type": "stream",
     "text": [
      "tensor([[0.0623, 0.5351],\n",
      "        [0.2471, 0.3171],\n",
      "        [0.4165, 0.6234]])\n",
      "tensor([[0.2084, 0.7141],\n",
      "        [0.7625, 0.8807],\n",
      "        [0.0507, 0.3840]])\n",
      "tensor([[0.2245, 0.5036],\n",
      "        [0.9228, 0.6145],\n",
      "        [0.6899, 0.2145]])\n"
     ]
    }
   ],
   "source": [
    "c1, c2, c3 = torch.chunk(c, 3, dim=1)  # 3개로 나눈다\n",
    "print(c1)\n",
    "print(c2)\n",
    "print(c3)"
   ]
  },
  {
   "cell_type": "markdown",
   "id": "8914c9de",
   "metadata": {},
   "source": [
    "#### 나누기_split"
   ]
  },
  {
   "cell_type": "code",
   "execution_count": 60,
   "id": "de9861a0",
   "metadata": {},
   "outputs": [
    {
     "data": {
      "text/plain": [
       "(tensor([[0.0623],\n",
       "         [0.2471],\n",
       "         [0.4165]]),\n",
       " tensor([[0.5351],\n",
       "         [0.3171],\n",
       "         [0.6234]]),\n",
       " tensor([[0.2084],\n",
       "         [0.7625],\n",
       "         [0.0507]]),\n",
       " tensor([[0.7141],\n",
       "         [0.8807],\n",
       "         [0.3840]]),\n",
       " tensor([[0.2245],\n",
       "         [0.9228],\n",
       "         [0.6899]]),\n",
       " tensor([[0.5036],\n",
       "         [0.6145],\n",
       "         [0.2145]]))"
      ]
     },
     "execution_count": 60,
     "metadata": {},
     "output_type": "execute_result"
    }
   ],
   "source": [
    "torch.split(c, 1, dim=1) # 1개씩 나눔 = 6개로 쪼개짐"
   ]
  },
  {
   "cell_type": "code",
   "execution_count": 58,
   "id": "8e6e82b6",
   "metadata": {},
   "outputs": [
    {
     "data": {
      "text/plain": [
       "(tensor([[0.0623, 0.5351],\n",
       "         [0.2471, 0.3171],\n",
       "         [0.4165, 0.6234]]),\n",
       " tensor([[0.2084, 0.7141],\n",
       "         [0.7625, 0.8807],\n",
       "         [0.0507, 0.3840]]),\n",
       " tensor([[0.2245, 0.5036],\n",
       "         [0.9228, 0.6145],\n",
       "         [0.6899, 0.2145]]))"
      ]
     },
     "execution_count": 58,
     "metadata": {},
     "output_type": "execute_result"
    }
   ],
   "source": [
    "torch.split(c, 2, dim=1) # 2개씩 나눔 = 3개로 쪼개짐"
   ]
  },
  {
   "cell_type": "code",
   "execution_count": 59,
   "id": "66b9f34b",
   "metadata": {},
   "outputs": [
    {
     "data": {
      "text/plain": [
       "(tensor([[0.0623, 0.5351, 0.2084],\n",
       "         [0.2471, 0.3171, 0.7625],\n",
       "         [0.4165, 0.6234, 0.0507]]),\n",
       " tensor([[0.7141, 0.2245, 0.5036],\n",
       "         [0.8807, 0.9228, 0.6145],\n",
       "         [0.3840, 0.6899, 0.2145]]))"
      ]
     },
     "execution_count": 59,
     "metadata": {},
     "output_type": "execute_result"
    }
   ],
   "source": [
    "torch.split(c, 3, dim=1) # 3개씩 나눔 = 2개로 쪼개짐"
   ]
  },
  {
   "cell_type": "markdown",
   "id": "1e0efeab",
   "metadata": {},
   "source": [
    "#### 결합하기_cat"
   ]
  },
  {
   "cell_type": "code",
   "execution_count": 61,
   "id": "782f7b93",
   "metadata": {},
   "outputs": [
    {
     "data": {
      "text/plain": [
       "(tensor([[1., 1., 1.],\n",
       "         [1., 1., 1.]]),\n",
       " tensor([[0., 0., 0.],\n",
       "         [0., 0., 0.],\n",
       "         [0., 0., 0.]]))"
      ]
     },
     "execution_count": 61,
     "metadata": {},
     "output_type": "execute_result"
    }
   ],
   "source": [
    "a = torch.ones(2, 3)\n",
    "b = torch.zeros(3, 3)\n",
    "a, b"
   ]
  },
  {
   "cell_type": "code",
   "execution_count": 62,
   "id": "13a5a546",
   "metadata": {},
   "outputs": [
    {
     "data": {
      "text/plain": [
       "tensor([[1., 1., 1.],\n",
       "        [1., 1., 1.],\n",
       "        [0., 0., 0.],\n",
       "        [0., 0., 0.],\n",
       "        [0., 0., 0.]])"
      ]
     },
     "execution_count": 62,
     "metadata": {},
     "output_type": "execute_result"
    }
   ],
   "source": [
    "torch.cat([a, b], dim=0)"
   ]
  },
  {
   "cell_type": "code",
   "execution_count": 63,
   "id": "7ac887c8",
   "metadata": {},
   "outputs": [
    {
     "ename": "RuntimeError",
     "evalue": "Sizes of tensors must match except in dimension 1. Expected size 2 but got size 3 for tensor number 1 in the list.",
     "output_type": "error",
     "traceback": [
      "\u001b[1;31m---------------------------------------------------------------------------\u001b[0m",
      "\u001b[1;31mRuntimeError\u001b[0m                              Traceback (most recent call last)",
      "Input \u001b[1;32mIn [63]\u001b[0m, in \u001b[0;36m<cell line: 1>\u001b[1;34m()\u001b[0m\n\u001b[1;32m----> 1\u001b[0m \u001b[43mtorch\u001b[49m\u001b[38;5;241;43m.\u001b[39;49m\u001b[43mcat\u001b[49m\u001b[43m(\u001b[49m\u001b[43m[\u001b[49m\u001b[43ma\u001b[49m\u001b[43m,\u001b[49m\u001b[43m \u001b[49m\u001b[43mb\u001b[49m\u001b[43m]\u001b[49m\u001b[43m,\u001b[49m\u001b[43m \u001b[49m\u001b[43mdim\u001b[49m\u001b[38;5;241;43m=\u001b[39;49m\u001b[38;5;241;43m1\u001b[39;49m\u001b[43m)\u001b[49m\n",
      "\u001b[1;31mRuntimeError\u001b[0m: Sizes of tensors must match except in dimension 1. Expected size 2 but got size 3 for tensor number 1 in the list."
     ]
    }
   ],
   "source": [
    "torch.cat([a, b], dim=1)"
   ]
  },
  {
   "cell_type": "markdown",
   "id": "1d6d580a",
   "metadata": {},
   "source": [
    "#### 결합하기_stack"
   ]
  },
  {
   "cell_type": "code",
   "execution_count": 64,
   "id": "ef105c79",
   "metadata": {},
   "outputs": [
    {
     "data": {
      "text/plain": [
       "(tensor([[1., 1., 1.],\n",
       "         [1., 1., 1.],\n",
       "         [1., 1., 1.]]),\n",
       " torch.Size([3, 3]))"
      ]
     },
     "execution_count": 64,
     "metadata": {},
     "output_type": "execute_result"
    }
   ],
   "source": [
    "a = torch.ones_like(b)\n",
    "a, a.size()"
   ]
  },
  {
   "cell_type": "code",
   "execution_count": 65,
   "id": "0453501b",
   "metadata": {},
   "outputs": [
    {
     "data": {
      "text/plain": [
       "(tensor([[0., 0., 0.],\n",
       "         [0., 0., 0.],\n",
       "         [0., 0., 0.]]),\n",
       " torch.Size([3, 3]))"
      ]
     },
     "execution_count": 65,
     "metadata": {},
     "output_type": "execute_result"
    }
   ],
   "source": [
    "b, b.size()"
   ]
  },
  {
   "cell_type": "code",
   "execution_count": 68,
   "id": "6971af86",
   "metadata": {},
   "outputs": [
    {
     "data": {
      "text/plain": [
       "(tensor([[[1., 1., 1.],\n",
       "          [1., 1., 1.],\n",
       "          [1., 1., 1.]],\n",
       " \n",
       "         [[0., 0., 0.],\n",
       "          [0., 0., 0.],\n",
       "          [0., 0., 0.]]]),\n",
       " torch.Size([2, 3, 3]))"
      ]
     },
     "execution_count": 68,
     "metadata": {},
     "output_type": "execute_result"
    }
   ],
   "source": [
    "torch.stack([a, b], dim=0), torch.stack([a, b], dim=0).size()"
   ]
  },
  {
   "cell_type": "code",
   "execution_count": 66,
   "id": "668b4e7f",
   "metadata": {},
   "outputs": [
    {
     "data": {
      "text/plain": [
       "(tensor([[[1., 1., 1.],\n",
       "          [0., 0., 0.]],\n",
       " \n",
       "         [[1., 1., 1.],\n",
       "          [0., 0., 0.]],\n",
       " \n",
       "         [[1., 1., 1.],\n",
       "          [0., 0., 0.]]]),\n",
       " torch.Size([3, 2, 3]))"
      ]
     },
     "execution_count": 66,
     "metadata": {},
     "output_type": "execute_result"
    }
   ],
   "source": [
    "torch.stack([a, b], dim=1), torch.stack([a, b], dim=1).size()"
   ]
  },
  {
   "cell_type": "code",
   "execution_count": 67,
   "id": "f2674afb",
   "metadata": {},
   "outputs": [
    {
     "data": {
      "text/plain": [
       "(tensor([[[1., 0.],\n",
       "          [1., 0.],\n",
       "          [1., 0.]],\n",
       " \n",
       "         [[1., 0.],\n",
       "          [1., 0.],\n",
       "          [1., 0.]],\n",
       " \n",
       "         [[1., 0.],\n",
       "          [1., 0.],\n",
       "          [1., 0.]]]),\n",
       " torch.Size([3, 3, 2]))"
      ]
     },
     "execution_count": 67,
     "metadata": {},
     "output_type": "execute_result"
    }
   ],
   "source": [
    "torch.stack([a, b], dim=2), torch.stack([a, b], dim=2).size()"
   ]
  },
  {
   "cell_type": "markdown",
   "id": "f4a31e31",
   "metadata": {},
   "source": [
    "#### 결합하기_tile"
   ]
  },
  {
   "cell_type": "code",
   "execution_count": 69,
   "id": "1c70264d",
   "metadata": {},
   "outputs": [
    {
     "data": {
      "text/plain": [
       "tensor([[1., 1., 1.],\n",
       "        [1., 1., 1.],\n",
       "        [1., 1., 1.],\n",
       "        [1., 1., 1.],\n",
       "        [1., 1., 1.],\n",
       "        [1., 1., 1.],\n",
       "        [1., 1., 1.],\n",
       "        [1., 1., 1.],\n",
       "        [1., 1., 1.]])"
      ]
     },
     "execution_count": 69,
     "metadata": {},
     "output_type": "execute_result"
    }
   ],
   "source": [
    "torch.tile(a, (3, 1))"
   ]
  },
  {
   "cell_type": "code",
   "execution_count": 70,
   "id": "ad80e71e",
   "metadata": {},
   "outputs": [
    {
     "data": {
      "text/plain": [
       "tensor([[1., 1., 1., 1., 1., 1.],\n",
       "        [1., 1., 1., 1., 1., 1.],\n",
       "        [1., 1., 1., 1., 1., 1.]])"
      ]
     },
     "execution_count": 70,
     "metadata": {},
     "output_type": "execute_result"
    }
   ],
   "source": [
    "torch.tile(a, (1, 2))"
   ]
  },
  {
   "cell_type": "code",
   "execution_count": 71,
   "id": "ed2fd12e",
   "metadata": {},
   "outputs": [
    {
     "data": {
      "text/plain": [
       "<function torch._VariableFunctionsClass.vstack>"
      ]
     },
     "execution_count": 71,
     "metadata": {},
     "output_type": "execute_result"
    }
   ],
   "source": [
    "torch.vstack"
   ]
  },
  {
   "cell_type": "code",
   "execution_count": 72,
   "id": "cae95b27",
   "metadata": {},
   "outputs": [
    {
     "data": {
      "text/plain": [
       "<function torch._VariableFunctionsClass.hstack>"
      ]
     },
     "execution_count": 72,
     "metadata": {},
     "output_type": "execute_result"
    }
   ],
   "source": [
    "torch.hstack"
   ]
  },
  {
   "cell_type": "code",
   "execution_count": null,
   "id": "38b76992",
   "metadata": {},
   "outputs": [],
   "source": []
  }
 ],
 "metadata": {
  "kernelspec": {
   "display_name": "Python 3 (ipykernel)",
   "language": "python",
   "name": "python3"
  },
  "language_info": {
   "codemirror_mode": {
    "name": "ipython",
    "version": 3
   },
   "file_extension": ".py",
   "mimetype": "text/x-python",
   "name": "python",
   "nbconvert_exporter": "python",
   "pygments_lexer": "ipython3",
   "version": "3.10.6"
  }
 },
 "nbformat": 4,
 "nbformat_minor": 5
}
