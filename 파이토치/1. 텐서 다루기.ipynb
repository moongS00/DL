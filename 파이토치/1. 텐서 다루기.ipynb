{
 "cells": [
  {
   "cell_type": "markdown",
   "id": "06e59e2b",
   "metadata": {},
   "source": [
    "# Tensor 생성"
   ]
  },
  {
   "cell_type": "code",
   "execution_count": 3,
   "id": "357dbc9e",
   "metadata": {},
   "outputs": [],
   "source": [
    "import torch\n",
    "import numpy as np"
   ]
  },
  {
   "cell_type": "markdown",
   "id": "e0f7c17c",
   "metadata": {},
   "source": [
    "## 1. 기존 데이터를 Torch의 Tensor로 \n",
    "- `torch.tensor()`\n",
    "- `torch.as_tensor()`\n",
    "- `torch.from_numpy()`"
   ]
  },
  {
   "cell_type": "markdown",
   "id": "397b138c",
   "metadata": {},
   "source": [
    "#### list"
   ]
  },
  {
   "cell_type": "code",
   "execution_count": 2,
   "id": "501578b2",
   "metadata": {},
   "outputs": [
    {
     "name": "stdout",
     "output_type": "stream",
     "text": [
      "tensor([[1, 2],\n",
      "        [3, 4]])\n",
      "torch.Size([2, 2])\n",
      "torch.int64\n",
      "----------\n",
      "tensor([[1, 2],\n",
      "        [3, 4]])\n",
      "torch.Size([2, 2])\n",
      "torch.int64\n"
     ]
    }
   ],
   "source": [
    "li = [[1, 2], [3, 4]]\n",
    "\n",
    "li_tensor = torch.tensor(li)\n",
    "li_as_tensor = torch.as_tensor(li)\n",
    "\n",
    "print(li_tensor)\n",
    "print(li_tensor.shape)\n",
    "print(li_tensor.dtype)\n",
    "print(\"-\" * 10)\n",
    "print(li_as_tensor)\n",
    "print(li_as_tensor.shape)\n",
    "print(li_as_tensor.dtype)"
   ]
  },
  {
   "cell_type": "markdown",
   "id": "b5edb440",
   "metadata": {},
   "source": [
    "#### array"
   ]
  },
  {
   "cell_type": "code",
   "execution_count": 4,
   "id": "6b1720c4",
   "metadata": {},
   "outputs": [
    {
     "name": "stdout",
     "output_type": "stream",
     "text": [
      "tensor([[1, 2],\n",
      "        [3, 4]], dtype=torch.int32)\n",
      "torch.Size([2, 2])\n",
      "torch.int32\n",
      "----------\n",
      "tensor([[1, 2],\n",
      "        [3, 4]], dtype=torch.int32)\n",
      "torch.Size([2, 2])\n",
      "torch.int32\n",
      "----------\n",
      "tensor([[1, 2],\n",
      "        [3, 4]], dtype=torch.int32)\n",
      "torch.Size([2, 2])\n",
      "torch.int32\n"
     ]
    }
   ],
   "source": [
    "arr = np.array([[1, 2], [3, 4]])\n",
    "\n",
    "arr_tensor = torch.tensor(arr)\n",
    "arr_as_tensor = torch.as_tensor(arr)\n",
    "arr_from_numpy = torch.from_numpy(arr)\n",
    "\n",
    "print(arr_tensor)\n",
    "print(arr_tensor.shape)\n",
    "print(arr_tensor.dtype)\n",
    "print(\"-\" * 10)\n",
    "print(arr_as_tensor)\n",
    "print(arr_as_tensor.shape)\n",
    "print(arr_as_tensor.dtype)\n",
    "print(\"-\" * 10)\n",
    "print(arr_from_numpy)\n",
    "print(arr_from_numpy.shape)\n",
    "print(arr_from_numpy.dtype)"
   ]
  },
  {
   "cell_type": "markdown",
   "id": "189ced25",
   "metadata": {},
   "source": [
    "#### 속성값 확인"
   ]
  },
  {
   "cell_type": "code",
   "execution_count": 5,
   "id": "66c135e9",
   "metadata": {},
   "outputs": [
    {
     "data": {
      "text/plain": [
       "torch.Size([2, 2])"
      ]
     },
     "execution_count": 5,
     "metadata": {},
     "output_type": "execute_result"
    }
   ],
   "source": [
    "li_tensor.shape"
   ]
  },
  {
   "cell_type": "code",
   "execution_count": 6,
   "id": "2310bfd9",
   "metadata": {},
   "outputs": [
    {
     "data": {
      "text/plain": [
       "torch.Size([2, 2])"
      ]
     },
     "execution_count": 6,
     "metadata": {},
     "output_type": "execute_result"
    }
   ],
   "source": [
    "li_tensor.size()"
   ]
  },
  {
   "cell_type": "markdown",
   "id": "a74f7744",
   "metadata": {},
   "source": [
    "---\n",
    "## 2. Torch를 numpy 배열로\n",
    "- `.numpy()`"
   ]
  },
  {
   "cell_type": "code",
   "execution_count": 7,
   "id": "dc248849",
   "metadata": {},
   "outputs": [
    {
     "name": "stdout",
     "output_type": "stream",
     "text": [
      "[[1 2]\n",
      " [3 4]]\n",
      "[[1 2]\n",
      " [3 4]]\n",
      "[[1 2]\n",
      " [3 4]]\n"
     ]
    }
   ],
   "source": [
    "print(li_tensor.numpy())\n",
    "print(arr_as_tensor.numpy())\n",
    "print(arr_from_numpy.numpy())"
   ]
  },
  {
   "cell_type": "markdown",
   "id": "24d2c5b9",
   "metadata": {},
   "source": [
    "## 3. 특정한 값의 Tensor 생성\n",
    "- `torch.arange()`\n",
    "- `torch.ones()`\n",
    "- `torch.zeros()`\n",
    "- `torch.ones_like()` : 입력값은 Tensor 형태만 가능\n",
    "- `torch.zeros_like()` : 입력값은 Tensor 형태만 가능\n",
    "- `torch.linspace(시작값, 끝값, 구간개수)`\n",
    "- `torch.logspace(시작값, 끝값, 구간개수)`"
   ]
  },
  {
   "cell_type": "code",
   "execution_count": 8,
   "id": "efcbd59d",
   "metadata": {},
   "outputs": [
    {
     "data": {
      "text/plain": [
       "tensor([0, 1, 2, 3, 4, 5, 6, 7, 8, 9])"
      ]
     },
     "execution_count": 8,
     "metadata": {},
     "output_type": "execute_result"
    }
   ],
   "source": [
    "torch.arange(10)"
   ]
  },
  {
   "cell_type": "code",
   "execution_count": 9,
   "id": "aa77ccbd",
   "metadata": {},
   "outputs": [
    {
     "name": "stdout",
     "output_type": "stream",
     "text": [
      "tensor([1., 1., 1., 1., 1.])\n",
      "tensor([0., 0., 0., 0., 0.])\n"
     ]
    }
   ],
   "source": [
    "print(torch.ones(5))\n",
    "print(torch.zeros(5))"
   ]
  },
  {
   "cell_type": "code",
   "execution_count": 10,
   "id": "c59d6dcb",
   "metadata": {},
   "outputs": [
    {
     "data": {
      "text/plain": [
       "tensor([[1, 1],\n",
       "        [1, 1]])"
      ]
     },
     "execution_count": 10,
     "metadata": {},
     "output_type": "execute_result"
    }
   ],
   "source": [
    "torch.ones_like(li_tensor)"
   ]
  },
  {
   "cell_type": "code",
   "execution_count": 12,
   "id": "8ea4b0e1",
   "metadata": {},
   "outputs": [
    {
     "data": {
      "text/plain": [
       "tensor([[0, 0],\n",
       "        [0, 0]])"
      ]
     },
     "execution_count": 12,
     "metadata": {},
     "output_type": "execute_result"
    }
   ],
   "source": [
    "torch.zeros_like(li_tensor)"
   ]
  },
  {
   "cell_type": "code",
   "execution_count": 13,
   "id": "0cf4e9cf",
   "metadata": {},
   "outputs": [
    {
     "ename": "TypeError",
     "evalue": "zeros_like(): argument 'input' (position 1) must be Tensor, not numpy.ndarray",
     "output_type": "error",
     "traceback": [
      "\u001b[1;31m---------------------------------------------------------------------------\u001b[0m",
      "\u001b[1;31mTypeError\u001b[0m                                 Traceback (most recent call last)",
      "Input \u001b[1;32mIn [13]\u001b[0m, in \u001b[0;36m<cell line: 1>\u001b[1;34m()\u001b[0m\n\u001b[1;32m----> 1\u001b[0m \u001b[43mtorch\u001b[49m\u001b[38;5;241;43m.\u001b[39;49m\u001b[43mzeros_like\u001b[49m\u001b[43m(\u001b[49m\u001b[43marr\u001b[49m\u001b[43m)\u001b[49m\n",
      "\u001b[1;31mTypeError\u001b[0m: zeros_like(): argument 'input' (position 1) must be Tensor, not numpy.ndarray"
     ]
    }
   ],
   "source": [
    " torch.zeros_like(arr)"
   ]
  },
  {
   "cell_type": "code",
   "execution_count": 16,
   "id": "59191b09",
   "metadata": {},
   "outputs": [
    {
     "data": {
      "text/plain": [
       "tensor([ 0.0000,  2.5000,  5.0000,  7.5000, 10.0000])"
      ]
     },
     "execution_count": 16,
     "metadata": {},
     "output_type": "execute_result"
    }
   ],
   "source": [
    "torch.linspace(0, 10, 5)"
   ]
  },
  {
   "cell_type": "code",
   "execution_count": 15,
   "id": "1f54e864",
   "metadata": {},
   "outputs": [
    {
     "data": {
      "text/plain": [
       "tensor([1.0000e+00, 3.1623e+02, 1.0000e+05, 3.1623e+07, 1.0000e+10])"
      ]
     },
     "execution_count": 15,
     "metadata": {},
     "output_type": "execute_result"
    }
   ],
   "source": [
    "torch.logspace(0, 10, 5)"
   ]
  },
  {
   "cell_type": "markdown",
   "id": "17ed4f30",
   "metadata": {},
   "source": [
    "## 4. 난수 생성\n",
    "- `torch.rand(출력개수)` : 균등분포\n",
    "- `torch.randn(출력개수)` : 정규분포\n",
    "- `torch.randint()` : 균등분포, size만큼 출력(size는 항상 튜플로 입력!)"
   ]
  },
  {
   "cell_type": "code",
   "execution_count": 17,
   "id": "11b401fa",
   "metadata": {},
   "outputs": [
    {
     "data": {
      "text/plain": [
       "<torch._C.Generator at 0x19a42173b70>"
      ]
     },
     "execution_count": 17,
     "metadata": {},
     "output_type": "execute_result"
    }
   ],
   "source": [
    "# seed 조절 꼭 하기!\n",
    "torch.manual_seed(0)"
   ]
  },
  {
   "cell_type": "code",
   "execution_count": 18,
   "id": "df67b906",
   "metadata": {},
   "outputs": [
    {
     "name": "stdout",
     "output_type": "stream",
     "text": [
      "tensor([0.4963, 0.7682, 0.0885, 0.1320, 0.3074])\n",
      "tensor([ 0.5507,  0.2704,  0.6472,  0.2490, -0.3354])\n",
      "tensor([8, 4, 3, 6, 9])\n"
     ]
    }
   ],
   "source": [
    "a = torch.rand(5)\n",
    "b = torch.randn(5)\n",
    "c = torch.randint(10, size = (5,))\n",
    "\n",
    "print(a, b, c, sep=\"\\n\")"
   ]
  },
  {
   "cell_type": "markdown",
   "id": "d31044d5",
   "metadata": {},
   "source": [
    "## 5. 데이터 타입\n",
    "- tf와 동일하게 데이터 타입이 다르면 연산이 불가능하다"
   ]
  },
  {
   "cell_type": "markdown",
   "id": "52670965",
   "metadata": {},
   "source": [
    "#### 생성 시 선언"
   ]
  },
  {
   "cell_type": "code",
   "execution_count": 19,
   "id": "19ca46fa",
   "metadata": {},
   "outputs": [
    {
     "data": {
      "text/plain": [
       "tensor([1., 4., 4., 1., 9.])"
      ]
     },
     "execution_count": 19,
     "metadata": {},
     "output_type": "execute_result"
    }
   ],
   "source": [
    "torch.randint(10, size=(5, ), dtype=torch.float32)"
   ]
  },
  {
   "cell_type": "markdown",
   "id": "104d9274",
   "metadata": {},
   "source": [
    "#### 생성 후 선언"
   ]
  },
  {
   "cell_type": "code",
   "execution_count": 20,
   "id": "1a9a729f",
   "metadata": {},
   "outputs": [
    {
     "name": "stdout",
     "output_type": "stream",
     "text": [
      "torch.int64\n",
      "tensor([9., 9., 0., 1., 2.])\n",
      "torch.int64\n",
      "torch.float64\n"
     ]
    }
   ],
   "source": [
    "a = torch.randint(10, size=(5,))\n",
    "print(a.dtype)\n",
    "\n",
    "print(a.type(torch.float32))\n",
    "print(a.dtype)  # .type()는 inplace 되는 명령이 아님!\n",
    "\n",
    "a = a.type(torch.float64)  # 변한 dtype으로 갱신을 따로 해줘야 한다!\n",
    "print(a.dtype)"
   ]
  },
  {
   "cell_type": "markdown",
   "id": "6817724a",
   "metadata": {},
   "source": [
    "## 6. GPU 사용하기\n",
    "TensorFlow는 자동으로 GPU를 사용하지만, Torch에서는 GPU 사용을 위해서 데이터 타입을 변환해줘야 한다."
   ]
  },
  {
   "cell_type": "code",
   "execution_count": 22,
   "id": "9995e84f",
   "metadata": {},
   "outputs": [
    {
     "data": {
      "text/plain": [
       "False"
      ]
     },
     "execution_count": 22,
     "metadata": {},
     "output_type": "execute_result"
    }
   ],
   "source": [
    "torch.cuda.is_available()"
   ]
  },
  {
   "cell_type": "markdown",
   "id": "616a48bf",
   "metadata": {},
   "source": [
    "- GPU 사용이 가능한 경우에는 True 가 출력된다."
   ]
  },
  {
   "cell_type": "markdown",
   "id": "d92c88c4",
   "metadata": {},
   "source": [
    "### GPU 를 사용하기 위해 Cuda에서 사용하는 데이터타입으로 바꾸어줘야 한다. \n",
    "### 방법 세가지! \n",
    "\n",
    " - 만들 때, device 설정해두기\n",
    " - tensor_var.cuda()\n",
    " - tensor_var.to(device)\n"
   ]
  },
  {
   "cell_type": "markdown",
   "id": "93bb680c",
   "metadata": {},
   "source": [
    "#### device 설정하기."
   ]
  },
  {
   "cell_type": "code",
   "execution_count": null,
   "id": "724cc95f",
   "metadata": {},
   "outputs": [],
   "source": [
    "x = torch.ones(2, 2, device='cuda')\n",
    "\n",
    "# 여러개 GPU중에 하나의 GPU에 할당하고 싶을 때\n",
    "# 번호는 nvidia-smi 명령을 Shell에 입력해서 찾을 수 있음 \n",
    "x = torch.ones(2, 2, device='cuda:0')\n",
    "\n",
    "# device 객체를 입력하는게 기본\n",
    "x = torch.ones(2, 2, device=torch.device('cuda'))"
   ]
  },
  {
   "cell_type": "markdown",
   "id": "7eee9ad2",
   "metadata": {},
   "source": [
    "#### .cuda()"
   ]
  },
  {
   "cell_type": "code",
   "execution_count": null,
   "id": "a1e83856",
   "metadata": {},
   "outputs": [],
   "source": [
    "a = torch.rand(10)\n",
    "print(a)\n",
    "\n",
    "a = a.cuda()\n",
    "print(a)"
   ]
  },
  {
   "cell_type": "markdown",
   "id": "acf98e9e",
   "metadata": {},
   "source": [
    "#### .to(device)"
   ]
  },
  {
   "cell_type": "code",
   "execution_count": null,
   "id": "5baecd17",
   "metadata": {},
   "outputs": [],
   "source": [
    "a = torch.rand(2)\n",
    "print(a)\n",
    "\n",
    "a = a.to(\"cuda\")\n",
    "print(a)"
   ]
  },
  {
   "cell_type": "markdown",
   "id": "097a3edf",
   "metadata": {},
   "source": [
    "#### 가장 보편적인 방법"
   ]
  },
  {
   "cell_type": "code",
   "execution_count": 24,
   "id": "e1a0792a",
   "metadata": {},
   "outputs": [
    {
     "name": "stdout",
     "output_type": "stream",
     "text": [
      "cpu\n",
      "tensor([0.1759, 0.2698])\n",
      "tensor([0.1759, 0.2698])\n"
     ]
    }
   ],
   "source": [
    "device = torch.device(\"cuda\" if torch.cuda.is_available() else \"cpu\")\n",
    "print(device)\n",
    "\n",
    "a = torch.rand(2)\n",
    "print(a)\n",
    "\n",
    "a = a.to(device)\n",
    "print(a)"
   ]
  },
  {
   "cell_type": "code",
   "execution_count": null,
   "id": "12d6de21",
   "metadata": {},
   "outputs": [],
   "source": []
  }
 ],
 "metadata": {
  "kernelspec": {
   "display_name": "Python 3 (ipykernel)",
   "language": "python",
   "name": "python3"
  },
  "language_info": {
   "codemirror_mode": {
    "name": "ipython",
    "version": 3
   },
   "file_extension": ".py",
   "mimetype": "text/x-python",
   "name": "python",
   "nbconvert_exporter": "python",
   "pygments_lexer": "ipython3",
   "version": "3.10.6"
  }
 },
 "nbformat": 4,
 "nbformat_minor": 5
}
