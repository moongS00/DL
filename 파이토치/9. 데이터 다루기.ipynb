{
 "cells": [
  {
   "cell_type": "code",
   "execution_count": 1,
   "id": "e850622f",
   "metadata": {},
   "outputs": [],
   "source": [
    "import os\n",
    "import torch\n",
    "from torchvision import datasets, transforms"
   ]
  },
  {
   "cell_type": "code",
   "execution_count": 2,
   "id": "7e09ec6e",
   "metadata": {},
   "outputs": [
    {
     "data": {
      "text/plain": [
       "<torch._C.Generator at 0x264e3a8ba90>"
      ]
     },
     "execution_count": 2,
     "metadata": {},
     "output_type": "execute_result"
    }
   ],
   "source": [
    "torch.manual_seed(7777)"
   ]
  },
  {
   "cell_type": "markdown",
   "id": "6d0d2eea",
   "metadata": {},
   "source": [
    "# PyTotch에서 Dataloader 만들기\n",
    "`torch.utils.data.DataLoader` 를 사용\n",
    "- `torch.utils.data.DataLoader`는 기본적으로 아래 두가지 인수를 받음\n",
    "    1. `torch.utils.data.dataset.Dataset`\n",
    "    2. batch_size"
   ]
  },
  {
   "cell_type": "code",
   "execution_count": 3,
   "id": "79af6518",
   "metadata": {},
   "outputs": [],
   "source": [
    "batch_size = 32"
   ]
  },
  {
   "cell_type": "code",
   "execution_count": 4,
   "id": "4451aab1",
   "metadata": {},
   "outputs": [],
   "source": [
    "train_loader = torch.utils.data.DataLoader(\n",
    "            datasets.MNIST('dataset/', train=True, download=True,\n",
    "                          transform=transforms.Compose([transforms.ToTensor(), \n",
    "                                                        transforms.Normalize(mean=(0.5,), std=(0.5,))\n",
    "                                                       ])),\n",
    "            batch_size=batch_size)"
   ]
  },
  {
   "cell_type": "code",
   "execution_count": 5,
   "id": "da86a281",
   "metadata": {},
   "outputs": [],
   "source": [
    "gen = torch.utils.data.DataLoader(\n",
    "            datasets.MNIST('dataset/', train=True, download=True,\n",
    "                          transform=transforms.Compose([transforms.ToTensor(), \n",
    "                                                        transforms.Normalize(mean=(0.5,), std=(0.5,))\n",
    "                                                       ])))"
   ]
  },
  {
   "cell_type": "code",
   "execution_count": 7,
   "id": "667a17d6",
   "metadata": {},
   "outputs": [],
   "source": [
    "x, y = next(iter(gen))"
   ]
  },
  {
   "cell_type": "code",
   "execution_count": 8,
   "id": "b8dd82ac",
   "metadata": {},
   "outputs": [
    {
     "data": {
      "text/plain": [
       "torch.Size([1, 1, 28, 28])"
      ]
     },
     "execution_count": 8,
     "metadata": {},
     "output_type": "execute_result"
    }
   ],
   "source": [
    "x.shape"
   ]
  },
  {
   "cell_type": "code",
   "execution_count": 9,
   "id": "1c651d59",
   "metadata": {},
   "outputs": [
    {
     "data": {
      "text/plain": [
       "tensor([5])"
      ]
     },
     "execution_count": 9,
     "metadata": {},
     "output_type": "execute_result"
    }
   ],
   "source": [
    "y"
   ]
  },
  {
   "cell_type": "code",
   "execution_count": 10,
   "id": "b211ed70",
   "metadata": {},
   "outputs": [
    {
     "name": "stdout",
     "output_type": "stream",
     "text": [
      "torch.Size([32, 1, 28, 28]) torch.Size([32])\n"
     ]
    }
   ],
   "source": [
    "x, y = next(iter(train_loader))\n",
    "print(x.shape, y.shape)"
   ]
  },
  {
   "cell_type": "markdown",
   "id": "59da9d1f",
   "metadata": {},
   "source": [
    "## Local에 있는 데이터를 torch.utils.data.dataset.Dataset 로 만들기\n",
    "- imageFolder : 간단히 로컬에 있는 이미지 데이터셋 불러오기. 디렉토리 구조가 다음과 같아야 함\n",
    "    \n",
    "```\n",
    "- dataset\n",
    "    - class0\n",
    "        -xxx.png\n",
    "        - yyy.png\n",
    "        - ...\n",
    "    - class1\n",
    "        -xxx.png\n",
    "        - yyy.png\n",
    "        - ...\n",
    "    - class2\n",
    "        -xxx.png\n",
    "        - yyy.png\n",
    "        - ...        \n",
    "```"
   ]
  },
  {
   "cell_type": "code",
   "execution_count": 11,
   "id": "ef21d0b7",
   "metadata": {},
   "outputs": [],
   "source": [
    "raw_path = \"E:/공부/제로베이스/Part 10. 텐서플로 & Part 11. 파이토치/deeplearning_frameworks_zerobaseDSS/\"\n",
    "\n",
    "train_dir = raw_path + \"datasets/mnist_png/training/\"\n",
    "test_dir = raw_path + \"datasets/mnist_png/testing/\""
   ]
  },
  {
   "cell_type": "code",
   "execution_count": 13,
   "id": "904a9a3b",
   "metadata": {},
   "outputs": [
    {
     "data": {
      "text/plain": [
       "['0', '1', '2', '3', '4', '5', '6', '7', '8', '9']"
      ]
     },
     "execution_count": 13,
     "metadata": {},
     "output_type": "execute_result"
    }
   ],
   "source": [
    "os.listdir(test_dir)"
   ]
  },
  {
   "cell_type": "code",
   "execution_count": 14,
   "id": "3032c233",
   "metadata": {},
   "outputs": [],
   "source": [
    "device = torch.device(\"cuda\" if torch.cuda.is_available() else \"cpu\")"
   ]
  },
  {
   "cell_type": "code",
   "execution_count": 15,
   "id": "efc5fded",
   "metadata": {},
   "outputs": [],
   "source": [
    "train_dataset = datasets.ImageFolder(root = train_dir, \n",
    "                                     transform=transforms.Compose([\n",
    "                                         transforms.ToTensor(), \n",
    "                                         transforms.Normalize(205, 205)\n",
    "                                     ])\n",
    "                                    )"
   ]
  },
  {
   "cell_type": "code",
   "execution_count": 16,
   "id": "28a8f891",
   "metadata": {},
   "outputs": [],
   "source": [
    "test_dataset = datasets.ImageFolder(root = test_dir, \n",
    "                                     transform=transforms.Compose([\n",
    "                                         transforms.ToTensor(), \n",
    "                                         transforms.Normalize(205, 205)\n",
    "                                     ])\n",
    "                                    )"
   ]
  },
  {
   "cell_type": "code",
   "execution_count": 19,
   "id": "21037925",
   "metadata": {},
   "outputs": [
    {
     "data": {
      "text/plain": [
       "(torch.Size([3, 28, 28]), 0)"
      ]
     },
     "execution_count": 19,
     "metadata": {},
     "output_type": "execute_result"
    }
   ],
   "source": [
    "x, y = next(iter(train_dataset))\n",
    "\n",
    "x.shape, y"
   ]
  },
  {
   "cell_type": "code",
   "execution_count": 20,
   "id": "33b6cac4",
   "metadata": {},
   "outputs": [],
   "source": [
    "train_loader = torch.utils.data.DataLoader(train_dataset, batch_size=32,shuffle=True)"
   ]
  },
  {
   "cell_type": "code",
   "execution_count": 21,
   "id": "d7cdb4db",
   "metadata": {},
   "outputs": [],
   "source": [
    "tetst_loader = torch.utils.data.DataLoader(test_dataset, batch_size=32,)"
   ]
  },
  {
   "cell_type": "code",
   "execution_count": 22,
   "id": "834ac595",
   "metadata": {},
   "outputs": [
    {
     "data": {
      "text/plain": [
       "(torch.Size([32, 3, 28, 28]), torch.Size([32]))"
      ]
     },
     "execution_count": 22,
     "metadata": {},
     "output_type": "execute_result"
    }
   ],
   "source": [
    "x, y = next(iter(train_loader))\n",
    "        \n",
    "x.shape, y.shape"
   ]
  },
  {
   "cell_type": "code",
   "execution_count": null,
   "id": "0d76222f",
   "metadata": {},
   "outputs": [],
   "source": []
  }
 ],
 "metadata": {
  "kernelspec": {
   "display_name": "Python 3 (ipykernel)",
   "language": "python",
   "name": "python3"
  },
  "language_info": {
   "codemirror_mode": {
    "name": "ipython",
    "version": 3
   },
   "file_extension": ".py",
   "mimetype": "text/x-python",
   "name": "python",
   "nbconvert_exporter": "python",
   "pygments_lexer": "ipython3",
   "version": "3.10.6"
  }
 },
 "nbformat": 4,
 "nbformat_minor": 5
}
