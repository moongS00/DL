{
 "cells": [
  {
   "cell_type": "markdown",
   "id": "edc07dbf",
   "metadata": {},
   "source": [
    "# Training Logic"
   ]
  },
  {
   "cell_type": "code",
   "execution_count": 6,
   "id": "5ae64675",
   "metadata": {},
   "outputs": [],
   "source": [
    "import torch\n",
    "from torch import nn \n",
    "from torch import optim\n",
    "import torch.nn.functional as F\n",
    "from torch.optim.lr_scheduler import ReduceLROnPlateau\n",
    "from torchvision import datasets, transforms"
   ]
  },
  {
   "cell_type": "code",
   "execution_count": 2,
   "id": "12549e91",
   "metadata": {},
   "outputs": [],
   "source": [
    "device = torch.device('cuda' if torch.cuda.is_available() else 'cpu')"
   ]
  },
  {
   "cell_type": "code",
   "execution_count": 3,
   "id": "228934d5",
   "metadata": {},
   "outputs": [],
   "source": [
    "batch_size = 32\n",
    "\n",
    "train_loader = torch.utils.data.DataLoader(\n",
    "    datasets.MNIST('dataset/', train=True, download=True,\n",
    "                   transform=transforms.Compose([\n",
    "                       transforms.ToTensor(),\n",
    "                       transforms.Normalize(mean=(0.5,), std=(0.5,))\n",
    "                   ])),\n",
    "    batch_size=batch_size,\n",
    "    shuffle=True)"
   ]
  },
  {
   "cell_type": "code",
   "execution_count": 4,
   "id": "5985db97",
   "metadata": {},
   "outputs": [],
   "source": [
    "class ResidualBlock(nn.Module):\n",
    "    def __init__(self, in_channel, out_channel):\n",
    "        super(ResidualBlock, self).__init__()\n",
    "        \n",
    "        self.in_channel, self.out_channel = in_channel, out_channel\n",
    "        \n",
    "        self.conv1 = nn.Conv2d(in_channel, out_channel, kernel_size=1, padding=0)\n",
    "        self.conv2 = nn.Conv2d(out_channel, out_channel, kernel_size=3, padding=1)\n",
    "        self.conv3 = nn.Conv2d(out_channel, out_channel, kernel_size=1, padding=0)\n",
    "        \n",
    "        if in_channel != out_channel:\n",
    "            self.shortcut = nn.Sequential(\n",
    "                nn.Conv2d(in_channel, out_channel, kernel_size=1, padding=0)\n",
    "            )\n",
    "        else:\n",
    "            self.shortcut = nn.Sequential()\n",
    "    \n",
    "    def forward(self, x):\n",
    "        out = F.relu(self.conv1(x))\n",
    "        out = F.relu(self.conv2(out))\n",
    "        out = F.relu(self.conv3(out))\n",
    "        out = out + self.shortcut(x)\n",
    "        return out\n",
    "\n",
    "class ResNet(nn.Module):\n",
    "    def __init__(self, color='gray'):\n",
    "        super(ResNet, self).__init__()\n",
    "        if color == \"gray\":\n",
    "            self.conv1 = nn.Conv2d(1, 32, kernel_size=3, stride=1, padding=1)\n",
    "        elif color == \"rgb\":\n",
    "            self.conv1 = nn.Conv2d(3, 32, kernel_size=3, stride=1, padding=1)\n",
    "            \n",
    "        self.resblock1 = ResidualBlock(32, 64)\n",
    "        self.resblock2 = ResidualBlock(64, 64)\n",
    "        \n",
    "        self.avgpool = nn.AdaptiveAvgPool2d((1,1))\n",
    "        self.fc1 = nn.Linear(64, 64)\n",
    "        self.fc2 = nn.Linear(64, 10)\n",
    "        \n",
    "    def forward(self, x):\n",
    "        x = F.relu(self.conv1(x))\n",
    "        x = F.max_pool2d(x, 2, 2)\n",
    "        x = self.resblock1(x)\n",
    "        x = self.resblock2(x)\n",
    "        x = self.avgpool(x)\n",
    "        x = torch.flatten(x,1)\n",
    "        x = F.relu(self.fc1(x))\n",
    "        x = self.fc2(x)\n",
    "        x = F.log_softmax(x, dim=1)\n",
    "        return x"
   ]
  },
  {
   "cell_type": "code",
   "execution_count": 5,
   "id": "2087161c",
   "metadata": {},
   "outputs": [],
   "source": [
    "model = ResNet().to(device)"
   ]
  },
  {
   "cell_type": "markdown",
   "id": "cc1afca2",
   "metadata": {},
   "source": [
    "##  Learning Rate Scheduler"
   ]
  },
  {
   "cell_type": "code",
   "execution_count": 9,
   "id": "175e4752",
   "metadata": {},
   "outputs": [],
   "source": [
    "optimizer = optim.Adam(model.parameters(), lr=0.03)"
   ]
  },
  {
   "cell_type": "code",
   "execution_count": 10,
   "id": "5801ef8d",
   "metadata": {},
   "outputs": [],
   "source": [
    "scheduler = ReduceLROnPlateau(optimizer, mode='min', verbose=True)"
   ]
  },
  {
   "cell_type": "markdown",
   "id": "dd17214f",
   "metadata": {},
   "source": [
    "- mode는 loss 인 경우 \"min\", acc인 경우 \"max\"를 사용\n",
    "- verbose=True: lr이 바뀔때마다 log를 보여준다"
   ]
  },
  {
   "cell_type": "code",
   "execution_count": 11,
   "id": "0348e771",
   "metadata": {},
   "outputs": [],
   "source": [
    "def train_loop(dataloader, model, loss_fn, optimizer, scheduler, epoch):\n",
    "    model.train()\n",
    "    size = len(dataloader)\n",
    "    for batch, (x, y) in enumerate(dataloader):\n",
    "        x, y = x.to(device), y.to(device)\n",
    "        \n",
    "        pred = model(x)\n",
    "        loss = loss_fn(pred, y)\n",
    "        \n",
    "        optimizer.zero_grad()\n",
    "        loss.backward()\n",
    "        optimizer.step()\n",
    "        \n",
    "        if batch % 100 == 0:\n",
    "            loss = loss.item()\n",
    "            print(f\"Epoch {epoch} : [{batch}/{size}] loss : {loss}\")\n",
    "            \n",
    "    scheduler.step(loss)\n",
    "    \n",
    "    return loss.item()"
   ]
  },
  {
   "cell_type": "code",
   "execution_count": 13,
   "id": "20b607cc",
   "metadata": {},
   "outputs": [
    {
     "name": "stdout",
     "output_type": "stream",
     "text": [
      "Epoch 0 : [0/1875] loss : 2.243256092071533\n",
      "Epoch 0 : [100/1875] loss : 1.508970022201538\n",
      "Epoch 0 : [200/1875] loss : 1.23863685131073\n",
      "Epoch 0 : [300/1875] loss : 1.3099850416183472\n",
      "Epoch 0 : [400/1875] loss : 1.6059422492980957\n",
      "Epoch 0 : [500/1875] loss : 1.469323754310608\n",
      "Epoch 0 : [600/1875] loss : 0.9231387972831726\n",
      "Epoch 0 : [700/1875] loss : 1.1293424367904663\n",
      "Epoch 0 : [800/1875] loss : 1.134285807609558\n",
      "Epoch 0 : [900/1875] loss : 0.821662187576294\n",
      "Epoch 0 : [1000/1875] loss : 0.9763290286064148\n",
      "Epoch 0 : [1100/1875] loss : 0.7143877744674683\n",
      "Epoch 0 : [1200/1875] loss : 0.8270964026451111\n",
      "Epoch 0 : [1300/1875] loss : 0.6810207962989807\n",
      "Epoch 0 : [1400/1875] loss : 0.6565802693367004\n",
      "Epoch 0 : [1500/1875] loss : 0.7728536128997803\n",
      "Epoch 0 : [1600/1875] loss : 1.0831559896469116\n",
      "Epoch 0 : [1700/1875] loss : 0.5612004399299622\n",
      "Epoch 0 : [1800/1875] loss : 0.4417472183704376\n",
      "epoch:0 loss:0.7592490911483765\n",
      "Epoch 1 : [0/1875] loss : 0.654495358467102\n",
      "Epoch 1 : [100/1875] loss : 0.5385924577713013\n",
      "Epoch 1 : [200/1875] loss : 0.8451380729675293\n",
      "Epoch 1 : [300/1875] loss : 0.701914370059967\n",
      "Epoch 1 : [400/1875] loss : 0.46454450488090515\n",
      "Epoch 1 : [500/1875] loss : 0.8813291788101196\n",
      "Epoch 1 : [600/1875] loss : 0.8390023112297058\n",
      "Epoch 1 : [700/1875] loss : 0.39015433192253113\n",
      "Epoch 1 : [800/1875] loss : 0.6737825274467468\n",
      "Epoch 1 : [900/1875] loss : 0.8577902317047119\n",
      "Epoch 1 : [1000/1875] loss : 0.3532499372959137\n",
      "Epoch 1 : [1100/1875] loss : 0.27488237619400024\n",
      "Epoch 1 : [1200/1875] loss : 0.3870088756084442\n",
      "Epoch 1 : [1300/1875] loss : 0.7934045195579529\n",
      "Epoch 1 : [1400/1875] loss : 0.47164809703826904\n",
      "Epoch 1 : [1500/1875] loss : 0.31431734561920166\n",
      "Epoch 1 : [1600/1875] loss : 0.5986992120742798\n",
      "Epoch 1 : [1700/1875] loss : 0.4413277804851532\n",
      "Epoch 1 : [1800/1875] loss : 0.6070917248725891\n",
      "epoch:1 loss:0.6409450769424438\n"
     ]
    }
   ],
   "source": [
    "for epoch in range(2):\n",
    "    loss = train_loop(train_loader, model, F.nll_loss, optimizer, scheduler, epoch)\n",
    "    print(f\"epoch:{epoch} loss:{loss}\" )\n",
    "    "
   ]
  },
  {
   "cell_type": "code",
   "execution_count": null,
   "id": "a19152de",
   "metadata": {},
   "outputs": [],
   "source": []
  }
 ],
 "metadata": {
  "kernelspec": {
   "display_name": "Python 3 (ipykernel)",
   "language": "python",
   "name": "python3"
  },
  "language_info": {
   "codemirror_mode": {
    "name": "ipython",
    "version": 3
   },
   "file_extension": ".py",
   "mimetype": "text/x-python",
   "name": "python",
   "nbconvert_exporter": "python",
   "pygments_lexer": "ipython3",
   "version": "3.10.6"
  }
 },
 "nbformat": 4,
 "nbformat_minor": 5
}
