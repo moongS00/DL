{
 "cells": [
  {
   "cell_type": "markdown",
   "id": "cb339d4c",
   "metadata": {},
   "source": [
    "# 전체 딥러닝 플로우 구현"
   ]
  },
  {
   "cell_type": "code",
   "execution_count": 17,
   "id": "be5fe9a5",
   "metadata": {},
   "outputs": [],
   "source": [
    "import pandas as pd\n",
    "import numpy as np \n",
    "\n",
    "import matplotlib.pyplot as plt \n",
    "%matplotlib inline\n",
    "\n",
    "import torch\n",
    "from torchvision import datasets, transforms\n",
    "import tensorflow as tf"
   ]
  },
  {
   "cell_type": "markdown",
   "id": "eaf29d66",
   "metadata": {},
   "source": [
    "## 1. 데이터 load & 전처리"
   ]
  },
  {
   "cell_type": "code",
   "execution_count": 2,
   "id": "24a7aab9",
   "metadata": {},
   "outputs": [],
   "source": [
    "batch_size = 32"
   ]
  },
  {
   "cell_type": "code",
   "execution_count": 3,
   "id": "cd97b53b",
   "metadata": {
    "scrolled": true
   },
   "outputs": [],
   "source": [
    "train_loader = torch.utils.data.DataLoader(\n",
    "    datasets.MNIST(\"dataset/\",   # 이 위치에 있는 파일 사용\n",
    "                   download=True,  # 그 위치에 파일 없으면 다운받겠다\n",
    "                   train=True,\n",
    "                   transform = transforms.Compose(  # 데이터를 가져올 때 transforms 안에 있는 기능들로 미리 전처리를 하겠다\n",
    "                       [\n",
    "                           transforms.ToTensor(),\n",
    "                           transforms.Normalize(mean=(0.5, ), std=(0.5,))  # 평균, 분산이 0.5인 정규분포로 scaling \n",
    "                           \n",
    "                       ]\n",
    "                   )),\n",
    "    batch_size=batch_size,\n",
    "    shuffle=True\n",
    ")"
   ]
  },
  {
   "cell_type": "code",
   "execution_count": 4,
   "id": "2a373515",
   "metadata": {},
   "outputs": [],
   "source": [
    "test_loader = torch.utils.data.DataLoader(\n",
    "    datasets.MNIST('dataset', train=False, \n",
    "                   transform=transforms.Compose([\n",
    "                       transforms.ToTensor(),\n",
    "                       transforms.Normalize((0.,), (1.))\n",
    "                   ])),\n",
    "    batch_size=batch_size,\n",
    "    shuffle=False)"
   ]
  },
  {
   "cell_type": "markdown",
   "id": "c358e8f0",
   "metadata": {},
   "source": [
    "## 2.데이터 확인\n",
    "\n",
    "PyTorch에서는 TF와 이미지를 표현하는데 있어서 차이점이 있음. \n",
    "\n",
    "- TF - (batch, height, width, channel)\n",
    "- PyTorch - (batch, channel, height, width)"
   ]
  },
  {
   "cell_type": "code",
   "execution_count": 5,
   "id": "beab14f5",
   "metadata": {
    "scrolled": true
   },
   "outputs": [],
   "source": [
    "images, labels = next(iter(train_loader))"
   ]
  },
  {
   "cell_type": "code",
   "execution_count": 6,
   "id": "7bdf6ad9",
   "metadata": {},
   "outputs": [
    {
     "data": {
      "text/plain": [
       "(torch.Size([32, 1, 28, 28]), torch.float32)"
      ]
     },
     "execution_count": 6,
     "metadata": {},
     "output_type": "execute_result"
    }
   ],
   "source": [
    "images.shape, images.dtype"
   ]
  },
  {
   "cell_type": "code",
   "execution_count": 7,
   "id": "32357950",
   "metadata": {},
   "outputs": [
    {
     "data": {
      "text/plain": [
       "torch.Size([28, 28])"
      ]
     },
     "execution_count": 7,
     "metadata": {},
     "output_type": "execute_result"
    }
   ],
   "source": [
    "torch_image = torch.squeeze(images[0])\n",
    "torch_image.shape"
   ]
  },
  {
   "cell_type": "code",
   "execution_count": 8,
   "id": "31a98693",
   "metadata": {},
   "outputs": [],
   "source": [
    "image = torch_image.numpy()\n",
    "label = labels[0].numpy()"
   ]
  },
  {
   "cell_type": "markdown",
   "id": "a68ca9d1",
   "metadata": {},
   "source": [
    "```\n",
    "plt.title(label)\n",
    "plt.imshow(image, 'gray')\n",
    "plt.show()\n",
    "```\n",
    "- 실행 안됨 ㅎ"
   ]
  },
  {
   "cell_type": "markdown",
   "id": "cebd29d4",
   "metadata": {},
   "source": [
    "## 3. 모델 정의\n",
    "- 텐서플로: sequential, functionalAPI, subclass 등\n",
    "- 파이토치: nn. 모듈"
   ]
  },
  {
   "cell_type": "code",
   "execution_count": 9,
   "id": "95db6384",
   "metadata": {},
   "outputs": [],
   "source": [
    "from torch import nn # 학습할 파라미터가 있는 것들\n",
    "import torch.nn.functional as F # 학습할 파라미터가 없는 것들"
   ]
  },
  {
   "cell_type": "markdown",
   "id": "031e15d7",
   "metadata": {},
   "source": [
    "conv = nn.Conv2d(parameta)<br>\n",
    "conv(x)\n",
    "- nn 안에 있는 애들은 결과가 functional $\\to$ 결과를 다시 함수로 사용\n",
    "<br>\n",
    "<br>\n",
    "\n",
    "\n",
    "F.relu(x)\n",
    "F.max_pool2d(x)\n",
    "- F는 궅이 functional 이 필요 없는 경우..!"
   ]
  },
  {
   "cell_type": "code",
   "execution_count": 10,
   "id": "1cf507e5",
   "metadata": {},
   "outputs": [],
   "source": [
    "class Net(nn.Module):\n",
    "    def __init__(self):\n",
    "        # forward 에서 사용되는 layer나 parameta들을 정의\n",
    "        super(Net, self).__init__()\n",
    "        self.conv1 = nn.Conv2d(1, 20, 5, 1)\n",
    "        self.conv2 = nn.Conv2d(20, 50, 5, 1)\n",
    "        self.fc1 = nn.Linear(4*4*50, 500)\n",
    "        self.fc2 = nn.Linear(500, 10)\n",
    "        \n",
    "    def forward(self, x):\n",
    "        # 실제 모델의 연산을 구현\n",
    "        x = F.relu(self.conv1(x))\n",
    "        x = F.max_pool2d(x, 2, 2)\n",
    "        x = F.relu(self.conv2(x))\n",
    "        x = F.max_pool2d(x, 2, 2)\n",
    "        x = x.view(-1, 4*4*50)\n",
    "        x = F.relu(self.fc1(x))\n",
    "        x = self.fc2(x)\n",
    "        \n",
    "        return F.log_softmax(x, dim=1)"
   ]
  },
  {
   "cell_type": "markdown",
   "id": "acbd0778",
   "metadata": {},
   "source": [
    "```\n",
    "nn.Conv2d(1, 20, 5, 1) \n",
    "1: input\n",
    "20: output\n",
    "5:\n",
    "1:\n",
    "```\n",
    "\n",
    "```\n",
    "nn.Linear(4*4*50, 500)\n",
    "4*4*50: input\n",
    "500: output\n",
    "\n",
    "```"
   ]
  },
  {
   "cell_type": "code",
   "execution_count": 11,
   "id": "880afb86",
   "metadata": {},
   "outputs": [],
   "source": [
    "device = torch.device('cuda' if torch.cuda.is_available() else 'cpu')\n",
    "model = Net().to(device)"
   ]
  },
  {
   "cell_type": "code",
   "execution_count": 13,
   "id": "46d3d183",
   "metadata": {},
   "outputs": [
    {
     "name": "stdout",
     "output_type": "stream",
     "text": [
      "Net(\n",
      "  (conv1): Conv2d(1, 20, kernel_size=(5, 5), stride=(1, 1))\n",
      "  (conv2): Conv2d(20, 50, kernel_size=(5, 5), stride=(1, 1))\n",
      "  (fc1): Linear(in_features=800, out_features=500, bias=True)\n",
      "  (fc2): Linear(in_features=500, out_features=10, bias=True)\n",
      ")\n"
     ]
    }
   ],
   "source": [
    "print(model)"
   ]
  },
  {
   "cell_type": "markdown",
   "id": "0daad501",
   "metadata": {},
   "source": [
    "## 4. 학습 로직\n",
    "epoch $\\to$ batch $\\to$ model $\\to$ loss $\\to$ gradient $\\to$ modelupdate"
   ]
  },
  {
   "cell_type": "markdown",
   "id": "a5dc0400",
   "metadata": {},
   "source": [
    "#### PyTorch에서는 model을 Training 모드로 변경 후 Training 할 수 있다. "
   ]
  },
  {
   "cell_type": "code",
   "execution_count": 15,
   "id": "85064c7d",
   "metadata": {},
   "outputs": [
    {
     "data": {
      "text/plain": [
       "Net(\n",
       "  (conv1): Conv2d(1, 20, kernel_size=(5, 5), stride=(1, 1))\n",
       "  (conv2): Conv2d(20, 50, kernel_size=(5, 5), stride=(1, 1))\n",
       "  (fc1): Linear(in_features=800, out_features=500, bias=True)\n",
       "  (fc2): Linear(in_features=500, out_features=10, bias=True)\n",
       ")"
      ]
     },
     "execution_count": 15,
     "metadata": {},
     "output_type": "execute_result"
    }
   ],
   "source": [
    "model.train()  # train 모듈"
   ]
  },
  {
   "cell_type": "code",
   "execution_count": 16,
   "id": "59f2fef0",
   "metadata": {},
   "outputs": [
    {
     "data": {
      "text/plain": [
       "Net(\n",
       "  (conv1): Conv2d(1, 20, kernel_size=(5, 5), stride=(1, 1))\n",
       "  (conv2): Conv2d(20, 50, kernel_size=(5, 5), stride=(1, 1))\n",
       "  (fc1): Linear(in_features=800, out_features=500, bias=True)\n",
       "  (fc2): Linear(in_features=500, out_features=10, bias=True)\n",
       ")"
      ]
     },
     "execution_count": 16,
     "metadata": {},
     "output_type": "execute_result"
    }
   ],
   "source": [
    "model.eval()  # evaluation모듈"
   ]
  },
  {
   "cell_type": "markdown",
   "id": "9f5a5466",
   "metadata": {},
   "source": [
    "#### PyTorch에도 optimizer 있음!"
   ]
  },
  {
   "cell_type": "code",
   "execution_count": 18,
   "id": "0537a6d9",
   "metadata": {},
   "outputs": [],
   "source": [
    "import torch.optim as optim\n",
    "\n",
    "optimizer = optim.SGD(model.parameters(), lr=0.003)"
   ]
  },
  {
   "cell_type": "code",
   "execution_count": 21,
   "id": "ab041d5e",
   "metadata": {
    "scrolled": true
   },
   "outputs": [
    {
     "name": "stdout",
     "output_type": "stream",
     "text": [
      "batch 1874 loss : 0.0180473923683166534\n",
      "Test set: Average Loss: 0.5050, Accuracy: 8836/10000 (88%)\n",
      "\n",
      "batch 1874 loss : 0.0560781396925449465\n",
      "Test set: Average Loss: 0.4994, Accuracy: 8755/10000 (88%)\n",
      "\n",
      "batch 1874 loss : 0.0330062359571456976\n",
      "Test set: Average Loss: 0.4763, Accuracy: 8757/10000 (88%)\n",
      "\n"
     ]
    }
   ],
   "source": [
    "for epoch in range(3):\n",
    "    # Train Mode\n",
    "    model.train()\n",
    "    for batch_idx, (data, target) in enumerate(train_loader):\n",
    "        \n",
    "        data, target = data.to(device), target.to(device)\n",
    "        \n",
    "        optimizer.zero_grad() # gradient 값을 누적계산하기 때문에, 매 epoch 마다 0으로 초기화\n",
    "        \n",
    "        output = model(data)\n",
    "        loss = F.nll_loss(output, target)  # output: 예측 // target: 정답\n",
    "        \n",
    "        loss.backward()\n",
    "        \n",
    "        optimizer.step()\n",
    "        \n",
    "        print(\"batch {} loss : {}\".format(batch_idx, loss.item()), end='\\r')\n",
    "    \n",
    "    # evaluation mode\n",
    "    model.eval()\n",
    "\n",
    "    test_loss = 0\n",
    "    correct = 0\n",
    "    with torch.no_grad():  # gradient 기억 안함\n",
    "        for data, target in test_loader:\n",
    "            data, target = data.to(device), target.to(device)\n",
    "            output = model(data)\n",
    "            test_loss += F.nll_loss(output, target, reduction='sum').item()\n",
    "            pred = output.argmax(dim=1, keepdim=True)\n",
    "            correct += pred.eq(target.view_as(pred)).sum().item()\n",
    "\n",
    "    test_loss /= len(test_loader.dataset)\n",
    "\n",
    "    print('\\nTest set: Average Loss: {:.4f}, Accuracy: {}/{} ({:.0f}%)\\n'.format(\n",
    "        test_loss, correct, len(test_loader.dataset), 100. * correct / len(test_loader.dataset)))"
   ]
  },
  {
   "cell_type": "markdown",
   "id": "f657cd74",
   "metadata": {},
   "source": [
    "```\n",
    "loss = F.cross_entropy(예측, 정답)  \n",
    "tf.keras.losses.CategoricalCrossentropy(정답, 예측) : 정답, 예측 모두 one-hot 인코딩 된 값\n",
    "tf.keras.losses.SparseCategoricalCrossentropy(정답, 예측) : 정답으로 one-hot 인코딩 안된 label을 입력하는것도 가능\n",
    "파이토치에서는 모델에 F.log_softmax() 사용, loss = F.nll_loss(예측, 정답) 을 사용하면 된다.\n",
    "```"
   ]
  },
  {
   "cell_type": "code",
   "execution_count": null,
   "id": "25e03c69",
   "metadata": {},
   "outputs": [],
   "source": []
  }
 ],
 "metadata": {
  "kernelspec": {
   "display_name": "Python 3 (ipykernel)",
   "language": "python",
   "name": "python3"
  },
  "language_info": {
   "codemirror_mode": {
    "name": "ipython",
    "version": 3
   },
   "file_extension": ".py",
   "mimetype": "text/x-python",
   "name": "python",
   "nbconvert_exporter": "python",
   "pygments_lexer": "ipython3",
   "version": "3.10.6"
  }
 },
 "nbformat": 4,
 "nbformat_minor": 5
}
